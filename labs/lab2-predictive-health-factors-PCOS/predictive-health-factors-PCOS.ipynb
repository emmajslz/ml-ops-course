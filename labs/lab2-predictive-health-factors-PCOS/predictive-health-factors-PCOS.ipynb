{
 "cells": [
  {
   "cell_type": "code",
   "execution_count": 1,
   "metadata": {},
   "outputs": [],
   "source": [
    "import pandas as pd\n",
    "import numpy as np\n",
    "import matplotlib.pyplot as plt\n",
    "\n",
    "import mlflow\n",
    "\n",
    "from sklearn.ensemble import RandomForestClassifier\n",
    "from sklearn.linear_model import LogisticRegression\n",
    "from sklearn.tree import DecisionTreeClassifier\n",
    "\n",
    "from sklearn.model_selection import train_test_split\n",
    "from sklearn.model_selection import ParameterGrid\n",
    "\n",
    "from sklearn.pipeline import Pipeline\n",
    "from sklearn.compose import ColumnTransformer\n",
    "from sklearn.preprocessing import OneHotEncoder, StandardScaler\n",
    "from sklearn.feature_selection import SelectFromModel\n",
    "\n",
    "from sklearn.metrics import classification_report, accuracy_score\n",
    "\n",
    "import warnings\n",
    "warnings.filterwarnings(\"ignore\", category=UserWarning)\n",
    "\n",
    "from tqdm import tqdm\n",
    "import os"
   ]
  },
  {
   "cell_type": "code",
   "execution_count": 2,
   "metadata": {},
   "outputs": [
    {
     "data": {
      "text/plain": [
       "'/Users/emmajuansalazar/Documents/spring-mod-2/ml-ops'"
      ]
     },
     "execution_count": 2,
     "metadata": {},
     "output_type": "execute_result"
    }
   ],
   "source": [
    "wd = os.getcwd().split(\"/\")\n",
    "repo_i = wd.index(\"ml-ops\")\n",
    "repo_path = \"/\".join(wd[:repo_i+1])\n",
    "repo_path"
   ]
  },
  {
   "cell_type": "markdown",
   "metadata": {},
   "source": [
    "# The Data"
   ]
  },
  {
   "cell_type": "markdown",
   "metadata": {},
   "source": [
    "**Exploring Predictive Health Factors**\n",
    "\n",
    "[Kaggle Competition](https://www.kaggle.com/competitions/exploring-predictive-health-factors/data?select=train.csv)\n",
    "\n",
    "Polycystic ovary syndrome (PCOS) is a common endocrine disorder that affects the reproductive health and quality of life of millions of women worldwide. Research has shown that lifestyle choices such as diet, exercise, stress management, etc. have a significant impact on the pathogenesis and symptom relief of PCOS. However, there are still many gaps in research on the relationship between lifestyle and PCOS, especially in terms of individual differences and comprehensive lifestyle interventions.\n",
    "\n",
    "In order to promote research progress in this field, we are organizing the \"Polycystic Ovary Syndrome (PCOS) Lifestyle Impact Research Competition\". The aim is to use data-driven methods to deeply analyze the impact of lifestyle choices on PCOS, and provide scientific basis for clinical intervention and health management."
   ]
  },
  {
   "cell_type": "code",
   "execution_count": 3,
   "metadata": {},
   "outputs": [],
   "source": [
    "pcos = pd.read_csv(f\"{repo_path}/data/pcos/train.csv\")"
   ]
  },
  {
   "cell_type": "code",
   "execution_count": 4,
   "metadata": {},
   "outputs": [
    {
     "data": {
      "text/html": [
       "<div>\n",
       "<style scoped>\n",
       "    .dataframe tbody tr th:only-of-type {\n",
       "        vertical-align: middle;\n",
       "    }\n",
       "\n",
       "    .dataframe tbody tr th {\n",
       "        vertical-align: top;\n",
       "    }\n",
       "\n",
       "    .dataframe thead th {\n",
       "        text-align: right;\n",
       "    }\n",
       "</style>\n",
       "<table border=\"1\" class=\"dataframe\">\n",
       "  <thead>\n",
       "    <tr style=\"text-align: right;\">\n",
       "      <th></th>\n",
       "      <th>ID</th>\n",
       "      <th>Age</th>\n",
       "      <th>Weight_kg</th>\n",
       "      <th>PCOS</th>\n",
       "      <th>Hormonal_Imbalance</th>\n",
       "      <th>Hyperandrogenism</th>\n",
       "      <th>Hirsutism</th>\n",
       "      <th>Conception_Difficulty</th>\n",
       "      <th>Insulin_Resistance</th>\n",
       "      <th>Exercise_Frequency</th>\n",
       "      <th>Exercise_Type</th>\n",
       "      <th>Exercise_Duration</th>\n",
       "      <th>Sleep_Hours</th>\n",
       "      <th>Exercise_Benefit</th>\n",
       "    </tr>\n",
       "  </thead>\n",
       "  <tbody>\n",
       "    <tr>\n",
       "      <th>0</th>\n",
       "      <td>0</td>\n",
       "      <td>20-25</td>\n",
       "      <td>64.0</td>\n",
       "      <td>No</td>\n",
       "      <td>No</td>\n",
       "      <td>No</td>\n",
       "      <td>No</td>\n",
       "      <td>No</td>\n",
       "      <td>No</td>\n",
       "      <td>Rarely</td>\n",
       "      <td>Cardio (e.g., running, cycling, swimming)</td>\n",
       "      <td>30 minutes</td>\n",
       "      <td>Less than 6 hours</td>\n",
       "      <td>Somewhat</td>\n",
       "    </tr>\n",
       "    <tr>\n",
       "      <th>1</th>\n",
       "      <td>1</td>\n",
       "      <td>15-20</td>\n",
       "      <td>55.0</td>\n",
       "      <td>No</td>\n",
       "      <td>No</td>\n",
       "      <td>No</td>\n",
       "      <td>No</td>\n",
       "      <td>No</td>\n",
       "      <td>No</td>\n",
       "      <td>6-8 Times a Week</td>\n",
       "      <td>No Exercise</td>\n",
       "      <td>Less than 30 minutes</td>\n",
       "      <td>6-8 hours</td>\n",
       "      <td>Somewhat</td>\n",
       "    </tr>\n",
       "    <tr>\n",
       "      <th>2</th>\n",
       "      <td>2</td>\n",
       "      <td>15-20</td>\n",
       "      <td>91.0</td>\n",
       "      <td>No</td>\n",
       "      <td>No</td>\n",
       "      <td>No</td>\n",
       "      <td>Yes</td>\n",
       "      <td>No</td>\n",
       "      <td>No</td>\n",
       "      <td>Rarely</td>\n",
       "      <td>Cardio (e.g., running, cycling, swimming)</td>\n",
       "      <td>Less than 30 minutes</td>\n",
       "      <td>6-8 hours</td>\n",
       "      <td>Somewhat</td>\n",
       "    </tr>\n",
       "    <tr>\n",
       "      <th>3</th>\n",
       "      <td>3</td>\n",
       "      <td>15-20</td>\n",
       "      <td>56.0</td>\n",
       "      <td>No</td>\n",
       "      <td>No</td>\n",
       "      <td>No</td>\n",
       "      <td>No</td>\n",
       "      <td>No</td>\n",
       "      <td>No</td>\n",
       "      <td>6-8 Times a Week</td>\n",
       "      <td>Cardio (e.g., running, cycling, swimming)</td>\n",
       "      <td>45 minutes</td>\n",
       "      <td>6-8 hours</td>\n",
       "      <td>Not at All</td>\n",
       "    </tr>\n",
       "    <tr>\n",
       "      <th>4</th>\n",
       "      <td>4</td>\n",
       "      <td>15-20</td>\n",
       "      <td>47.0</td>\n",
       "      <td>No</td>\n",
       "      <td>Yes</td>\n",
       "      <td>No</td>\n",
       "      <td>No</td>\n",
       "      <td>No</td>\n",
       "      <td>No</td>\n",
       "      <td>Rarely</td>\n",
       "      <td>No Exercise</td>\n",
       "      <td>Not Applicable</td>\n",
       "      <td>6-8 hours</td>\n",
       "      <td>Not Much</td>\n",
       "    </tr>\n",
       "  </tbody>\n",
       "</table>\n",
       "</div>"
      ],
      "text/plain": [
       "   ID    Age  Weight_kg PCOS Hormonal_Imbalance Hyperandrogenism Hirsutism  \\\n",
       "0   0  20-25       64.0   No                 No               No        No   \n",
       "1   1  15-20       55.0   No                 No               No        No   \n",
       "2   2  15-20       91.0   No                 No               No       Yes   \n",
       "3   3  15-20       56.0   No                 No               No        No   \n",
       "4   4  15-20       47.0   No                Yes               No        No   \n",
       "\n",
       "  Conception_Difficulty Insulin_Resistance Exercise_Frequency  \\\n",
       "0                    No                 No             Rarely   \n",
       "1                    No                 No   6-8 Times a Week   \n",
       "2                    No                 No             Rarely   \n",
       "3                    No                 No   6-8 Times a Week   \n",
       "4                    No                 No             Rarely   \n",
       "\n",
       "                               Exercise_Type     Exercise_Duration  \\\n",
       "0  Cardio (e.g., running, cycling, swimming)            30 minutes   \n",
       "1                                No Exercise  Less than 30 minutes   \n",
       "2  Cardio (e.g., running, cycling, swimming)  Less than 30 minutes   \n",
       "3  Cardio (e.g., running, cycling, swimming)            45 minutes   \n",
       "4                                No Exercise        Not Applicable   \n",
       "\n",
       "         Sleep_Hours Exercise_Benefit  \n",
       "0  Less than 6 hours         Somewhat  \n",
       "1          6-8 hours         Somewhat  \n",
       "2          6-8 hours         Somewhat  \n",
       "3          6-8 hours       Not at All  \n",
       "4          6-8 hours         Not Much  "
      ]
     },
     "execution_count": 4,
     "metadata": {},
     "output_type": "execute_result"
    }
   ],
   "source": [
    "pcos.head()"
   ]
  },
  {
   "cell_type": "code",
   "execution_count": 5,
   "metadata": {},
   "outputs": [
    {
     "name": "stdout",
     "output_type": "stream",
     "text": [
      "<class 'pandas.core.frame.DataFrame'>\n",
      "RangeIndex: 210 entries, 0 to 209\n",
      "Data columns (total 14 columns):\n",
      " #   Column                 Non-Null Count  Dtype  \n",
      "---  ------                 --------------  -----  \n",
      " 0   ID                     210 non-null    int64  \n",
      " 1   Age                    209 non-null    object \n",
      " 2   Weight_kg              208 non-null    float64\n",
      " 3   PCOS                   210 non-null    object \n",
      " 4   Hormonal_Imbalance     208 non-null    object \n",
      " 5   Hyperandrogenism       207 non-null    object \n",
      " 6   Hirsutism              205 non-null    object \n",
      " 7   Conception_Difficulty  209 non-null    object \n",
      " 8   Insulin_Resistance     209 non-null    object \n",
      " 9   Exercise_Frequency     208 non-null    object \n",
      " 10  Exercise_Type          208 non-null    object \n",
      " 11  Exercise_Duration      208 non-null    object \n",
      " 12  Sleep_Hours            208 non-null    object \n",
      " 13  Exercise_Benefit       209 non-null    object \n",
      "dtypes: float64(1), int64(1), object(12)\n",
      "memory usage: 23.1+ KB\n"
     ]
    }
   ],
   "source": [
    "pcos.info()"
   ]
  },
  {
   "cell_type": "code",
   "execution_count": 6,
   "metadata": {},
   "outputs": [],
   "source": [
    "pcos = pcos.set_index(\"ID\")\n",
    "pcos = pcos.iloc[:,[1,0] + list(range(2,13))]"
   ]
  },
  {
   "cell_type": "code",
   "execution_count": 7,
   "metadata": {},
   "outputs": [
    {
     "data": {
      "text/plain": [
       "(210, 13)"
      ]
     },
     "execution_count": 7,
     "metadata": {},
     "output_type": "execute_result"
    }
   ],
   "source": [
    "pcos.shape"
   ]
  },
  {
   "cell_type": "code",
   "execution_count": 8,
   "metadata": {},
   "outputs": [
    {
     "data": {
      "image/png": "[encoded data removed]",
      "text/plain": [
       "<Figure size 800x500 with 1 Axes>"
      ]
     },
     "metadata": {},
     "output_type": "display_data"
    }
   ],
   "source": [
    "plt.figure(figsize=(8, 5))\n",
    "plt.hist(pcos['Weight_kg'], bins=20)\n",
    "plt.title('Weight Distribution')\n",
    "plt.xlabel('Weight')\n",
    "plt.ylabel('Frequency')\n",
    "plt.show()"
   ]
  },
  {
   "cell_type": "code",
   "execution_count": 9,
   "metadata": {},
   "outputs": [
    {
     "data": {
      "text/html": [
       "<div>\n",
       "<style scoped>\n",
       "    .dataframe tbody tr th:only-of-type {\n",
       "        vertical-align: middle;\n",
       "    }\n",
       "\n",
       "    .dataframe tbody tr th {\n",
       "        vertical-align: top;\n",
       "    }\n",
       "\n",
       "    .dataframe thead th {\n",
       "        text-align: right;\n",
       "    }\n",
       "</style>\n",
       "<table border=\"1\" class=\"dataframe\">\n",
       "  <thead>\n",
       "    <tr style=\"text-align: right;\">\n",
       "      <th></th>\n",
       "      <th>Age</th>\n",
       "      <th>0</th>\n",
       "    </tr>\n",
       "  </thead>\n",
       "  <tbody>\n",
       "    <tr>\n",
       "      <th>0</th>\n",
       "      <td>15-20</td>\n",
       "      <td>50</td>\n",
       "    </tr>\n",
       "    <tr>\n",
       "      <th>1</th>\n",
       "      <td>20-25</td>\n",
       "      <td>125</td>\n",
       "    </tr>\n",
       "    <tr>\n",
       "      <th>2</th>\n",
       "      <td>25-30</td>\n",
       "      <td>4</td>\n",
       "    </tr>\n",
       "    <tr>\n",
       "      <th>3</th>\n",
       "      <td>30-25</td>\n",
       "      <td>1</td>\n",
       "    </tr>\n",
       "    <tr>\n",
       "      <th>4</th>\n",
       "      <td>30-35</td>\n",
       "      <td>2</td>\n",
       "    </tr>\n",
       "    <tr>\n",
       "      <th>5</th>\n",
       "      <td>30-40</td>\n",
       "      <td>1</td>\n",
       "    </tr>\n",
       "    <tr>\n",
       "      <th>6</th>\n",
       "      <td>35-44</td>\n",
       "      <td>4</td>\n",
       "    </tr>\n",
       "    <tr>\n",
       "      <th>7</th>\n",
       "      <td>45 and above</td>\n",
       "      <td>3</td>\n",
       "    </tr>\n",
       "    <tr>\n",
       "      <th>8</th>\n",
       "      <td>Less than 20</td>\n",
       "      <td>18</td>\n",
       "    </tr>\n",
       "    <tr>\n",
       "      <th>9</th>\n",
       "      <td>Less than 20-25</td>\n",
       "      <td>1</td>\n",
       "    </tr>\n",
       "  </tbody>\n",
       "</table>\n",
       "</div>"
      ],
      "text/plain": [
       "               Age    0\n",
       "0            15-20   50\n",
       "1            20-25  125\n",
       "2            25-30    4\n",
       "3            30-25    1\n",
       "4            30-35    2\n",
       "5            30-40    1\n",
       "6            35-44    4\n",
       "7     45 and above    3\n",
       "8     Less than 20   18\n",
       "9  Less than 20-25    1"
      ]
     },
     "metadata": {},
     "output_type": "display_data"
    },
    {
     "data": {
      "text/html": [
       "<div>\n",
       "<style scoped>\n",
       "    .dataframe tbody tr th:only-of-type {\n",
       "        vertical-align: middle;\n",
       "    }\n",
       "\n",
       "    .dataframe tbody tr th {\n",
       "        vertical-align: top;\n",
       "    }\n",
       "\n",
       "    .dataframe thead th {\n",
       "        text-align: right;\n",
       "    }\n",
       "</style>\n",
       "<table border=\"1\" class=\"dataframe\">\n",
       "  <thead>\n",
       "    <tr style=\"text-align: right;\">\n",
       "      <th></th>\n",
       "      <th>PCOS</th>\n",
       "      <th>0</th>\n",
       "    </tr>\n",
       "  </thead>\n",
       "  <tbody>\n",
       "    <tr>\n",
       "      <th>0</th>\n",
       "      <td>No</td>\n",
       "      <td>164</td>\n",
       "    </tr>\n",
       "    <tr>\n",
       "      <th>1</th>\n",
       "      <td>Yes</td>\n",
       "      <td>46</td>\n",
       "    </tr>\n",
       "  </tbody>\n",
       "</table>\n",
       "</div>"
      ],
      "text/plain": [
       "  PCOS    0\n",
       "0   No  164\n",
       "1  Yes   46"
      ]
     },
     "metadata": {},
     "output_type": "display_data"
    },
    {
     "data": {
      "text/html": [
       "<div>\n",
       "<style scoped>\n",
       "    .dataframe tbody tr th:only-of-type {\n",
       "        vertical-align: middle;\n",
       "    }\n",
       "\n",
       "    .dataframe tbody tr th {\n",
       "        vertical-align: top;\n",
       "    }\n",
       "\n",
       "    .dataframe thead th {\n",
       "        text-align: right;\n",
       "    }\n",
       "</style>\n",
       "<table border=\"1\" class=\"dataframe\">\n",
       "  <thead>\n",
       "    <tr style=\"text-align: right;\">\n",
       "      <th></th>\n",
       "      <th>Hormonal_Imbalance</th>\n",
       "      <th>0</th>\n",
       "    </tr>\n",
       "  </thead>\n",
       "  <tbody>\n",
       "    <tr>\n",
       "      <th>0</th>\n",
       "      <td>No</td>\n",
       "      <td>95</td>\n",
       "    </tr>\n",
       "    <tr>\n",
       "      <th>1</th>\n",
       "      <td>No, Yes, not diagnosed by a doctor</td>\n",
       "      <td>1</td>\n",
       "    </tr>\n",
       "    <tr>\n",
       "      <th>2</th>\n",
       "      <td>Yes</td>\n",
       "      <td>111</td>\n",
       "    </tr>\n",
       "    <tr>\n",
       "      <th>3</th>\n",
       "      <td>Yes Significantly</td>\n",
       "      <td>1</td>\n",
       "    </tr>\n",
       "  </tbody>\n",
       "</table>\n",
       "</div>"
      ],
      "text/plain": [
       "                   Hormonal_Imbalance    0\n",
       "0                                  No   95\n",
       "1  No, Yes, not diagnosed by a doctor    1\n",
       "2                                 Yes  111\n",
       "3                   Yes Significantly    1"
      ]
     },
     "metadata": {},
     "output_type": "display_data"
    },
    {
     "data": {
      "text/html": [
       "<div>\n",
       "<style scoped>\n",
       "    .dataframe tbody tr th:only-of-type {\n",
       "        vertical-align: middle;\n",
       "    }\n",
       "\n",
       "    .dataframe tbody tr th {\n",
       "        vertical-align: top;\n",
       "    }\n",
       "\n",
       "    .dataframe thead th {\n",
       "        text-align: right;\n",
       "    }\n",
       "</style>\n",
       "<table border=\"1\" class=\"dataframe\">\n",
       "  <thead>\n",
       "    <tr style=\"text-align: right;\">\n",
       "      <th></th>\n",
       "      <th>Hyperandrogenism</th>\n",
       "      <th>0</th>\n",
       "    </tr>\n",
       "  </thead>\n",
       "  <tbody>\n",
       "    <tr>\n",
       "      <th>0</th>\n",
       "      <td>No</td>\n",
       "      <td>175</td>\n",
       "    </tr>\n",
       "    <tr>\n",
       "      <th>1</th>\n",
       "      <td>Yes</td>\n",
       "      <td>32</td>\n",
       "    </tr>\n",
       "  </tbody>\n",
       "</table>\n",
       "</div>"
      ],
      "text/plain": [
       "  Hyperandrogenism    0\n",
       "0               No  175\n",
       "1              Yes   32"
      ]
     },
     "metadata": {},
     "output_type": "display_data"
    },
    {
     "data": {
      "text/html": [
       "<div>\n",
       "<style scoped>\n",
       "    .dataframe tbody tr th:only-of-type {\n",
       "        vertical-align: middle;\n",
       "    }\n",
       "\n",
       "    .dataframe tbody tr th {\n",
       "        vertical-align: top;\n",
       "    }\n",
       "\n",
       "    .dataframe thead th {\n",
       "        text-align: right;\n",
       "    }\n",
       "</style>\n",
       "<table border=\"1\" class=\"dataframe\">\n",
       "  <thead>\n",
       "    <tr style=\"text-align: right;\">\n",
       "      <th></th>\n",
       "      <th>Hirsutism</th>\n",
       "      <th>0</th>\n",
       "    </tr>\n",
       "  </thead>\n",
       "  <tbody>\n",
       "    <tr>\n",
       "      <th>0</th>\n",
       "      <td>No</td>\n",
       "      <td>148</td>\n",
       "    </tr>\n",
       "    <tr>\n",
       "      <th>1</th>\n",
       "      <td>No, Yes, not diagnosed by a doctor</td>\n",
       "      <td>2</td>\n",
       "    </tr>\n",
       "    <tr>\n",
       "      <th>2</th>\n",
       "      <td>Yes</td>\n",
       "      <td>55</td>\n",
       "    </tr>\n",
       "  </tbody>\n",
       "</table>\n",
       "</div>"
      ],
      "text/plain": [
       "                            Hirsutism    0\n",
       "0                                  No  148\n",
       "1  No, Yes, not diagnosed by a doctor    2\n",
       "2                                 Yes   55"
      ]
     },
     "metadata": {},
     "output_type": "display_data"
    },
    {
     "data": {
      "text/html": [
       "<div>\n",
       "<style scoped>\n",
       "    .dataframe tbody tr th:only-of-type {\n",
       "        vertical-align: middle;\n",
       "    }\n",
       "\n",
       "    .dataframe tbody tr th {\n",
       "        vertical-align: top;\n",
       "    }\n",
       "\n",
       "    .dataframe thead th {\n",
       "        text-align: right;\n",
       "    }\n",
       "</style>\n",
       "<table border=\"1\" class=\"dataframe\">\n",
       "  <thead>\n",
       "    <tr style=\"text-align: right;\">\n",
       "      <th></th>\n",
       "      <th>Conception_Difficulty</th>\n",
       "      <th>0</th>\n",
       "    </tr>\n",
       "  </thead>\n",
       "  <tbody>\n",
       "    <tr>\n",
       "      <th>0</th>\n",
       "      <td>No</td>\n",
       "      <td>201</td>\n",
       "    </tr>\n",
       "    <tr>\n",
       "      <th>1</th>\n",
       "      <td>No, Yes, not diagnosed by a doctor</td>\n",
       "      <td>1</td>\n",
       "    </tr>\n",
       "    <tr>\n",
       "      <th>2</th>\n",
       "      <td>Yes</td>\n",
       "      <td>1</td>\n",
       "    </tr>\n",
       "    <tr>\n",
       "      <th>3</th>\n",
       "      <td>Yes, diagnosed by a doctor</td>\n",
       "      <td>6</td>\n",
       "    </tr>\n",
       "  </tbody>\n",
       "</table>\n",
       "</div>"
      ],
      "text/plain": [
       "                Conception_Difficulty    0\n",
       "0                                  No  201\n",
       "1  No, Yes, not diagnosed by a doctor    1\n",
       "2                                 Yes    1\n",
       "3          Yes, diagnosed by a doctor    6"
      ]
     },
     "metadata": {},
     "output_type": "display_data"
    },
    {
     "data": {
      "text/html": [
       "<div>\n",
       "<style scoped>\n",
       "    .dataframe tbody tr th:only-of-type {\n",
       "        vertical-align: middle;\n",
       "    }\n",
       "\n",
       "    .dataframe tbody tr th {\n",
       "        vertical-align: top;\n",
       "    }\n",
       "\n",
       "    .dataframe thead th {\n",
       "        text-align: right;\n",
       "    }\n",
       "</style>\n",
       "<table border=\"1\" class=\"dataframe\">\n",
       "  <thead>\n",
       "    <tr style=\"text-align: right;\">\n",
       "      <th></th>\n",
       "      <th>Insulin_Resistance</th>\n",
       "      <th>0</th>\n",
       "    </tr>\n",
       "  </thead>\n",
       "  <tbody>\n",
       "    <tr>\n",
       "      <th>0</th>\n",
       "      <td>No</td>\n",
       "      <td>185</td>\n",
       "    </tr>\n",
       "    <tr>\n",
       "      <th>1</th>\n",
       "      <td>No, Yes, not diagnosed by a doctor</td>\n",
       "      <td>1</td>\n",
       "    </tr>\n",
       "    <tr>\n",
       "      <th>2</th>\n",
       "      <td>Yes</td>\n",
       "      <td>23</td>\n",
       "    </tr>\n",
       "  </tbody>\n",
       "</table>\n",
       "</div>"
      ],
      "text/plain": [
       "                   Insulin_Resistance    0\n",
       "0                                  No  185\n",
       "1  No, Yes, not diagnosed by a doctor    1\n",
       "2                                 Yes   23"
      ]
     },
     "metadata": {},
     "output_type": "display_data"
    },
    {
     "data": {
      "text/html": [
       "<div>\n",
       "<style scoped>\n",
       "    .dataframe tbody tr th:only-of-type {\n",
       "        vertical-align: middle;\n",
       "    }\n",
       "\n",
       "    .dataframe tbody tr th {\n",
       "        vertical-align: top;\n",
       "    }\n",
       "\n",
       "    .dataframe thead th {\n",
       "        text-align: right;\n",
       "    }\n",
       "</style>\n",
       "<table border=\"1\" class=\"dataframe\">\n",
       "  <thead>\n",
       "    <tr style=\"text-align: right;\">\n",
       "      <th></th>\n",
       "      <th>Exercise_Frequency</th>\n",
       "      <th>0</th>\n",
       "    </tr>\n",
       "  </thead>\n",
       "  <tbody>\n",
       "    <tr>\n",
       "      <th>0</th>\n",
       "      <td>1-2 Times a Week</td>\n",
       "      <td>35</td>\n",
       "    </tr>\n",
       "    <tr>\n",
       "      <th>1</th>\n",
       "      <td>3-4 Times a Week</td>\n",
       "      <td>23</td>\n",
       "    </tr>\n",
       "    <tr>\n",
       "      <th>2</th>\n",
       "      <td>6-8 Times a Week</td>\n",
       "      <td>17</td>\n",
       "    </tr>\n",
       "    <tr>\n",
       "      <th>3</th>\n",
       "      <td>6-8 hours</td>\n",
       "      <td>1</td>\n",
       "    </tr>\n",
       "    <tr>\n",
       "      <th>4</th>\n",
       "      <td>Less than 6 hours</td>\n",
       "      <td>1</td>\n",
       "    </tr>\n",
       "    <tr>\n",
       "      <th>5</th>\n",
       "      <td>Less than usual</td>\n",
       "      <td>1</td>\n",
       "    </tr>\n",
       "    <tr>\n",
       "      <th>6</th>\n",
       "      <td>Never</td>\n",
       "      <td>28</td>\n",
       "    </tr>\n",
       "    <tr>\n",
       "      <th>7</th>\n",
       "      <td>Rarely</td>\n",
       "      <td>102</td>\n",
       "    </tr>\n",
       "  </tbody>\n",
       "</table>\n",
       "</div>"
      ],
      "text/plain": [
       "  Exercise_Frequency    0\n",
       "0   1-2 Times a Week   35\n",
       "1   3-4 Times a Week   23\n",
       "2   6-8 Times a Week   17\n",
       "3          6-8 hours    1\n",
       "4  Less than 6 hours    1\n",
       "5    Less than usual    1\n",
       "6              Never   28\n",
       "7             Rarely  102"
      ]
     },
     "metadata": {},
     "output_type": "display_data"
    },
    {
     "data": {
      "text/html": [
       "<div>\n",
       "<style scoped>\n",
       "    .dataframe tbody tr th:only-of-type {\n",
       "        vertical-align: middle;\n",
       "    }\n",
       "\n",
       "    .dataframe tbody tr th {\n",
       "        vertical-align: top;\n",
       "    }\n",
       "\n",
       "    .dataframe thead th {\n",
       "        text-align: right;\n",
       "    }\n",
       "</style>\n",
       "<table border=\"1\" class=\"dataframe\">\n",
       "  <thead>\n",
       "    <tr style=\"text-align: right;\">\n",
       "      <th></th>\n",
       "      <th>Exercise_Type</th>\n",
       "      <th>0</th>\n",
       "    </tr>\n",
       "  </thead>\n",
       "  <tbody>\n",
       "    <tr>\n",
       "      <th>0</th>\n",
       "      <td>Cardio (e.g.</td>\n",
       "      <td>25</td>\n",
       "    </tr>\n",
       "    <tr>\n",
       "      <th>1</th>\n",
       "      <td>Cardio (e.g., running, cycling, swimming)</td>\n",
       "      <td>51</td>\n",
       "    </tr>\n",
       "    <tr>\n",
       "      <th>2</th>\n",
       "      <td>Cardio (e.g., running, cycling, swimming), Fle...</td>\n",
       "      <td>4</td>\n",
       "    </tr>\n",
       "    <tr>\n",
       "      <th>3</th>\n",
       "      <td>Cardio (e.g., running, cycling, swimming), None</td>\n",
       "      <td>1</td>\n",
       "    </tr>\n",
       "    <tr>\n",
       "      <th>4</th>\n",
       "      <td>Cardio (e.g., running, cycling, swimming), Str...</td>\n",
       "      <td>4</td>\n",
       "    </tr>\n",
       "    <tr>\n",
       "      <th>5</th>\n",
       "      <td>Cardio (e.g., running, cycling, swimming), Str...</td>\n",
       "      <td>2</td>\n",
       "    </tr>\n",
       "    <tr>\n",
       "      <th>6</th>\n",
       "      <td>Flexibility and balance (e.g.</td>\n",
       "      <td>1</td>\n",
       "    </tr>\n",
       "    <tr>\n",
       "      <th>7</th>\n",
       "      <td>Flexibility and balance (e.g., yoga, pilates)</td>\n",
       "      <td>16</td>\n",
       "    </tr>\n",
       "    <tr>\n",
       "      <th>8</th>\n",
       "      <td>Flexibility and balance (e.g., yoga, pilates),...</td>\n",
       "      <td>1</td>\n",
       "    </tr>\n",
       "    <tr>\n",
       "      <th>9</th>\n",
       "      <td>High-intensity interval training (HIIT)</td>\n",
       "      <td>3</td>\n",
       "    </tr>\n",
       "    <tr>\n",
       "      <th>10</th>\n",
       "      <td>No Exercise</td>\n",
       "      <td>90</td>\n",
       "    </tr>\n",
       "    <tr>\n",
       "      <th>11</th>\n",
       "      <td>Somewhat</td>\n",
       "      <td>1</td>\n",
       "    </tr>\n",
       "    <tr>\n",
       "      <th>12</th>\n",
       "      <td>Strength training</td>\n",
       "      <td>1</td>\n",
       "    </tr>\n",
       "    <tr>\n",
       "      <th>13</th>\n",
       "      <td>Strength training (e.g.</td>\n",
       "      <td>1</td>\n",
       "    </tr>\n",
       "    <tr>\n",
       "      <th>14</th>\n",
       "      <td>Strength training (e.g., weightlifting, resist...</td>\n",
       "      <td>6</td>\n",
       "    </tr>\n",
       "    <tr>\n",
       "      <th>15</th>\n",
       "      <td>Strength training (e.g., weightlifting, resist...</td>\n",
       "      <td>1</td>\n",
       "    </tr>\n",
       "  </tbody>\n",
       "</table>\n",
       "</div>"
      ],
      "text/plain": [
       "                                        Exercise_Type   0\n",
       "0                                        Cardio (e.g.  25\n",
       "1           Cardio (e.g., running, cycling, swimming)  51\n",
       "2   Cardio (e.g., running, cycling, swimming), Fle...   4\n",
       "3     Cardio (e.g., running, cycling, swimming), None   1\n",
       "4   Cardio (e.g., running, cycling, swimming), Str...   4\n",
       "5   Cardio (e.g., running, cycling, swimming), Str...   2\n",
       "6                       Flexibility and balance (e.g.   1\n",
       "7       Flexibility and balance (e.g., yoga, pilates)  16\n",
       "8   Flexibility and balance (e.g., yoga, pilates),...   1\n",
       "9             High-intensity interval training (HIIT)   3\n",
       "10                                        No Exercise  90\n",
       "11                                           Somewhat   1\n",
       "12                                  Strength training   1\n",
       "13                            Strength training (e.g.   1\n",
       "14  Strength training (e.g., weightlifting, resist...   6\n",
       "15  Strength training (e.g., weightlifting, resist...   1"
      ]
     },
     "metadata": {},
     "output_type": "display_data"
    },
    {
     "data": {
      "text/html": [
       "<div>\n",
       "<style scoped>\n",
       "    .dataframe tbody tr th:only-of-type {\n",
       "        vertical-align: middle;\n",
       "    }\n",
       "\n",
       "    .dataframe tbody tr th {\n",
       "        vertical-align: top;\n",
       "    }\n",
       "\n",
       "    .dataframe thead th {\n",
       "        text-align: right;\n",
       "    }\n",
       "</style>\n",
       "<table border=\"1\" class=\"dataframe\">\n",
       "  <thead>\n",
       "    <tr style=\"text-align: right;\">\n",
       "      <th></th>\n",
       "      <th>Exercise_Duration</th>\n",
       "      <th>0</th>\n",
       "    </tr>\n",
       "  </thead>\n",
       "  <tbody>\n",
       "    <tr>\n",
       "      <th>0</th>\n",
       "      <td>20 minutes</td>\n",
       "      <td>1</td>\n",
       "    </tr>\n",
       "    <tr>\n",
       "      <th>1</th>\n",
       "      <td>30 minutes</td>\n",
       "      <td>33</td>\n",
       "    </tr>\n",
       "    <tr>\n",
       "      <th>2</th>\n",
       "      <td>30 minutes to 1 hour</td>\n",
       "      <td>1</td>\n",
       "    </tr>\n",
       "    <tr>\n",
       "      <th>3</th>\n",
       "      <td>45 minutes</td>\n",
       "      <td>17</td>\n",
       "    </tr>\n",
       "    <tr>\n",
       "      <th>4</th>\n",
       "      <td>Less than 30 minutes</td>\n",
       "      <td>62</td>\n",
       "    </tr>\n",
       "    <tr>\n",
       "      <th>5</th>\n",
       "      <td>Less than 6 hours</td>\n",
       "      <td>1</td>\n",
       "    </tr>\n",
       "    <tr>\n",
       "      <th>6</th>\n",
       "      <td>More than 30 minutes</td>\n",
       "      <td>7</td>\n",
       "    </tr>\n",
       "    <tr>\n",
       "      <th>7</th>\n",
       "      <td>Not Applicable</td>\n",
       "      <td>86</td>\n",
       "    </tr>\n",
       "  </tbody>\n",
       "</table>\n",
       "</div>"
      ],
      "text/plain": [
       "      Exercise_Duration   0\n",
       "0            20 minutes   1\n",
       "1            30 minutes  33\n",
       "2  30 minutes to 1 hour   1\n",
       "3            45 minutes  17\n",
       "4  Less than 30 minutes  62\n",
       "5     Less than 6 hours   1\n",
       "6  More than 30 minutes   7\n",
       "7        Not Applicable  86"
      ]
     },
     "metadata": {},
     "output_type": "display_data"
    },
    {
     "data": {
      "text/html": [
       "<div>\n",
       "<style scoped>\n",
       "    .dataframe tbody tr th:only-of-type {\n",
       "        vertical-align: middle;\n",
       "    }\n",
       "\n",
       "    .dataframe tbody tr th {\n",
       "        vertical-align: top;\n",
       "    }\n",
       "\n",
       "    .dataframe thead th {\n",
       "        text-align: right;\n",
       "    }\n",
       "</style>\n",
       "<table border=\"1\" class=\"dataframe\">\n",
       "  <thead>\n",
       "    <tr style=\"text-align: right;\">\n",
       "      <th></th>\n",
       "      <th>Sleep_Hours</th>\n",
       "      <th>0</th>\n",
       "    </tr>\n",
       "  </thead>\n",
       "  <tbody>\n",
       "    <tr>\n",
       "      <th>0</th>\n",
       "      <td>3-4 hours</td>\n",
       "      <td>1</td>\n",
       "    </tr>\n",
       "    <tr>\n",
       "      <th>1</th>\n",
       "      <td>6-8 hours</td>\n",
       "      <td>135</td>\n",
       "    </tr>\n",
       "    <tr>\n",
       "      <th>2</th>\n",
       "      <td>9-12 hours</td>\n",
       "      <td>13</td>\n",
       "    </tr>\n",
       "    <tr>\n",
       "      <th>3</th>\n",
       "      <td>Less than 6 hours</td>\n",
       "      <td>58</td>\n",
       "    </tr>\n",
       "    <tr>\n",
       "      <th>4</th>\n",
       "      <td>More than 12 hours</td>\n",
       "      <td>1</td>\n",
       "    </tr>\n",
       "  </tbody>\n",
       "</table>\n",
       "</div>"
      ],
      "text/plain": [
       "          Sleep_Hours    0\n",
       "0           3-4 hours    1\n",
       "1           6-8 hours  135\n",
       "2          9-12 hours   13\n",
       "3   Less than 6 hours   58\n",
       "4  More than 12 hours    1"
      ]
     },
     "metadata": {},
     "output_type": "display_data"
    },
    {
     "data": {
      "text/html": [
       "<div>\n",
       "<style scoped>\n",
       "    .dataframe tbody tr th:only-of-type {\n",
       "        vertical-align: middle;\n",
       "    }\n",
       "\n",
       "    .dataframe tbody tr th {\n",
       "        vertical-align: top;\n",
       "    }\n",
       "\n",
       "    .dataframe thead th {\n",
       "        text-align: right;\n",
       "    }\n",
       "</style>\n",
       "<table border=\"1\" class=\"dataframe\">\n",
       "  <thead>\n",
       "    <tr style=\"text-align: right;\">\n",
       "      <th></th>\n",
       "      <th>Exercise_Benefit</th>\n",
       "      <th>0</th>\n",
       "    </tr>\n",
       "  </thead>\n",
       "  <tbody>\n",
       "    <tr>\n",
       "      <th>0</th>\n",
       "      <td>Not Much</td>\n",
       "      <td>21</td>\n",
       "    </tr>\n",
       "    <tr>\n",
       "      <th>1</th>\n",
       "      <td>Not at All</td>\n",
       "      <td>26</td>\n",
       "    </tr>\n",
       "    <tr>\n",
       "      <th>2</th>\n",
       "      <td>Somewhat</td>\n",
       "      <td>137</td>\n",
       "    </tr>\n",
       "    <tr>\n",
       "      <th>3</th>\n",
       "      <td>Yes Significantly</td>\n",
       "      <td>25</td>\n",
       "    </tr>\n",
       "  </tbody>\n",
       "</table>\n",
       "</div>"
      ],
      "text/plain": [
       "    Exercise_Benefit    0\n",
       "0           Not Much   21\n",
       "1         Not at All   26\n",
       "2           Somewhat  137\n",
       "3  Yes Significantly   25"
      ]
     },
     "metadata": {},
     "output_type": "display_data"
    }
   ],
   "source": [
    "for col in pcos.iloc[:, 1:].columns:\n",
    "    counts = pcos.groupby(col).size().reset_index()\n",
    "    display(counts)"
   ]
  },
  {
   "cell_type": "markdown",
   "metadata": {},
   "source": [
    "## Fixing category mismatches"
   ]
  },
  {
   "cell_type": "code",
   "execution_count": 10,
   "metadata": {},
   "outputs": [],
   "source": [
    "# Age\n",
    "pcos.loc[(pcos[\"Age\"] == \"Less than 20\") | (pcos[\"Age\"] == \"Less than 20-25\"), \"Age\"] = \"15-20\"\n",
    "\n",
    "# Hormonal_Imbalance\n",
    "pcos.loc[pcos[\"Hormonal_Imbalance\"] == \"Yes Significantly\", \"Hormonal_Imbalance\"] = \"Yes\"\n",
    "pcos.loc[pcos[\"Hormonal_Imbalance\"] == \"No, Yes, not diagnosed by a doctor\", \"Hormonal_Imbalance\"] = \"Unknown\"\n",
    "\n",
    "# Hirsutism\n",
    "pcos.loc[pcos[\"Hirsutism\"] == \"No, Yes, not diagnosed by a doctor\", \"Hirsutism\"] = \"Unknown\"\n",
    "\n",
    "# Conception_Difficulty\n",
    "pcos.loc[pcos[\"Conception_Difficulty\"] == \"Yes, diagnosed by a doctor\", \"Conception_Difficulty\"] = \"Yes\"\n",
    "pcos.loc[pcos[\"Conception_Difficulty\"] == \"No, Yes, not diagnosed by a doctor\", \"Conception_Difficulty\"] = \"Unknown\"\n",
    "\n",
    "# Insulin_Resistance\n",
    "pcos.loc[pcos[\"Insulin_Resistance\"] == \"No, Yes, not diagnosed by a doctor\", \"Insulin_Resistance\"] = \"Unknown\"\n",
    "\n",
    "# Exercise_Frequency\n",
    "pcos.loc[pcos[\"Exercise_Frequency\"].isin([\"6-8 hours\", \"Less than 6 hours\", \"Less than usual\"]), \"Exercise_Frequency\"] = \"1-2 Times a Week\"\n",
    "\n",
    "# Exercise_Type\n",
    "pcos[\"Exercise_Type\"] = pcos[\"Exercise_Type\"].fillna(\"Unknown\")\n",
    "pcos.loc[pcos[\"Exercise_Type\"].str.startswith(\"Cardio\"), \"Exercise_Type\"] = \"Cardio\"\n",
    "pcos.loc[pcos[\"Exercise_Type\"].str.startswith(\"Flexibility\"), \"Exercise_Type\"] = \"Flexibility and balance\"\n",
    "pcos.loc[pcos[\"Exercise_Type\"].str.startswith(\"Strength\"), \"Exercise_Type\"] = \"Strength training\"\n",
    "pcos.loc[pcos[\"Exercise_Type\"] == \"Somewhat\", \"Exercise_Type\"] = \"Unknown\"\n",
    "\n",
    "# Exercise_Duration\n",
    "pcos.loc[pcos[\"Exercise_Duration\"] == \"20 minutes\", \"Exercise_Duration\"] = \"Less than 30 minutes\"\n",
    "pcos.loc[pcos[\"Exercise_Duration\"] == \"30 minutes to 1 hour\", \"Exercise_Duration\"] = \"More than 30 minutes\"\n",
    "pcos.loc[pcos[\"Exercise_Duration\"] == \"45 minutes\", \"Exercise_Duration\"] = \"More than 30 minutes\"\n",
    "pcos.loc[pcos[\"Exercise_Duration\"] == \"Less than 6 hours\", \"Exercise_Duration\"] = \"Not Applicable\"\n",
    "\n",
    "# Sleep Hours\n",
    "pcos.loc[pcos[\"Sleep_Hours\"] == \"3-4 hours\", \"Sleep_Hours\"] = \"Less than 6 hours\"\n",
    "\n",
    "# Target Variable: PCOS\n",
    "pcos.loc[pcos[\"PCOS\"] == \"Yes\", \"PCOS\"] = 1\n",
    "pcos.loc[pcos[\"PCOS\"] == \"No\", \"PCOS\"] = 0\n"
   ]
  },
  {
   "cell_type": "code",
   "execution_count": 11,
   "metadata": {},
   "outputs": [
    {
     "data": {
      "text/html": [
       "<div>\n",
       "<style scoped>\n",
       "    .dataframe tbody tr th:only-of-type {\n",
       "        vertical-align: middle;\n",
       "    }\n",
       "\n",
       "    .dataframe tbody tr th {\n",
       "        vertical-align: top;\n",
       "    }\n",
       "\n",
       "    .dataframe thead th {\n",
       "        text-align: right;\n",
       "    }\n",
       "</style>\n",
       "<table border=\"1\" class=\"dataframe\">\n",
       "  <thead>\n",
       "    <tr style=\"text-align: right;\">\n",
       "      <th></th>\n",
       "      <th>Age</th>\n",
       "      <th>0</th>\n",
       "    </tr>\n",
       "  </thead>\n",
       "  <tbody>\n",
       "    <tr>\n",
       "      <th>0</th>\n",
       "      <td>15-20</td>\n",
       "      <td>69</td>\n",
       "    </tr>\n",
       "    <tr>\n",
       "      <th>1</th>\n",
       "      <td>20-25</td>\n",
       "      <td>125</td>\n",
       "    </tr>\n",
       "    <tr>\n",
       "      <th>2</th>\n",
       "      <td>25-30</td>\n",
       "      <td>4</td>\n",
       "    </tr>\n",
       "    <tr>\n",
       "      <th>3</th>\n",
       "      <td>30-25</td>\n",
       "      <td>1</td>\n",
       "    </tr>\n",
       "    <tr>\n",
       "      <th>4</th>\n",
       "      <td>30-35</td>\n",
       "      <td>2</td>\n",
       "    </tr>\n",
       "    <tr>\n",
       "      <th>5</th>\n",
       "      <td>30-40</td>\n",
       "      <td>1</td>\n",
       "    </tr>\n",
       "    <tr>\n",
       "      <th>6</th>\n",
       "      <td>35-44</td>\n",
       "      <td>4</td>\n",
       "    </tr>\n",
       "    <tr>\n",
       "      <th>7</th>\n",
       "      <td>45 and above</td>\n",
       "      <td>3</td>\n",
       "    </tr>\n",
       "  </tbody>\n",
       "</table>\n",
       "</div>"
      ],
      "text/plain": [
       "            Age    0\n",
       "0         15-20   69\n",
       "1         20-25  125\n",
       "2         25-30    4\n",
       "3         30-25    1\n",
       "4         30-35    2\n",
       "5         30-40    1\n",
       "6         35-44    4\n",
       "7  45 and above    3"
      ]
     },
     "metadata": {},
     "output_type": "display_data"
    },
    {
     "data": {
      "text/html": [
       "<div>\n",
       "<style scoped>\n",
       "    .dataframe tbody tr th:only-of-type {\n",
       "        vertical-align: middle;\n",
       "    }\n",
       "\n",
       "    .dataframe tbody tr th {\n",
       "        vertical-align: top;\n",
       "    }\n",
       "\n",
       "    .dataframe thead th {\n",
       "        text-align: right;\n",
       "    }\n",
       "</style>\n",
       "<table border=\"1\" class=\"dataframe\">\n",
       "  <thead>\n",
       "    <tr style=\"text-align: right;\">\n",
       "      <th></th>\n",
       "      <th>PCOS</th>\n",
       "      <th>0</th>\n",
       "    </tr>\n",
       "  </thead>\n",
       "  <tbody>\n",
       "    <tr>\n",
       "      <th>0</th>\n",
       "      <td>0</td>\n",
       "      <td>164</td>\n",
       "    </tr>\n",
       "    <tr>\n",
       "      <th>1</th>\n",
       "      <td>1</td>\n",
       "      <td>46</td>\n",
       "    </tr>\n",
       "  </tbody>\n",
       "</table>\n",
       "</div>"
      ],
      "text/plain": [
       "   PCOS    0\n",
       "0     0  164\n",
       "1     1   46"
      ]
     },
     "metadata": {},
     "output_type": "display_data"
    },
    {
     "data": {
      "text/html": [
       "<div>\n",
       "<style scoped>\n",
       "    .dataframe tbody tr th:only-of-type {\n",
       "        vertical-align: middle;\n",
       "    }\n",
       "\n",
       "    .dataframe tbody tr th {\n",
       "        vertical-align: top;\n",
       "    }\n",
       "\n",
       "    .dataframe thead th {\n",
       "        text-align: right;\n",
       "    }\n",
       "</style>\n",
       "<table border=\"1\" class=\"dataframe\">\n",
       "  <thead>\n",
       "    <tr style=\"text-align: right;\">\n",
       "      <th></th>\n",
       "      <th>Hormonal_Imbalance</th>\n",
       "      <th>0</th>\n",
       "    </tr>\n",
       "  </thead>\n",
       "  <tbody>\n",
       "    <tr>\n",
       "      <th>0</th>\n",
       "      <td>No</td>\n",
       "      <td>95</td>\n",
       "    </tr>\n",
       "    <tr>\n",
       "      <th>1</th>\n",
       "      <td>Unknown</td>\n",
       "      <td>1</td>\n",
       "    </tr>\n",
       "    <tr>\n",
       "      <th>2</th>\n",
       "      <td>Yes</td>\n",
       "      <td>112</td>\n",
       "    </tr>\n",
       "  </tbody>\n",
       "</table>\n",
       "</div>"
      ],
      "text/plain": [
       "  Hormonal_Imbalance    0\n",
       "0                 No   95\n",
       "1            Unknown    1\n",
       "2                Yes  112"
      ]
     },
     "metadata": {},
     "output_type": "display_data"
    },
    {
     "data": {
      "text/html": [
       "<div>\n",
       "<style scoped>\n",
       "    .dataframe tbody tr th:only-of-type {\n",
       "        vertical-align: middle;\n",
       "    }\n",
       "\n",
       "    .dataframe tbody tr th {\n",
       "        vertical-align: top;\n",
       "    }\n",
       "\n",
       "    .dataframe thead th {\n",
       "        text-align: right;\n",
       "    }\n",
       "</style>\n",
       "<table border=\"1\" class=\"dataframe\">\n",
       "  <thead>\n",
       "    <tr style=\"text-align: right;\">\n",
       "      <th></th>\n",
       "      <th>Hyperandrogenism</th>\n",
       "      <th>0</th>\n",
       "    </tr>\n",
       "  </thead>\n",
       "  <tbody>\n",
       "    <tr>\n",
       "      <th>0</th>\n",
       "      <td>No</td>\n",
       "      <td>175</td>\n",
       "    </tr>\n",
       "    <tr>\n",
       "      <th>1</th>\n",
       "      <td>Yes</td>\n",
       "      <td>32</td>\n",
       "    </tr>\n",
       "  </tbody>\n",
       "</table>\n",
       "</div>"
      ],
      "text/plain": [
       "  Hyperandrogenism    0\n",
       "0               No  175\n",
       "1              Yes   32"
      ]
     },
     "metadata": {},
     "output_type": "display_data"
    },
    {
     "data": {
      "text/html": [
       "<div>\n",
       "<style scoped>\n",
       "    .dataframe tbody tr th:only-of-type {\n",
       "        vertical-align: middle;\n",
       "    }\n",
       "\n",
       "    .dataframe tbody tr th {\n",
       "        vertical-align: top;\n",
       "    }\n",
       "\n",
       "    .dataframe thead th {\n",
       "        text-align: right;\n",
       "    }\n",
       "</style>\n",
       "<table border=\"1\" class=\"dataframe\">\n",
       "  <thead>\n",
       "    <tr style=\"text-align: right;\">\n",
       "      <th></th>\n",
       "      <th>Hirsutism</th>\n",
       "      <th>0</th>\n",
       "    </tr>\n",
       "  </thead>\n",
       "  <tbody>\n",
       "    <tr>\n",
       "      <th>0</th>\n",
       "      <td>No</td>\n",
       "      <td>148</td>\n",
       "    </tr>\n",
       "    <tr>\n",
       "      <th>1</th>\n",
       "      <td>Unknown</td>\n",
       "      <td>2</td>\n",
       "    </tr>\n",
       "    <tr>\n",
       "      <th>2</th>\n",
       "      <td>Yes</td>\n",
       "      <td>55</td>\n",
       "    </tr>\n",
       "  </tbody>\n",
       "</table>\n",
       "</div>"
      ],
      "text/plain": [
       "  Hirsutism    0\n",
       "0        No  148\n",
       "1   Unknown    2\n",
       "2       Yes   55"
      ]
     },
     "metadata": {},
     "output_type": "display_data"
    },
    {
     "data": {
      "text/html": [
       "<div>\n",
       "<style scoped>\n",
       "    .dataframe tbody tr th:only-of-type {\n",
       "        vertical-align: middle;\n",
       "    }\n",
       "\n",
       "    .dataframe tbody tr th {\n",
       "        vertical-align: top;\n",
       "    }\n",
       "\n",
       "    .dataframe thead th {\n",
       "        text-align: right;\n",
       "    }\n",
       "</style>\n",
       "<table border=\"1\" class=\"dataframe\">\n",
       "  <thead>\n",
       "    <tr style=\"text-align: right;\">\n",
       "      <th></th>\n",
       "      <th>Conception_Difficulty</th>\n",
       "      <th>0</th>\n",
       "    </tr>\n",
       "  </thead>\n",
       "  <tbody>\n",
       "    <tr>\n",
       "      <th>0</th>\n",
       "      <td>No</td>\n",
       "      <td>201</td>\n",
       "    </tr>\n",
       "    <tr>\n",
       "      <th>1</th>\n",
       "      <td>Unknown</td>\n",
       "      <td>1</td>\n",
       "    </tr>\n",
       "    <tr>\n",
       "      <th>2</th>\n",
       "      <td>Yes</td>\n",
       "      <td>7</td>\n",
       "    </tr>\n",
       "  </tbody>\n",
       "</table>\n",
       "</div>"
      ],
      "text/plain": [
       "  Conception_Difficulty    0\n",
       "0                    No  201\n",
       "1               Unknown    1\n",
       "2                   Yes    7"
      ]
     },
     "metadata": {},
     "output_type": "display_data"
    },
    {
     "data": {
      "text/html": [
       "<div>\n",
       "<style scoped>\n",
       "    .dataframe tbody tr th:only-of-type {\n",
       "        vertical-align: middle;\n",
       "    }\n",
       "\n",
       "    .dataframe tbody tr th {\n",
       "        vertical-align: top;\n",
       "    }\n",
       "\n",
       "    .dataframe thead th {\n",
       "        text-align: right;\n",
       "    }\n",
       "</style>\n",
       "<table border=\"1\" class=\"dataframe\">\n",
       "  <thead>\n",
       "    <tr style=\"text-align: right;\">\n",
       "      <th></th>\n",
       "      <th>Insulin_Resistance</th>\n",
       "      <th>0</th>\n",
       "    </tr>\n",
       "  </thead>\n",
       "  <tbody>\n",
       "    <tr>\n",
       "      <th>0</th>\n",
       "      <td>No</td>\n",
       "      <td>185</td>\n",
       "    </tr>\n",
       "    <tr>\n",
       "      <th>1</th>\n",
       "      <td>Unknown</td>\n",
       "      <td>1</td>\n",
       "    </tr>\n",
       "    <tr>\n",
       "      <th>2</th>\n",
       "      <td>Yes</td>\n",
       "      <td>23</td>\n",
       "    </tr>\n",
       "  </tbody>\n",
       "</table>\n",
       "</div>"
      ],
      "text/plain": [
       "  Insulin_Resistance    0\n",
       "0                 No  185\n",
       "1            Unknown    1\n",
       "2                Yes   23"
      ]
     },
     "metadata": {},
     "output_type": "display_data"
    },
    {
     "data": {
      "text/html": [
       "<div>\n",
       "<style scoped>\n",
       "    .dataframe tbody tr th:only-of-type {\n",
       "        vertical-align: middle;\n",
       "    }\n",
       "\n",
       "    .dataframe tbody tr th {\n",
       "        vertical-align: top;\n",
       "    }\n",
       "\n",
       "    .dataframe thead th {\n",
       "        text-align: right;\n",
       "    }\n",
       "</style>\n",
       "<table border=\"1\" class=\"dataframe\">\n",
       "  <thead>\n",
       "    <tr style=\"text-align: right;\">\n",
       "      <th></th>\n",
       "      <th>Exercise_Frequency</th>\n",
       "      <th>0</th>\n",
       "    </tr>\n",
       "  </thead>\n",
       "  <tbody>\n",
       "    <tr>\n",
       "      <th>0</th>\n",
       "      <td>1-2 Times a Week</td>\n",
       "      <td>38</td>\n",
       "    </tr>\n",
       "    <tr>\n",
       "      <th>1</th>\n",
       "      <td>3-4 Times a Week</td>\n",
       "      <td>23</td>\n",
       "    </tr>\n",
       "    <tr>\n",
       "      <th>2</th>\n",
       "      <td>6-8 Times a Week</td>\n",
       "      <td>17</td>\n",
       "    </tr>\n",
       "    <tr>\n",
       "      <th>3</th>\n",
       "      <td>Never</td>\n",
       "      <td>28</td>\n",
       "    </tr>\n",
       "    <tr>\n",
       "      <th>4</th>\n",
       "      <td>Rarely</td>\n",
       "      <td>102</td>\n",
       "    </tr>\n",
       "  </tbody>\n",
       "</table>\n",
       "</div>"
      ],
      "text/plain": [
       "  Exercise_Frequency    0\n",
       "0   1-2 Times a Week   38\n",
       "1   3-4 Times a Week   23\n",
       "2   6-8 Times a Week   17\n",
       "3              Never   28\n",
       "4             Rarely  102"
      ]
     },
     "metadata": {},
     "output_type": "display_data"
    },
    {
     "data": {
      "text/html": [
       "<div>\n",
       "<style scoped>\n",
       "    .dataframe tbody tr th:only-of-type {\n",
       "        vertical-align: middle;\n",
       "    }\n",
       "\n",
       "    .dataframe tbody tr th {\n",
       "        vertical-align: top;\n",
       "    }\n",
       "\n",
       "    .dataframe thead th {\n",
       "        text-align: right;\n",
       "    }\n",
       "</style>\n",
       "<table border=\"1\" class=\"dataframe\">\n",
       "  <thead>\n",
       "    <tr style=\"text-align: right;\">\n",
       "      <th></th>\n",
       "      <th>Exercise_Type</th>\n",
       "      <th>0</th>\n",
       "    </tr>\n",
       "  </thead>\n",
       "  <tbody>\n",
       "    <tr>\n",
       "      <th>0</th>\n",
       "      <td>Cardio</td>\n",
       "      <td>87</td>\n",
       "    </tr>\n",
       "    <tr>\n",
       "      <th>1</th>\n",
       "      <td>Flexibility and balance</td>\n",
       "      <td>18</td>\n",
       "    </tr>\n",
       "    <tr>\n",
       "      <th>2</th>\n",
       "      <td>High-intensity interval training (HIIT)</td>\n",
       "      <td>3</td>\n",
       "    </tr>\n",
       "    <tr>\n",
       "      <th>3</th>\n",
       "      <td>No Exercise</td>\n",
       "      <td>90</td>\n",
       "    </tr>\n",
       "    <tr>\n",
       "      <th>4</th>\n",
       "      <td>Strength training</td>\n",
       "      <td>9</td>\n",
       "    </tr>\n",
       "    <tr>\n",
       "      <th>5</th>\n",
       "      <td>Unknown</td>\n",
       "      <td>3</td>\n",
       "    </tr>\n",
       "  </tbody>\n",
       "</table>\n",
       "</div>"
      ],
      "text/plain": [
       "                             Exercise_Type   0\n",
       "0                                   Cardio  87\n",
       "1                  Flexibility and balance  18\n",
       "2  High-intensity interval training (HIIT)   3\n",
       "3                              No Exercise  90\n",
       "4                        Strength training   9\n",
       "5                                  Unknown   3"
      ]
     },
     "metadata": {},
     "output_type": "display_data"
    },
    {
     "data": {
      "text/html": [
       "<div>\n",
       "<style scoped>\n",
       "    .dataframe tbody tr th:only-of-type {\n",
       "        vertical-align: middle;\n",
       "    }\n",
       "\n",
       "    .dataframe tbody tr th {\n",
       "        vertical-align: top;\n",
       "    }\n",
       "\n",
       "    .dataframe thead th {\n",
       "        text-align: right;\n",
       "    }\n",
       "</style>\n",
       "<table border=\"1\" class=\"dataframe\">\n",
       "  <thead>\n",
       "    <tr style=\"text-align: right;\">\n",
       "      <th></th>\n",
       "      <th>Exercise_Duration</th>\n",
       "      <th>0</th>\n",
       "    </tr>\n",
       "  </thead>\n",
       "  <tbody>\n",
       "    <tr>\n",
       "      <th>0</th>\n",
       "      <td>30 minutes</td>\n",
       "      <td>33</td>\n",
       "    </tr>\n",
       "    <tr>\n",
       "      <th>1</th>\n",
       "      <td>Less than 30 minutes</td>\n",
       "      <td>63</td>\n",
       "    </tr>\n",
       "    <tr>\n",
       "      <th>2</th>\n",
       "      <td>More than 30 minutes</td>\n",
       "      <td>25</td>\n",
       "    </tr>\n",
       "    <tr>\n",
       "      <th>3</th>\n",
       "      <td>Not Applicable</td>\n",
       "      <td>87</td>\n",
       "    </tr>\n",
       "  </tbody>\n",
       "</table>\n",
       "</div>"
      ],
      "text/plain": [
       "      Exercise_Duration   0\n",
       "0            30 minutes  33\n",
       "1  Less than 30 minutes  63\n",
       "2  More than 30 minutes  25\n",
       "3        Not Applicable  87"
      ]
     },
     "metadata": {},
     "output_type": "display_data"
    },
    {
     "data": {
      "text/html": [
       "<div>\n",
       "<style scoped>\n",
       "    .dataframe tbody tr th:only-of-type {\n",
       "        vertical-align: middle;\n",
       "    }\n",
       "\n",
       "    .dataframe tbody tr th {\n",
       "        vertical-align: top;\n",
       "    }\n",
       "\n",
       "    .dataframe thead th {\n",
       "        text-align: right;\n",
       "    }\n",
       "</style>\n",
       "<table border=\"1\" class=\"dataframe\">\n",
       "  <thead>\n",
       "    <tr style=\"text-align: right;\">\n",
       "      <th></th>\n",
       "      <th>Sleep_Hours</th>\n",
       "      <th>0</th>\n",
       "    </tr>\n",
       "  </thead>\n",
       "  <tbody>\n",
       "    <tr>\n",
       "      <th>0</th>\n",
       "      <td>6-8 hours</td>\n",
       "      <td>135</td>\n",
       "    </tr>\n",
       "    <tr>\n",
       "      <th>1</th>\n",
       "      <td>9-12 hours</td>\n",
       "      <td>13</td>\n",
       "    </tr>\n",
       "    <tr>\n",
       "      <th>2</th>\n",
       "      <td>Less than 6 hours</td>\n",
       "      <td>59</td>\n",
       "    </tr>\n",
       "    <tr>\n",
       "      <th>3</th>\n",
       "      <td>More than 12 hours</td>\n",
       "      <td>1</td>\n",
       "    </tr>\n",
       "  </tbody>\n",
       "</table>\n",
       "</div>"
      ],
      "text/plain": [
       "          Sleep_Hours    0\n",
       "0           6-8 hours  135\n",
       "1          9-12 hours   13\n",
       "2   Less than 6 hours   59\n",
       "3  More than 12 hours    1"
      ]
     },
     "metadata": {},
     "output_type": "display_data"
    },
    {
     "data": {
      "text/html": [
       "<div>\n",
       "<style scoped>\n",
       "    .dataframe tbody tr th:only-of-type {\n",
       "        vertical-align: middle;\n",
       "    }\n",
       "\n",
       "    .dataframe tbody tr th {\n",
       "        vertical-align: top;\n",
       "    }\n",
       "\n",
       "    .dataframe thead th {\n",
       "        text-align: right;\n",
       "    }\n",
       "</style>\n",
       "<table border=\"1\" class=\"dataframe\">\n",
       "  <thead>\n",
       "    <tr style=\"text-align: right;\">\n",
       "      <th></th>\n",
       "      <th>Exercise_Benefit</th>\n",
       "      <th>0</th>\n",
       "    </tr>\n",
       "  </thead>\n",
       "  <tbody>\n",
       "    <tr>\n",
       "      <th>0</th>\n",
       "      <td>Not Much</td>\n",
       "      <td>21</td>\n",
       "    </tr>\n",
       "    <tr>\n",
       "      <th>1</th>\n",
       "      <td>Not at All</td>\n",
       "      <td>26</td>\n",
       "    </tr>\n",
       "    <tr>\n",
       "      <th>2</th>\n",
       "      <td>Somewhat</td>\n",
       "      <td>137</td>\n",
       "    </tr>\n",
       "    <tr>\n",
       "      <th>3</th>\n",
       "      <td>Yes Significantly</td>\n",
       "      <td>25</td>\n",
       "    </tr>\n",
       "  </tbody>\n",
       "</table>\n",
       "</div>"
      ],
      "text/plain": [
       "    Exercise_Benefit    0\n",
       "0           Not Much   21\n",
       "1         Not at All   26\n",
       "2           Somewhat  137\n",
       "3  Yes Significantly   25"
      ]
     },
     "metadata": {},
     "output_type": "display_data"
    }
   ],
   "source": [
    "for col in pcos.iloc[:, 1:].columns:\n",
    "    counts = pcos.groupby(col).size().reset_index()\n",
    "    display(counts)"
   ]
  },
  {
   "cell_type": "markdown",
   "metadata": {},
   "source": [
    "## Missing value inputation"
   ]
  },
  {
   "cell_type": "markdown",
   "metadata": {},
   "source": [
    "Since we have at most 5 missing values in any which column, let's inpute the missing values with the mode/mean."
   ]
  },
  {
   "cell_type": "code",
   "execution_count": 12,
   "metadata": {},
   "outputs": [
    {
     "data": {
      "text/plain": [
       "Weight_kg                2\n",
       "Age                      1\n",
       "PCOS                     0\n",
       "Hormonal_Imbalance       2\n",
       "Hyperandrogenism         3\n",
       "Hirsutism                5\n",
       "Conception_Difficulty    1\n",
       "Insulin_Resistance       1\n",
       "Exercise_Frequency       2\n",
       "Exercise_Type            0\n",
       "Exercise_Duration        2\n",
       "Sleep_Hours              2\n",
       "Exercise_Benefit         1\n",
       "dtype: int64"
      ]
     },
     "execution_count": 12,
     "metadata": {},
     "output_type": "execute_result"
    }
   ],
   "source": [
    "pcos.isnull().sum()"
   ]
  },
  {
   "cell_type": "code",
   "execution_count": 13,
   "metadata": {},
   "outputs": [
    {
     "data": {
      "text/plain": [
       "56.159615384615385"
      ]
     },
     "execution_count": 13,
     "metadata": {},
     "output_type": "execute_result"
    }
   ],
   "source": [
    "float(pcos[\"Weight_kg\"].mean())"
   ]
  },
  {
   "cell_type": "code",
   "execution_count": 14,
   "metadata": {},
   "outputs": [
    {
     "name": "stderr",
     "output_type": "stream",
     "text": [
      "/var/folders/bn/8l9zg4092yg1r262fl2zn9nw0000gn/T/ipykernel_44243/3599572613.py:7: FutureWarning: Downcasting object dtype arrays on .fillna, .ffill, .bfill is deprecated and will change in a future version. Call result.infer_objects(copy=False) instead. To opt-in to the future behavior, set `pd.set_option('future.no_silent_downcasting', True)`\n",
      "  pcos[col] = pcos[col].fillna(mode_value)\n"
     ]
    }
   ],
   "source": [
    "# Mean for the Weight Column\n",
    "mean_weight = float(pcos[\"Weight_kg\"].mean())\n",
    "pcos[\"Weight_kg\"] = pcos[\"Weight_kg\"].fillna(mean_weight)\n",
    "\n",
    "for col in pcos.iloc[:, 1:].columns:\n",
    "    mode_value = pcos[col].mode()[0]\n",
    "    pcos[col] = pcos[col].fillna(mode_value)"
   ]
  },
  {
   "cell_type": "code",
   "execution_count": 15,
   "metadata": {},
   "outputs": [
    {
     "data": {
      "text/plain": [
       "Weight_kg                0\n",
       "Age                      0\n",
       "PCOS                     0\n",
       "Hormonal_Imbalance       0\n",
       "Hyperandrogenism         0\n",
       "Hirsutism                0\n",
       "Conception_Difficulty    0\n",
       "Insulin_Resistance       0\n",
       "Exercise_Frequency       0\n",
       "Exercise_Type            0\n",
       "Exercise_Duration        0\n",
       "Sleep_Hours              0\n",
       "Exercise_Benefit         0\n",
       "dtype: int64"
      ]
     },
     "execution_count": 15,
     "metadata": {},
     "output_type": "execute_result"
    }
   ],
   "source": [
    "pcos.isnull().sum()"
   ]
  },
  {
   "cell_type": "code",
   "execution_count": 16,
   "metadata": {},
   "outputs": [
    {
     "name": "stdout",
     "output_type": "stream",
     "text": [
      "<class 'pandas.core.frame.DataFrame'>\n",
      "Index: 210 entries, 0 to 209\n",
      "Data columns (total 13 columns):\n",
      " #   Column                 Non-Null Count  Dtype  \n",
      "---  ------                 --------------  -----  \n",
      " 0   Weight_kg              210 non-null    float64\n",
      " 1   Age                    210 non-null    object \n",
      " 2   PCOS                   210 non-null    int64  \n",
      " 3   Hormonal_Imbalance     210 non-null    object \n",
      " 4   Hyperandrogenism       210 non-null    object \n",
      " 5   Hirsutism              210 non-null    object \n",
      " 6   Conception_Difficulty  210 non-null    object \n",
      " 7   Insulin_Resistance     210 non-null    object \n",
      " 8   Exercise_Frequency     210 non-null    object \n",
      " 9   Exercise_Type          210 non-null    object \n",
      " 10  Exercise_Duration      210 non-null    object \n",
      " 11  Sleep_Hours            210 non-null    object \n",
      " 12  Exercise_Benefit       210 non-null    object \n",
      "dtypes: float64(1), int64(1), object(11)\n",
      "memory usage: 23.0+ KB\n"
     ]
    }
   ],
   "source": [
    "pcos.info()"
   ]
  },
  {
   "cell_type": "code",
   "execution_count": 17,
   "metadata": {},
   "outputs": [],
   "source": [
    "pcos = pcos.iloc[:, [0, 1] + list(range(3,13)) + [2]]"
   ]
  },
  {
   "cell_type": "code",
   "execution_count": 18,
   "metadata": {},
   "outputs": [],
   "source": [
    "for col in pcos.iloc[:, 1:12].columns:\n",
    "    pcos[col] = pcos[col].astype('category')"
   ]
  },
  {
   "cell_type": "code",
   "execution_count": 19,
   "metadata": {},
   "outputs": [
    {
     "name": "stdout",
     "output_type": "stream",
     "text": [
      "<class 'pandas.core.frame.DataFrame'>\n",
      "Index: 210 entries, 0 to 209\n",
      "Data columns (total 13 columns):\n",
      " #   Column                 Non-Null Count  Dtype   \n",
      "---  ------                 --------------  -----   \n",
      " 0   Weight_kg              210 non-null    float64 \n",
      " 1   Age                    210 non-null    category\n",
      " 2   Hormonal_Imbalance     210 non-null    category\n",
      " 3   Hyperandrogenism       210 non-null    category\n",
      " 4   Hirsutism              210 non-null    category\n",
      " 5   Conception_Difficulty  210 non-null    category\n",
      " 6   Insulin_Resistance     210 non-null    category\n",
      " 7   Exercise_Frequency     210 non-null    category\n",
      " 8   Exercise_Type          210 non-null    category\n",
      " 9   Exercise_Duration      210 non-null    category\n",
      " 10  Sleep_Hours            210 non-null    category\n",
      " 11  Exercise_Benefit       210 non-null    category\n",
      " 12  PCOS                   210 non-null    int64   \n",
      "dtypes: category(11), float64(1), int64(1)\n",
      "memory usage: 9.2 KB\n"
     ]
    }
   ],
   "source": [
    "pcos.info()"
   ]
  },
  {
   "cell_type": "markdown",
   "metadata": {},
   "source": [
    "# Dataset split"
   ]
  },
  {
   "cell_type": "code",
   "execution_count": 20,
   "metadata": {},
   "outputs": [],
   "source": [
    "X = pcos.drop(columns=\"PCOS\")\n",
    "y = pcos[\"PCOS\"]\n",
    "\n",
    "X_train, X_test, y_train, y_test = train_test_split(X, y, test_size=0.2, shuffle=True, random_state=42)"
   ]
  },
  {
   "cell_type": "markdown",
   "metadata": {},
   "source": [
    "# Modeling"
   ]
  },
  {
   "cell_type": "markdown",
   "metadata": {},
   "source": [
    "We'll use three strategies:\n",
    "\n",
    "- Linear Regression\n",
    "- Decision Tree Classifier\n",
    "- Random Forest Classifier"
   ]
  },
  {
   "cell_type": "code",
   "execution_count": 21,
   "metadata": {},
   "outputs": [
    {
     "name": "stderr",
     "output_type": "stream",
     "text": [
      "2025/04/17 14:29:22 INFO mlflow.tracking.fluent: Experiment with name 'pcos-experiments' does not exist. Creating a new experiment.\n"
     ]
    },
    {
     "data": {
      "text/plain": [
       "<Experiment: artifact_location='mlflow-artifacts:/1', creation_time=1744925362472, experiment_id='1', last_update_time=1744925362472, lifecycle_stage='active', name='pcos-experiments', tags={}>"
      ]
     },
     "execution_count": 21,
     "metadata": {},
     "output_type": "execute_result"
    }
   ],
   "source": [
    "mlflow.set_tracking_uri('https://mlops-25-634030133521.us-west2.run.app')\n",
    "mlflow.set_experiment('pcos-experiments')"
   ]
  },
  {
   "cell_type": "markdown",
   "metadata": {},
   "source": [
    "Run\n",
    "\n",
    "`mlflow ui --backend-store-uri sqlite:///mlflow.db`\n",
    "\n",
    "to open the mlflow UI."
   ]
  },
  {
   "cell_type": "code",
   "execution_count": 22,
   "metadata": {},
   "outputs": [],
   "source": [
    "# Feature groups\n",
    "numerical_features = [\"Weight_kg\"]\n",
    "categorical_features = [col for col in X.columns if col != \"Weight_kg\"]\n",
    "\n",
    "# Preprocessing pipelines\n",
    "numeric_transformer = StandardScaler()\n",
    "categorical_transformer = OneHotEncoder(drop=\"first\", handle_unknown=\"ignore\")\n",
    "\n",
    "preprocessor = ColumnTransformer(\n",
    "    transformers=[\n",
    "        (\"num\", numeric_transformer, numerical_features),\n",
    "        (\"cat\", categorical_transformer, categorical_features)\n",
    "    ]\n",
    ")"
   ]
  },
  {
   "cell_type": "code",
   "execution_count": 23,
   "metadata": {},
   "outputs": [],
   "source": [
    "def run_experiments(pipeline, grid, title):\n",
    "    for i, params in tqdm(enumerate(grid)):\n",
    "        with mlflow.start_run(run_name=f\"{title} - Combo {i}\"):\n",
    "            try:\n",
    "                # Fit the model\n",
    "                pipeline.set_params(**params)\n",
    "                pipeline.fit(X_train, y_train)\n",
    "\n",
    "                # Evaluate on test set\n",
    "                y_pred = pipeline.predict(X_test)\n",
    "                test_accuracy = accuracy_score(y_test, y_pred)\n",
    "\n",
    "                # Log parameters and metrics\n",
    "                mlflow.log_params(params)\n",
    "                mlflow.log_metric(\"test_accuracy\", test_accuracy)\n",
    "\n",
    "                # Log model\n",
    "                # Create a single-row input example (after preprocessing)\n",
    "                sample_input = X_test.iloc[[0]]  # wrap in double brackets to keep as DataFrame\n",
    "                # Log the model with example and signature auto-inferred\n",
    "                mlflow.sklearn.log_model(\n",
    "                    sk_model=pipeline,\n",
    "                    artifact_path=\"model\",\n",
    "                    input_example=sample_input,\n",
    "                    signature=mlflow.models.infer_signature(sample_input, pipeline.predict(sample_input))\n",
    "                )\n",
    "            except Exception as e:\n",
    "                mlflow.set_tag(\"run_status\", \"failed\")\n",
    "                mlflow.log_params(params)\n",
    "                mlflow.set_tag(\"error_message\", str(e))"
   ]
  },
  {
   "cell_type": "code",
   "execution_count": 24,
   "metadata": {},
   "outputs": [],
   "source": [
    "def run_experiments_w_feature_selection(pipeline, grid, title):\n",
    "    for i, params in tqdm(enumerate(grid)):\n",
    "        with mlflow.start_run(run_name=f\"{title} - Combo {i}\"):\n",
    "            try:\n",
    "                # Fit the model\n",
    "                pipeline.set_params(**params)\n",
    "                pipeline.fit(X_train, y_train)\n",
    "\n",
    "                # Evaluate on test set\n",
    "                y_pred = pipeline.predict(X_test)\n",
    "                test_accuracy = accuracy_score(y_test, y_pred)\n",
    "\n",
    "                # Log parameters and metrics\n",
    "                mlflow.log_params(params)\n",
    "                mlflow.log_metric(\"test_accuracy\", test_accuracy)\n",
    "\n",
    "                # Log model\n",
    "                # Create a single-row input example (after preprocessing)\n",
    "                sample_input = X_test.iloc[[0]]  # wrap in double brackets to keep as DataFrame\n",
    "                # Log the model with example and signature auto-inferred\n",
    "                mlflow.sklearn.log_model(\n",
    "                    sk_model=pipeline,\n",
    "                    artifact_path=\"model\",\n",
    "                    input_example=sample_input,\n",
    "                    signature=mlflow.models.infer_signature(sample_input, pipeline.predict(sample_input))\n",
    "                )\n",
    "                # Log selected feature names\n",
    "                preprocessor = pipeline.named_steps[\"preprocessor\"]\n",
    "                feature_selector = pipeline.named_steps[\"feature_selection\"]\n",
    "\n",
    "                # Get full feature names\n",
    "                ohe = preprocessor.named_transformers_[\"cat\"]\n",
    "                cat_feature_names = ohe.get_feature_names_out(categorical_features)\n",
    "                all_feature_names = numerical_features + list(cat_feature_names)\n",
    "\n",
    "                # Mask of selected features\n",
    "                selected_mask = feature_selector.get_support()\n",
    "                selected_features = [name for name, selected in zip(all_feature_names, selected_mask) if selected]\n",
    "\n",
    "                # Log to MLflow\n",
    "                mlflow.log_text(\"\\n\".join(selected_features), artifact_file=\"selected_features.txt\")\n",
    "        \n",
    "            except Exception as e:\n",
    "                \n",
    "                mlflow.set_tag(\"run_status\", \"failed\")\n",
    "                mlflow.log_params(params)\n",
    "                mlflow.set_tag(\"error_message\", str(e))"
   ]
  },
  {
   "cell_type": "markdown",
   "metadata": {},
   "source": [
    "## 1. Logistic Regression"
   ]
  },
  {
   "cell_type": "code",
   "execution_count": 25,
   "metadata": {},
   "outputs": [
    {
     "name": "stderr",
     "output_type": "stream",
     "text": [
      "1it [00:00,  1.10it/s]"
     ]
    },
    {
     "name": "stdout",
     "output_type": "stream",
     "text": [
      "🏃 View run Logistic Regression - Combo 0 at: https://mlops-25-634030133521.us-west2.run.app/#/experiments/1/runs/b1319f6b0f264462b78ac2f9f93c2bb2\n",
      "🧪 View experiment at: https://mlops-25-634030133521.us-west2.run.app/#/experiments/1\n"
     ]
    },
    {
     "name": "stderr",
     "output_type": "stream",
     "text": [
      "2it [00:07,  4.48s/it]"
     ]
    },
    {
     "name": "stdout",
     "output_type": "stream",
     "text": [
      "🏃 View run Logistic Regression - Combo 1 at: https://mlops-25-634030133521.us-west2.run.app/#/experiments/1/runs/2c636891323a455493675a41959c490c\n",
      "🧪 View experiment at: https://mlops-25-634030133521.us-west2.run.app/#/experiments/1\n"
     ]
    },
    {
     "name": "stderr",
     "output_type": "stream",
     "text": [
      "3it [00:12,  4.34s/it]"
     ]
    },
    {
     "name": "stdout",
     "output_type": "stream",
     "text": [
      "🏃 View run Logistic Regression - Combo 2 at: https://mlops-25-634030133521.us-west2.run.app/#/experiments/1/runs/ff697c68ed5042438acb2260aef1361d\n",
      "🧪 View experiment at: https://mlops-25-634030133521.us-west2.run.app/#/experiments/1\n"
     ]
    },
    {
     "name": "stderr",
     "output_type": "stream",
     "text": [
      "4it [00:16,  4.27s/it]"
     ]
    },
    {
     "name": "stdout",
     "output_type": "stream",
     "text": [
      "🏃 View run Logistic Regression - Combo 3 at: https://mlops-25-634030133521.us-west2.run.app/#/experiments/1/runs/6ec0d8a982334a5fa6e3ee6c0582caa0\n",
      "🧪 View experiment at: https://mlops-25-634030133521.us-west2.run.app/#/experiments/1\n"
     ]
    },
    {
     "name": "stderr",
     "output_type": "stream",
     "text": [
      "5it [00:20,  4.41s/it]"
     ]
    },
    {
     "name": "stdout",
     "output_type": "stream",
     "text": [
      "🏃 View run Logistic Regression - Combo 4 at: https://mlops-25-634030133521.us-west2.run.app/#/experiments/1/runs/7ea69701ac2b4faba43c34823e5cb876\n",
      "🧪 View experiment at: https://mlops-25-634030133521.us-west2.run.app/#/experiments/1\n",
      "🏃 View run Logistic Regression - Combo 5 at: https://mlops-25-634030133521.us-west2.run.app/#/experiments/1/runs/fcafe145dd6b4418af78b31e6147ea81\n",
      "🧪 View experiment at: https://mlops-25-634030133521.us-west2.run.app/#/experiments/1\n"
     ]
    },
    {
     "name": "stderr",
     "output_type": "stream",
     "text": [
      "7it [00:29,  4.29s/it]"
     ]
    },
    {
     "name": "stdout",
     "output_type": "stream",
     "text": [
      "🏃 View run Logistic Regression - Combo 6 at: https://mlops-25-634030133521.us-west2.run.app/#/experiments/1/runs/bf9ea03ade5142b6bb7a5f6cde41ec5e\n",
      "🧪 View experiment at: https://mlops-25-634030133521.us-west2.run.app/#/experiments/1\n"
     ]
    },
    {
     "name": "stderr",
     "output_type": "stream",
     "text": [
      "8it [00:29,  3.07s/it]"
     ]
    },
    {
     "name": "stdout",
     "output_type": "stream",
     "text": [
      "🏃 View run Logistic Regression - Combo 7 at: https://mlops-25-634030133521.us-west2.run.app/#/experiments/1/runs/59f1efa34cb940e68220add92a756a4d\n",
      "🧪 View experiment at: https://mlops-25-634030133521.us-west2.run.app/#/experiments/1\n"
     ]
    },
    {
     "name": "stderr",
     "output_type": "stream",
     "text": [
      "9it [00:34,  3.45s/it]"
     ]
    },
    {
     "name": "stdout",
     "output_type": "stream",
     "text": [
      "🏃 View run Logistic Regression - Combo 8 at: https://mlops-25-634030133521.us-west2.run.app/#/experiments/1/runs/b65c9cea41a94e90b442c568f9741acb\n",
      "🧪 View experiment at: https://mlops-25-634030133521.us-west2.run.app/#/experiments/1\n"
     ]
    },
    {
     "name": "stderr",
     "output_type": "stream",
     "text": [
      "10it [00:34,  2.55s/it]"
     ]
    },
    {
     "name": "stdout",
     "output_type": "stream",
     "text": [
      "🏃 View run Logistic Regression - Combo 9 at: https://mlops-25-634030133521.us-west2.run.app/#/experiments/1/runs/96a53ff7a978481490d2dbb782683a1b\n",
      "🧪 View experiment at: https://mlops-25-634030133521.us-west2.run.app/#/experiments/1\n"
     ]
    },
    {
     "name": "stderr",
     "output_type": "stream",
     "text": [
      "11it [00:39,  3.37s/it]"
     ]
    },
    {
     "name": "stdout",
     "output_type": "stream",
     "text": [
      "🏃 View run Logistic Regression - Combo 10 at: https://mlops-25-634030133521.us-west2.run.app/#/experiments/1/runs/8b2578f6ccd34339bd1b4033c9e7b3e3\n",
      "🧪 View experiment at: https://mlops-25-634030133521.us-west2.run.app/#/experiments/1\n"
     ]
    },
    {
     "name": "stderr",
     "output_type": "stream",
     "text": [
      "12it [00:45,  4.04s/it]"
     ]
    },
    {
     "name": "stdout",
     "output_type": "stream",
     "text": [
      "🏃 View run Logistic Regression - Combo 11 at: https://mlops-25-634030133521.us-west2.run.app/#/experiments/1/runs/1824cd3f9c294bd492ea8053a87b3928\n",
      "🧪 View experiment at: https://mlops-25-634030133521.us-west2.run.app/#/experiments/1\n"
     ]
    },
    {
     "name": "stderr",
     "output_type": "stream",
     "text": [
      "13it [00:49,  4.01s/it]"
     ]
    },
    {
     "name": "stdout",
     "output_type": "stream",
     "text": [
      "🏃 View run Logistic Regression - Combo 12 at: https://mlops-25-634030133521.us-west2.run.app/#/experiments/1/runs/b66fe9d4e0fb4382a3893c6c1ccb838a\n",
      "🧪 View experiment at: https://mlops-25-634030133521.us-west2.run.app/#/experiments/1\n"
     ]
    },
    {
     "name": "stderr",
     "output_type": "stream",
     "text": [
      "14it [00:53,  4.01s/it]"
     ]
    },
    {
     "name": "stdout",
     "output_type": "stream",
     "text": [
      "🏃 View run Logistic Regression - Combo 13 at: https://mlops-25-634030133521.us-west2.run.app/#/experiments/1/runs/9c8d6ef9eefe4879804300dcad268031\n",
      "🧪 View experiment at: https://mlops-25-634030133521.us-west2.run.app/#/experiments/1\n"
     ]
    },
    {
     "name": "stderr",
     "output_type": "stream",
     "text": [
      "15it [00:58,  4.35s/it]"
     ]
    },
    {
     "name": "stdout",
     "output_type": "stream",
     "text": [
      "🏃 View run Logistic Regression - Combo 14 at: https://mlops-25-634030133521.us-west2.run.app/#/experiments/1/runs/1dec4c8c8a7044bf8bb1f516ec646385\n",
      "🧪 View experiment at: https://mlops-25-634030133521.us-west2.run.app/#/experiments/1\n"
     ]
    },
    {
     "name": "stderr",
     "output_type": "stream",
     "text": [
      "16it [01:02,  4.20s/it]"
     ]
    },
    {
     "name": "stdout",
     "output_type": "stream",
     "text": [
      "🏃 View run Logistic Regression - Combo 15 at: https://mlops-25-634030133521.us-west2.run.app/#/experiments/1/runs/9e1fbff577c143038a587959369953d6\n",
      "🧪 View experiment at: https://mlops-25-634030133521.us-west2.run.app/#/experiments/1\n"
     ]
    },
    {
     "name": "stderr",
     "output_type": "stream",
     "text": [
      "17it [01:02,  3.09s/it]"
     ]
    },
    {
     "name": "stdout",
     "output_type": "stream",
     "text": [
      "🏃 View run Logistic Regression - Combo 16 at: https://mlops-25-634030133521.us-west2.run.app/#/experiments/1/runs/07ba63f15ec9403e8cf5bb8d20ec165b\n",
      "🧪 View experiment at: https://mlops-25-634030133521.us-west2.run.app/#/experiments/1\n"
     ]
    },
    {
     "name": "stderr",
     "output_type": "stream",
     "text": [
      "18it [01:07,  3.41s/it]"
     ]
    },
    {
     "name": "stdout",
     "output_type": "stream",
     "text": [
      "🏃 View run Logistic Regression - Combo 17 at: https://mlops-25-634030133521.us-west2.run.app/#/experiments/1/runs/f21df53b9f444475970fb3581c7e58aa\n",
      "🧪 View experiment at: https://mlops-25-634030133521.us-west2.run.app/#/experiments/1\n"
     ]
    },
    {
     "name": "stderr",
     "output_type": "stream",
     "text": [
      "19it [01:07,  2.55s/it]"
     ]
    },
    {
     "name": "stdout",
     "output_type": "stream",
     "text": [
      "🏃 View run Logistic Regression - Combo 18 at: https://mlops-25-634030133521.us-west2.run.app/#/experiments/1/runs/45521394d263428fbb92523e43e84e34\n",
      "🧪 View experiment at: https://mlops-25-634030133521.us-west2.run.app/#/experiments/1\n"
     ]
    },
    {
     "name": "stderr",
     "output_type": "stream",
     "text": [
      "20it [01:11,  3.04s/it]"
     ]
    },
    {
     "name": "stdout",
     "output_type": "stream",
     "text": [
      "🏃 View run Logistic Regression - Combo 19 at: https://mlops-25-634030133521.us-west2.run.app/#/experiments/1/runs/a4025fb0e1104ddb8fec890c222c69d1\n",
      "🧪 View experiment at: https://mlops-25-634030133521.us-west2.run.app/#/experiments/1\n"
     ]
    },
    {
     "name": "stderr",
     "output_type": "stream",
     "text": [
      "21it [01:15,  3.38s/it]"
     ]
    },
    {
     "name": "stdout",
     "output_type": "stream",
     "text": [
      "🏃 View run Logistic Regression - Combo 20 at: https://mlops-25-634030133521.us-west2.run.app/#/experiments/1/runs/1518720071ca46329b118fce51e62309\n",
      "🧪 View experiment at: https://mlops-25-634030133521.us-west2.run.app/#/experiments/1\n"
     ]
    },
    {
     "name": "stderr",
     "output_type": "stream",
     "text": [
      "22it [01:20,  3.65s/it]"
     ]
    },
    {
     "name": "stdout",
     "output_type": "stream",
     "text": [
      "🏃 View run Logistic Regression - Combo 21 at: https://mlops-25-634030133521.us-west2.run.app/#/experiments/1/runs/60eb572851704b2cb7eb6a0099f90400\n",
      "🧪 View experiment at: https://mlops-25-634030133521.us-west2.run.app/#/experiments/1\n"
     ]
    },
    {
     "name": "stderr",
     "output_type": "stream",
     "text": [
      "23it [01:25,  4.13s/it]"
     ]
    },
    {
     "name": "stdout",
     "output_type": "stream",
     "text": [
      "🏃 View run Logistic Regression - Combo 22 at: https://mlops-25-634030133521.us-west2.run.app/#/experiments/1/runs/3a713f70459849ac93df6d8f4d0ce084\n",
      "🧪 View experiment at: https://mlops-25-634030133521.us-west2.run.app/#/experiments/1\n"
     ]
    },
    {
     "name": "stderr",
     "output_type": "stream",
     "text": [
      "24it [01:29,  4.13s/it]"
     ]
    },
    {
     "name": "stdout",
     "output_type": "stream",
     "text": [
      "🏃 View run Logistic Regression - Combo 23 at: https://mlops-25-634030133521.us-west2.run.app/#/experiments/1/runs/795af85b599e4cfb990a8812499cb919\n",
      "🧪 View experiment at: https://mlops-25-634030133521.us-west2.run.app/#/experiments/1\n"
     ]
    },
    {
     "name": "stderr",
     "output_type": "stream",
     "text": [
      "25it [01:33,  4.14s/it]"
     ]
    },
    {
     "name": "stdout",
     "output_type": "stream",
     "text": [
      "🏃 View run Logistic Regression - Combo 24 at: https://mlops-25-634030133521.us-west2.run.app/#/experiments/1/runs/741dbd1994e643acb137b050cd1e51ce\n",
      "🧪 View experiment at: https://mlops-25-634030133521.us-west2.run.app/#/experiments/1\n"
     ]
    },
    {
     "name": "stderr",
     "output_type": "stream",
     "text": [
      "26it [01:34,  3.09s/it]"
     ]
    },
    {
     "name": "stdout",
     "output_type": "stream",
     "text": [
      "🏃 View run Logistic Regression - Combo 25 at: https://mlops-25-634030133521.us-west2.run.app/#/experiments/1/runs/a63f0acf85c148ce8fb27a31546d54be\n",
      "🧪 View experiment at: https://mlops-25-634030133521.us-west2.run.app/#/experiments/1\n"
     ]
    },
    {
     "name": "stderr",
     "output_type": "stream",
     "text": [
      "27it [01:39,  3.54s/it]"
     ]
    },
    {
     "name": "stdout",
     "output_type": "stream",
     "text": [
      "🏃 View run Logistic Regression - Combo 26 at: https://mlops-25-634030133521.us-west2.run.app/#/experiments/1/runs/f7ca6bec0f8b4969be375a5c6676e0f4\n",
      "🧪 View experiment at: https://mlops-25-634030133521.us-west2.run.app/#/experiments/1\n"
     ]
    },
    {
     "name": "stderr",
     "output_type": "stream",
     "text": [
      "28it [01:39,  2.63s/it]"
     ]
    },
    {
     "name": "stdout",
     "output_type": "stream",
     "text": [
      "🏃 View run Logistic Regression - Combo 27 at: https://mlops-25-634030133521.us-west2.run.app/#/experiments/1/runs/288ec1a233d94e8bad5444ed822e36b4\n",
      "🧪 View experiment at: https://mlops-25-634030133521.us-west2.run.app/#/experiments/1\n"
     ]
    },
    {
     "name": "stderr",
     "output_type": "stream",
     "text": [
      "29it [01:43,  3.09s/it]"
     ]
    },
    {
     "name": "stdout",
     "output_type": "stream",
     "text": [
      "🏃 View run Logistic Regression - Combo 28 at: https://mlops-25-634030133521.us-west2.run.app/#/experiments/1/runs/939cabd7f12c48db8321dccb0e26a667\n",
      "🧪 View experiment at: https://mlops-25-634030133521.us-west2.run.app/#/experiments/1\n"
     ]
    },
    {
     "name": "stderr",
     "output_type": "stream",
     "text": [
      "30it [01:47,  3.45s/it]"
     ]
    },
    {
     "name": "stdout",
     "output_type": "stream",
     "text": [
      "🏃 View run Logistic Regression - Combo 29 at: https://mlops-25-634030133521.us-west2.run.app/#/experiments/1/runs/eedd3b4d3ba346aa9ffde58939cc21e2\n",
      "🧪 View experiment at: https://mlops-25-634030133521.us-west2.run.app/#/experiments/1\n"
     ]
    },
    {
     "name": "stderr",
     "output_type": "stream",
     "text": [
      "31it [01:52,  3.81s/it]"
     ]
    },
    {
     "name": "stdout",
     "output_type": "stream",
     "text": [
      "🏃 View run Logistic Regression - Combo 30 at: https://mlops-25-634030133521.us-west2.run.app/#/experiments/1/runs/f71bba75743a4dd8a0081f3eb5a2cbb9\n",
      "🧪 View experiment at: https://mlops-25-634030133521.us-west2.run.app/#/experiments/1\n"
     ]
    },
    {
     "name": "stderr",
     "output_type": "stream",
     "text": [
      "32it [01:56,  3.95s/it]"
     ]
    },
    {
     "name": "stdout",
     "output_type": "stream",
     "text": [
      "🏃 View run Logistic Regression - Combo 31 at: https://mlops-25-634030133521.us-west2.run.app/#/experiments/1/runs/3de593602213497282d172dfdd257331\n",
      "🧪 View experiment at: https://mlops-25-634030133521.us-west2.run.app/#/experiments/1\n"
     ]
    },
    {
     "name": "stderr",
     "output_type": "stream",
     "text": [
      "33it [02:01,  4.01s/it]"
     ]
    },
    {
     "name": "stdout",
     "output_type": "stream",
     "text": [
      "🏃 View run Logistic Regression - Combo 32 at: https://mlops-25-634030133521.us-west2.run.app/#/experiments/1/runs/f4e180c385a3411e9bda00c0003faaa4\n",
      "🧪 View experiment at: https://mlops-25-634030133521.us-west2.run.app/#/experiments/1\n"
     ]
    },
    {
     "name": "stderr",
     "output_type": "stream",
     "text": [
      "34it [02:05,  4.06s/it]"
     ]
    },
    {
     "name": "stdout",
     "output_type": "stream",
     "text": [
      "🏃 View run Logistic Regression - Combo 33 at: https://mlops-25-634030133521.us-west2.run.app/#/experiments/1/runs/4667d7ce1c924c9cbe60bf04ddbd0ddf\n",
      "🧪 View experiment at: https://mlops-25-634030133521.us-west2.run.app/#/experiments/1\n"
     ]
    },
    {
     "name": "stderr",
     "output_type": "stream",
     "text": [
      "35it [02:05,  2.98s/it]"
     ]
    },
    {
     "name": "stdout",
     "output_type": "stream",
     "text": [
      "🏃 View run Logistic Regression - Combo 34 at: https://mlops-25-634030133521.us-west2.run.app/#/experiments/1/runs/d8c8cdca88cb4d2da31a8640c072eb72\n",
      "🧪 View experiment at: https://mlops-25-634030133521.us-west2.run.app/#/experiments/1\n"
     ]
    },
    {
     "name": "stderr",
     "output_type": "stream",
     "text": [
      "36it [02:09,  3.61s/it]"
     ]
    },
    {
     "name": "stdout",
     "output_type": "stream",
     "text": [
      "🏃 View run Logistic Regression - Combo 35 at: https://mlops-25-634030133521.us-west2.run.app/#/experiments/1/runs/40b5d4bc473a467bbc36e9d33fbbbed2\n",
      "🧪 View experiment at: https://mlops-25-634030133521.us-west2.run.app/#/experiments/1\n"
     ]
    },
    {
     "name": "stderr",
     "output_type": "stream",
     "text": [
      "\n"
     ]
    }
   ],
   "source": [
    "# Classifier pipeline\n",
    "pipeline = Pipeline(steps=[\n",
    "    (\"preprocessor\", preprocessor),\n",
    "    (\"classifier\", LogisticRegression(max_iter=1000, random_state=42))\n",
    "])\n",
    "\n",
    "# Hyperparameter grid\n",
    "param_grid = {\n",
    "    'classifier__C': [0.01, 0.1, 1, 10],\n",
    "    'classifier__penalty': ['l1', 'l2', None],\n",
    "    'classifier__solver': ['lbfgs', 'liblinear', 'saga']\n",
    "}\n",
    "\n",
    "# Parameter Grid\n",
    "grid = ParameterGrid(param_grid)\n",
    "\n",
    "# Running the different experiments\n",
    "run_experiments(pipeline, grid, \"Logistic Regression\")"
   ]
  },
  {
   "cell_type": "markdown",
   "metadata": {},
   "source": [
    "### With Feature selection"
   ]
  },
  {
   "cell_type": "code",
   "execution_count": 26,
   "metadata": {},
   "outputs": [
    {
     "name": "stderr",
     "output_type": "stream",
     "text": [
      "1it [00:00,  1.92it/s]"
     ]
    },
    {
     "name": "stdout",
     "output_type": "stream",
     "text": [
      "🏃 View run Logistic Regression + Feature Selection - Combo 0 at: https://mlops-25-634030133521.us-west2.run.app/#/experiments/1/runs/3376f2b3e57f41a2b1a9c1eae34e8257\n",
      "🧪 View experiment at: https://mlops-25-634030133521.us-west2.run.app/#/experiments/1\n"
     ]
    },
    {
     "name": "stderr",
     "output_type": "stream",
     "text": [
      "2it [00:00,  2.26it/s]"
     ]
    },
    {
     "name": "stdout",
     "output_type": "stream",
     "text": [
      "🏃 View run Logistic Regression + Feature Selection - Combo 1 at: https://mlops-25-634030133521.us-west2.run.app/#/experiments/1/runs/92bcbd0c8ad446fb850b3d7fd87c69f8\n",
      "🧪 View experiment at: https://mlops-25-634030133521.us-west2.run.app/#/experiments/1\n"
     ]
    },
    {
     "name": "stderr",
     "output_type": "stream",
     "text": [
      "3it [00:01,  2.58it/s]"
     ]
    },
    {
     "name": "stdout",
     "output_type": "stream",
     "text": [
      "🏃 View run Logistic Regression + Feature Selection - Combo 2 at: https://mlops-25-634030133521.us-west2.run.app/#/experiments/1/runs/c69ae4163a80455ba76201c93457afad\n",
      "🧪 View experiment at: https://mlops-25-634030133521.us-west2.run.app/#/experiments/1\n"
     ]
    },
    {
     "name": "stderr",
     "output_type": "stream",
     "text": [
      "4it [00:06,  2.18s/it]"
     ]
    },
    {
     "name": "stdout",
     "output_type": "stream",
     "text": [
      "🏃 View run Logistic Regression + Feature Selection - Combo 3 at: https://mlops-25-634030133521.us-west2.run.app/#/experiments/1/runs/431456b1a7ab44ec802d01d7c1c09ee1\n",
      "🧪 View experiment at: https://mlops-25-634030133521.us-west2.run.app/#/experiments/1\n"
     ]
    },
    {
     "name": "stderr",
     "output_type": "stream",
     "text": [
      "5it [00:11,  3.30s/it]"
     ]
    },
    {
     "name": "stdout",
     "output_type": "stream",
     "text": [
      "🏃 View run Logistic Regression + Feature Selection - Combo 4 at: https://mlops-25-634030133521.us-west2.run.app/#/experiments/1/runs/808259bfc65e47d38d3d2f4bf8dcb89e\n",
      "🧪 View experiment at: https://mlops-25-634030133521.us-west2.run.app/#/experiments/1\n"
     ]
    },
    {
     "name": "stderr",
     "output_type": "stream",
     "text": [
      "6it [00:15,  3.66s/it]"
     ]
    },
    {
     "name": "stdout",
     "output_type": "stream",
     "text": [
      "🏃 View run Logistic Regression + Feature Selection - Combo 5 at: https://mlops-25-634030133521.us-west2.run.app/#/experiments/1/runs/56b29fa106664e5ab586b02d7354b981\n",
      "🧪 View experiment at: https://mlops-25-634030133521.us-west2.run.app/#/experiments/1\n"
     ]
    },
    {
     "name": "stderr",
     "output_type": "stream",
     "text": [
      "7it [00:16,  2.63s/it]"
     ]
    },
    {
     "name": "stdout",
     "output_type": "stream",
     "text": [
      "🏃 View run Logistic Regression + Feature Selection - Combo 6 at: https://mlops-25-634030133521.us-west2.run.app/#/experiments/1/runs/567a6c9791844b3eb3478b2a36051cf4\n",
      "🧪 View experiment at: https://mlops-25-634030133521.us-west2.run.app/#/experiments/1\n"
     ]
    },
    {
     "name": "stderr",
     "output_type": "stream",
     "text": [
      "8it [00:16,  1.94s/it]"
     ]
    },
    {
     "name": "stdout",
     "output_type": "stream",
     "text": [
      "🏃 View run Logistic Regression + Feature Selection - Combo 7 at: https://mlops-25-634030133521.us-west2.run.app/#/experiments/1/runs/55e8e6126d894fe18bfb6784906fcaaa\n",
      "🧪 View experiment at: https://mlops-25-634030133521.us-west2.run.app/#/experiments/1\n"
     ]
    },
    {
     "name": "stderr",
     "output_type": "stream",
     "text": [
      "9it [00:17,  1.48s/it]"
     ]
    },
    {
     "name": "stdout",
     "output_type": "stream",
     "text": [
      "🏃 View run Logistic Regression + Feature Selection - Combo 8 at: https://mlops-25-634030133521.us-west2.run.app/#/experiments/1/runs/ab8c7229ad5949588b7ddb9d9fda326f\n",
      "🧪 View experiment at: https://mlops-25-634030133521.us-west2.run.app/#/experiments/1\n"
     ]
    },
    {
     "name": "stderr",
     "output_type": "stream",
     "text": [
      "10it [00:21,  2.48s/it]"
     ]
    },
    {
     "name": "stdout",
     "output_type": "stream",
     "text": [
      "🏃 View run Logistic Regression + Feature Selection - Combo 9 at: https://mlops-25-634030133521.us-west2.run.app/#/experiments/1/runs/ce7bcada32ff4109ba84a2eccea66c15\n",
      "🧪 View experiment at: https://mlops-25-634030133521.us-west2.run.app/#/experiments/1\n"
     ]
    },
    {
     "name": "stderr",
     "output_type": "stream",
     "text": [
      "11it [00:26,  3.17s/it]"
     ]
    },
    {
     "name": "stdout",
     "output_type": "stream",
     "text": [
      "🏃 View run Logistic Regression + Feature Selection - Combo 10 at: https://mlops-25-634030133521.us-west2.run.app/#/experiments/1/runs/116213099af04b8aa1c6efc217d473e7\n",
      "🧪 View experiment at: https://mlops-25-634030133521.us-west2.run.app/#/experiments/1\n"
     ]
    },
    {
     "name": "stderr",
     "output_type": "stream",
     "text": [
      "12it [00:31,  3.61s/it]"
     ]
    },
    {
     "name": "stdout",
     "output_type": "stream",
     "text": [
      "🏃 View run Logistic Regression + Feature Selection - Combo 11 at: https://mlops-25-634030133521.us-west2.run.app/#/experiments/1/runs/5c5b30ff0a5d4d94882fa7d25aa5576e\n",
      "🧪 View experiment at: https://mlops-25-634030133521.us-west2.run.app/#/experiments/1\n"
     ]
    },
    {
     "name": "stderr",
     "output_type": "stream",
     "text": [
      "13it [00:31,  2.61s/it]"
     ]
    },
    {
     "name": "stdout",
     "output_type": "stream",
     "text": [
      "🏃 View run Logistic Regression + Feature Selection - Combo 12 at: https://mlops-25-634030133521.us-west2.run.app/#/experiments/1/runs/c0bec766fdf14d8cb897ffeb31515049\n",
      "🧪 View experiment at: https://mlops-25-634030133521.us-west2.run.app/#/experiments/1\n"
     ]
    },
    {
     "name": "stderr",
     "output_type": "stream",
     "text": [
      "14it [00:31,  1.93s/it]"
     ]
    },
    {
     "name": "stdout",
     "output_type": "stream",
     "text": [
      "🏃 View run Logistic Regression + Feature Selection - Combo 13 at: https://mlops-25-634030133521.us-west2.run.app/#/experiments/1/runs/595dcf63a49d4facadcfc83b69e80f10\n",
      "🧪 View experiment at: https://mlops-25-634030133521.us-west2.run.app/#/experiments/1\n"
     ]
    },
    {
     "name": "stderr",
     "output_type": "stream",
     "text": [
      "15it [00:32,  1.48s/it]"
     ]
    },
    {
     "name": "stdout",
     "output_type": "stream",
     "text": [
      "🏃 View run Logistic Regression + Feature Selection - Combo 14 at: https://mlops-25-634030133521.us-west2.run.app/#/experiments/1/runs/53241dc4208e4447802a2d36c24758fa\n",
      "🧪 View experiment at: https://mlops-25-634030133521.us-west2.run.app/#/experiments/1\n"
     ]
    },
    {
     "name": "stderr",
     "output_type": "stream",
     "text": [
      "16it [00:36,  2.38s/it]"
     ]
    },
    {
     "name": "stdout",
     "output_type": "stream",
     "text": [
      "🏃 View run Logistic Regression + Feature Selection - Combo 15 at: https://mlops-25-634030133521.us-west2.run.app/#/experiments/1/runs/88e94c80843d415da1679e597077e683\n",
      "🧪 View experiment at: https://mlops-25-634030133521.us-west2.run.app/#/experiments/1\n"
     ]
    },
    {
     "name": "stderr",
     "output_type": "stream",
     "text": [
      "17it [00:41,  3.16s/it]"
     ]
    },
    {
     "name": "stdout",
     "output_type": "stream",
     "text": [
      "🏃 View run Logistic Regression + Feature Selection - Combo 16 at: https://mlops-25-634030133521.us-west2.run.app/#/experiments/1/runs/095da276615e4aaebd77c400222030ed\n",
      "🧪 View experiment at: https://mlops-25-634030133521.us-west2.run.app/#/experiments/1\n"
     ]
    },
    {
     "name": "stderr",
     "output_type": "stream",
     "text": [
      "18it [00:47,  3.78s/it]"
     ]
    },
    {
     "name": "stdout",
     "output_type": "stream",
     "text": [
      "🏃 View run Logistic Regression + Feature Selection - Combo 17 at: https://mlops-25-634030133521.us-west2.run.app/#/experiments/1/runs/0a91f22132d64aedb29368269cecc197\n",
      "🧪 View experiment at: https://mlops-25-634030133521.us-west2.run.app/#/experiments/1\n"
     ]
    },
    {
     "name": "stderr",
     "output_type": "stream",
     "text": [
      "19it [00:47,  2.80s/it]"
     ]
    },
    {
     "name": "stdout",
     "output_type": "stream",
     "text": [
      "🏃 View run Logistic Regression + Feature Selection - Combo 18 at: https://mlops-25-634030133521.us-west2.run.app/#/experiments/1/runs/39b2102e05684797abb1b83d0f04c855\n",
      "🧪 View experiment at: https://mlops-25-634030133521.us-west2.run.app/#/experiments/1\n"
     ]
    },
    {
     "name": "stderr",
     "output_type": "stream",
     "text": [
      "20it [00:47,  2.05s/it]"
     ]
    },
    {
     "name": "stdout",
     "output_type": "stream",
     "text": [
      "🏃 View run Logistic Regression + Feature Selection - Combo 19 at: https://mlops-25-634030133521.us-west2.run.app/#/experiments/1/runs/8e4a5df628ba4dbab8eacbc476682d1f\n",
      "🧪 View experiment at: https://mlops-25-634030133521.us-west2.run.app/#/experiments/1\n"
     ]
    },
    {
     "name": "stderr",
     "output_type": "stream",
     "text": [
      "21it [00:48,  1.57s/it]"
     ]
    },
    {
     "name": "stdout",
     "output_type": "stream",
     "text": [
      "🏃 View run Logistic Regression + Feature Selection - Combo 20 at: https://mlops-25-634030133521.us-west2.run.app/#/experiments/1/runs/0fae65cd192e4c2d8ab0999303da33b2\n",
      "🧪 View experiment at: https://mlops-25-634030133521.us-west2.run.app/#/experiments/1\n"
     ]
    },
    {
     "name": "stderr",
     "output_type": "stream",
     "text": [
      "22it [00:52,  2.48s/it]"
     ]
    },
    {
     "name": "stdout",
     "output_type": "stream",
     "text": [
      "🏃 View run Logistic Regression + Feature Selection - Combo 21 at: https://mlops-25-634030133521.us-west2.run.app/#/experiments/1/runs/e4a89a901e684a809d387d43bf29cf5e\n",
      "🧪 View experiment at: https://mlops-25-634030133521.us-west2.run.app/#/experiments/1\n"
     ]
    },
    {
     "name": "stderr",
     "output_type": "stream",
     "text": [
      "23it [00:57,  3.13s/it]"
     ]
    },
    {
     "name": "stdout",
     "output_type": "stream",
     "text": [
      "🏃 View run Logistic Regression + Feature Selection - Combo 22 at: https://mlops-25-634030133521.us-west2.run.app/#/experiments/1/runs/b1296382b6be4551883660872ad4aa57\n",
      "🧪 View experiment at: https://mlops-25-634030133521.us-west2.run.app/#/experiments/1\n"
     ]
    },
    {
     "name": "stderr",
     "output_type": "stream",
     "text": [
      "24it [01:02,  2.59s/it]"
     ]
    },
    {
     "name": "stdout",
     "output_type": "stream",
     "text": [
      "🏃 View run Logistic Regression + Feature Selection - Combo 23 at: https://mlops-25-634030133521.us-west2.run.app/#/experiments/1/runs/267eb1cc02284518b278875ecd9846c8\n",
      "🧪 View experiment at: https://mlops-25-634030133521.us-west2.run.app/#/experiments/1\n"
     ]
    },
    {
     "name": "stderr",
     "output_type": "stream",
     "text": [
      "\n"
     ]
    }
   ],
   "source": [
    "feature_selector = SelectFromModel(LogisticRegression(penalty=\"l1\", solver=\"liblinear\", random_state=42))\n",
    "\n",
    "# Classifier pipeline\n",
    "pipeline = Pipeline(steps=[\n",
    "    (\"preprocessor\", preprocessor),\n",
    "    (\"feature_selection\", feature_selector),\n",
    "    (\"classifier\", LogisticRegression(max_iter=1000, random_state=42))\n",
    "])\n",
    "\n",
    "# Hyperparameter grid\n",
    "param_grid = {\n",
    "    'classifier__C': [0.01, 0.1, 1, 10],\n",
    "    'classifier__penalty': ['l1'],\n",
    "    'classifier__solver': ['lbfgs', 'liblinear'],\n",
    "    \"feature_selection__threshold\": [\"mean\", \"median\", 0.01]\n",
    "}\n",
    "\n",
    "# Parameter Grid\n",
    "grid = ParameterGrid(param_grid)\n",
    "\n",
    "# Running the different experiments\n",
    "run_experiments_w_feature_selection(pipeline, grid, \"Logistic Regression + Feature Selection\")"
   ]
  },
  {
   "cell_type": "markdown",
   "metadata": {},
   "source": [
    "## 2. Decision Tree Classifier"
   ]
  },
  {
   "cell_type": "code",
   "execution_count": 27,
   "metadata": {},
   "outputs": [
    {
     "name": "stderr",
     "output_type": "stream",
     "text": [
      "1it [00:03,  3.76s/it]"
     ]
    },
    {
     "name": "stdout",
     "output_type": "stream",
     "text": [
      "🏃 View run Decision Tree - Combo 0 at: https://mlops-25-634030133521.us-west2.run.app/#/experiments/1/runs/48814fba18bf43e49278e817e374466a\n",
      "🧪 View experiment at: https://mlops-25-634030133521.us-west2.run.app/#/experiments/1\n"
     ]
    },
    {
     "name": "stderr",
     "output_type": "stream",
     "text": [
      "2it [00:07,  3.98s/it]"
     ]
    },
    {
     "name": "stdout",
     "output_type": "stream",
     "text": [
      "🏃 View run Decision Tree - Combo 1 at: https://mlops-25-634030133521.us-west2.run.app/#/experiments/1/runs/72591dc437c34e379d23ee8df2792f7d\n",
      "🧪 View experiment at: https://mlops-25-634030133521.us-west2.run.app/#/experiments/1\n"
     ]
    },
    {
     "name": "stderr",
     "output_type": "stream",
     "text": [
      "3it [00:12,  4.08s/it]"
     ]
    },
    {
     "name": "stdout",
     "output_type": "stream",
     "text": [
      "🏃 View run Decision Tree - Combo 2 at: https://mlops-25-634030133521.us-west2.run.app/#/experiments/1/runs/1f77fd789c844aa08de105dc889c096d\n",
      "🧪 View experiment at: https://mlops-25-634030133521.us-west2.run.app/#/experiments/1\n"
     ]
    },
    {
     "name": "stderr",
     "output_type": "stream",
     "text": [
      "4it [00:16,  4.15s/it]"
     ]
    },
    {
     "name": "stdout",
     "output_type": "stream",
     "text": [
      "🏃 View run Decision Tree - Combo 3 at: https://mlops-25-634030133521.us-west2.run.app/#/experiments/1/runs/3f0b5989424c4599b7fae48061fff19a\n",
      "🧪 View experiment at: https://mlops-25-634030133521.us-west2.run.app/#/experiments/1\n"
     ]
    },
    {
     "name": "stderr",
     "output_type": "stream",
     "text": [
      "5it [00:20,  4.23s/it]"
     ]
    },
    {
     "name": "stdout",
     "output_type": "stream",
     "text": [
      "🏃 View run Decision Tree - Combo 4 at: https://mlops-25-634030133521.us-west2.run.app/#/experiments/1/runs/589691784f744e3186c282ecbd5cf70c\n",
      "🧪 View experiment at: https://mlops-25-634030133521.us-west2.run.app/#/experiments/1\n"
     ]
    },
    {
     "name": "stderr",
     "output_type": "stream",
     "text": [
      "6it [00:24,  4.16s/it]"
     ]
    },
    {
     "name": "stdout",
     "output_type": "stream",
     "text": [
      "🏃 View run Decision Tree - Combo 5 at: https://mlops-25-634030133521.us-west2.run.app/#/experiments/1/runs/8cdb78b020264d009d7db82ee1c38c60\n",
      "🧪 View experiment at: https://mlops-25-634030133521.us-west2.run.app/#/experiments/1\n"
     ]
    },
    {
     "name": "stderr",
     "output_type": "stream",
     "text": [
      "7it [00:29,  4.35s/it]"
     ]
    },
    {
     "name": "stdout",
     "output_type": "stream",
     "text": [
      "🏃 View run Decision Tree - Combo 6 at: https://mlops-25-634030133521.us-west2.run.app/#/experiments/1/runs/5bb6a6d971594fd38c78bc7d502e6faf\n",
      "🧪 View experiment at: https://mlops-25-634030133521.us-west2.run.app/#/experiments/1\n"
     ]
    },
    {
     "name": "stderr",
     "output_type": "stream",
     "text": [
      "8it [00:33,  4.40s/it]"
     ]
    },
    {
     "name": "stdout",
     "output_type": "stream",
     "text": [
      "🏃 View run Decision Tree - Combo 7 at: https://mlops-25-634030133521.us-west2.run.app/#/experiments/1/runs/9e852ff48b1b4d2e831fef513f0dc2ca\n",
      "🧪 View experiment at: https://mlops-25-634030133521.us-west2.run.app/#/experiments/1\n"
     ]
    },
    {
     "name": "stderr",
     "output_type": "stream",
     "text": [
      "9it [00:37,  4.25s/it]"
     ]
    },
    {
     "name": "stdout",
     "output_type": "stream",
     "text": [
      "🏃 View run Decision Tree - Combo 8 at: https://mlops-25-634030133521.us-west2.run.app/#/experiments/1/runs/edba2575923a4372867de75cbce43282\n",
      "🧪 View experiment at: https://mlops-25-634030133521.us-west2.run.app/#/experiments/1\n"
     ]
    },
    {
     "name": "stderr",
     "output_type": "stream",
     "text": [
      "10it [00:42,  4.33s/it]"
     ]
    },
    {
     "name": "stdout",
     "output_type": "stream",
     "text": [
      "🏃 View run Decision Tree - Combo 9 at: https://mlops-25-634030133521.us-west2.run.app/#/experiments/1/runs/e1b8ff467b5048e394dc150c2d178f7d\n",
      "🧪 View experiment at: https://mlops-25-634030133521.us-west2.run.app/#/experiments/1\n"
     ]
    },
    {
     "name": "stderr",
     "output_type": "stream",
     "text": [
      "11it [00:46,  4.32s/it]"
     ]
    },
    {
     "name": "stdout",
     "output_type": "stream",
     "text": [
      "🏃 View run Decision Tree - Combo 10 at: https://mlops-25-634030133521.us-west2.run.app/#/experiments/1/runs/bd6eda546dc449299a748b9910d812bf\n",
      "🧪 View experiment at: https://mlops-25-634030133521.us-west2.run.app/#/experiments/1\n"
     ]
    },
    {
     "name": "stderr",
     "output_type": "stream",
     "text": [
      "12it [00:50,  4.25s/it]"
     ]
    },
    {
     "name": "stdout",
     "output_type": "stream",
     "text": [
      "🏃 View run Decision Tree - Combo 11 at: https://mlops-25-634030133521.us-west2.run.app/#/experiments/1/runs/468506b7ba474bb69562e0b0405fd005\n",
      "🧪 View experiment at: https://mlops-25-634030133521.us-west2.run.app/#/experiments/1\n"
     ]
    },
    {
     "name": "stderr",
     "output_type": "stream",
     "text": [
      "13it [00:55,  4.25s/it]"
     ]
    },
    {
     "name": "stdout",
     "output_type": "stream",
     "text": [
      "🏃 View run Decision Tree - Combo 12 at: https://mlops-25-634030133521.us-west2.run.app/#/experiments/1/runs/bc563c32eb404e7795db4576fdf2593c\n",
      "🧪 View experiment at: https://mlops-25-634030133521.us-west2.run.app/#/experiments/1\n"
     ]
    },
    {
     "name": "stderr",
     "output_type": "stream",
     "text": [
      "14it [00:59,  4.27s/it]"
     ]
    },
    {
     "name": "stdout",
     "output_type": "stream",
     "text": [
      "🏃 View run Decision Tree - Combo 13 at: https://mlops-25-634030133521.us-west2.run.app/#/experiments/1/runs/d2833338083d45e5b75dae33c4d21812\n",
      "🧪 View experiment at: https://mlops-25-634030133521.us-west2.run.app/#/experiments/1\n"
     ]
    },
    {
     "name": "stderr",
     "output_type": "stream",
     "text": [
      "15it [01:03,  4.15s/it]"
     ]
    },
    {
     "name": "stdout",
     "output_type": "stream",
     "text": [
      "🏃 View run Decision Tree - Combo 14 at: https://mlops-25-634030133521.us-west2.run.app/#/experiments/1/runs/07ca0f726033456f8ee0af07285bf53b\n",
      "🧪 View experiment at: https://mlops-25-634030133521.us-west2.run.app/#/experiments/1\n"
     ]
    },
    {
     "name": "stderr",
     "output_type": "stream",
     "text": [
      "16it [01:07,  4.24s/it]"
     ]
    },
    {
     "name": "stdout",
     "output_type": "stream",
     "text": [
      "🏃 View run Decision Tree - Combo 15 at: https://mlops-25-634030133521.us-west2.run.app/#/experiments/1/runs/0f6e88399e3c4aecaa8e7e98f15fedb9\n",
      "🧪 View experiment at: https://mlops-25-634030133521.us-west2.run.app/#/experiments/1\n"
     ]
    },
    {
     "name": "stderr",
     "output_type": "stream",
     "text": [
      "17it [01:11,  4.23s/it]"
     ]
    },
    {
     "name": "stdout",
     "output_type": "stream",
     "text": [
      "🏃 View run Decision Tree - Combo 16 at: https://mlops-25-634030133521.us-west2.run.app/#/experiments/1/runs/52054b37386542c3a069ec7d26dbc74d\n",
      "🧪 View experiment at: https://mlops-25-634030133521.us-west2.run.app/#/experiments/1\n"
     ]
    },
    {
     "name": "stderr",
     "output_type": "stream",
     "text": [
      "18it [01:16,  4.22s/it]"
     ]
    },
    {
     "name": "stdout",
     "output_type": "stream",
     "text": [
      "🏃 View run Decision Tree - Combo 17 at: https://mlops-25-634030133521.us-west2.run.app/#/experiments/1/runs/3c90d54e072340699ae239ee0ec9345b\n",
      "🧪 View experiment at: https://mlops-25-634030133521.us-west2.run.app/#/experiments/1\n"
     ]
    },
    {
     "name": "stderr",
     "output_type": "stream",
     "text": [
      "19it [01:20,  4.18s/it]"
     ]
    },
    {
     "name": "stdout",
     "output_type": "stream",
     "text": [
      "🏃 View run Decision Tree - Combo 18 at: https://mlops-25-634030133521.us-west2.run.app/#/experiments/1/runs/fdbf9bea63a64825801bd42dc3a22db0\n",
      "🧪 View experiment at: https://mlops-25-634030133521.us-west2.run.app/#/experiments/1\n"
     ]
    },
    {
     "name": "stderr",
     "output_type": "stream",
     "text": [
      "20it [01:24,  4.20s/it]"
     ]
    },
    {
     "name": "stdout",
     "output_type": "stream",
     "text": [
      "🏃 View run Decision Tree - Combo 19 at: https://mlops-25-634030133521.us-west2.run.app/#/experiments/1/runs/8e6431c99c3448af8d343917d51039ad\n",
      "🧪 View experiment at: https://mlops-25-634030133521.us-west2.run.app/#/experiments/1\n"
     ]
    },
    {
     "name": "stderr",
     "output_type": "stream",
     "text": [
      "21it [01:28,  4.13s/it]"
     ]
    },
    {
     "name": "stdout",
     "output_type": "stream",
     "text": [
      "🏃 View run Decision Tree - Combo 20 at: https://mlops-25-634030133521.us-west2.run.app/#/experiments/1/runs/05130b7e0c274098ab7b575a385d0890\n",
      "🧪 View experiment at: https://mlops-25-634030133521.us-west2.run.app/#/experiments/1\n"
     ]
    },
    {
     "name": "stderr",
     "output_type": "stream",
     "text": [
      "22it [01:32,  4.07s/it]"
     ]
    },
    {
     "name": "stdout",
     "output_type": "stream",
     "text": [
      "🏃 View run Decision Tree - Combo 21 at: https://mlops-25-634030133521.us-west2.run.app/#/experiments/1/runs/850edafb975340e08dea09ec206ae2db\n",
      "🧪 View experiment at: https://mlops-25-634030133521.us-west2.run.app/#/experiments/1\n"
     ]
    },
    {
     "name": "stderr",
     "output_type": "stream",
     "text": [
      "23it [01:37,  4.27s/it]"
     ]
    },
    {
     "name": "stdout",
     "output_type": "stream",
     "text": [
      "🏃 View run Decision Tree - Combo 22 at: https://mlops-25-634030133521.us-west2.run.app/#/experiments/1/runs/6f717d35758845a189c8202e9b56e0d2\n",
      "🧪 View experiment at: https://mlops-25-634030133521.us-west2.run.app/#/experiments/1\n"
     ]
    },
    {
     "name": "stderr",
     "output_type": "stream",
     "text": [
      "24it [01:41,  4.22s/it]"
     ]
    },
    {
     "name": "stdout",
     "output_type": "stream",
     "text": [
      "🏃 View run Decision Tree - Combo 23 at: https://mlops-25-634030133521.us-west2.run.app/#/experiments/1/runs/cc75699dbb53439d81dafb50e5d5c6ce\n",
      "🧪 View experiment at: https://mlops-25-634030133521.us-west2.run.app/#/experiments/1\n"
     ]
    },
    {
     "name": "stderr",
     "output_type": "stream",
     "text": [
      "\n"
     ]
    }
   ],
   "source": [
    "# Classifier pipeline\n",
    "pipeline = Pipeline(steps=[\n",
    "    (\"preprocessor\", preprocessor),\n",
    "    (\"classifier\", DecisionTreeClassifier(random_state=42))\n",
    "])\n",
    "\n",
    "# Hyperparameter grid\n",
    "param_grid = {\n",
    "    \"classifier__max_depth\": [3, 5, 10, None],\n",
    "    \"classifier__min_samples_split\": [2, 5, 10],\n",
    "    \"classifier__criterion\": [\"gini\", \"entropy\"]\n",
    "}\n",
    "\n",
    "# Parameter Grid\n",
    "grid = ParameterGrid(param_grid)\n",
    "\n",
    "# Running the different experiments\n",
    "run_experiments(pipeline, grid, \"Decision Tree\")"
   ]
  },
  {
   "cell_type": "markdown",
   "metadata": {},
   "source": [
    "### With Feature selection"
   ]
  },
  {
   "cell_type": "code",
   "execution_count": 28,
   "metadata": {},
   "outputs": [
    {
     "name": "stderr",
     "output_type": "stream",
     "text": [
      "0it [00:00, ?it/s]"
     ]
    },
    {
     "name": "stdout",
     "output_type": "stream",
     "text": [
      "🏃 View run Decision Tree + Feature Selection - Combo 0 at: https://mlops-25-634030133521.us-west2.run.app/#/experiments/1/runs/cff58eaf3bde4d8e9744628c2910fcb9\n",
      "🧪 View experiment at: https://mlops-25-634030133521.us-west2.run.app/#/experiments/1\n"
     ]
    },
    {
     "name": "stderr",
     "output_type": "stream",
     "text": [
      "2it [00:09,  4.59s/it]"
     ]
    },
    {
     "name": "stdout",
     "output_type": "stream",
     "text": [
      "🏃 View run Decision Tree + Feature Selection - Combo 1 at: https://mlops-25-634030133521.us-west2.run.app/#/experiments/1/runs/221e61b237b74d19a6a56cf61518bba2\n",
      "🧪 View experiment at: https://mlops-25-634030133521.us-west2.run.app/#/experiments/1\n"
     ]
    },
    {
     "name": "stderr",
     "output_type": "stream",
     "text": [
      "3it [00:13,  4.62s/it]"
     ]
    },
    {
     "name": "stdout",
     "output_type": "stream",
     "text": [
      "🏃 View run Decision Tree + Feature Selection - Combo 2 at: https://mlops-25-634030133521.us-west2.run.app/#/experiments/1/runs/d859777ec2ff47578103d218a23f6d07\n",
      "🧪 View experiment at: https://mlops-25-634030133521.us-west2.run.app/#/experiments/1\n"
     ]
    },
    {
     "name": "stderr",
     "output_type": "stream",
     "text": [
      "4it [00:18,  4.52s/it]"
     ]
    },
    {
     "name": "stdout",
     "output_type": "stream",
     "text": [
      "🏃 View run Decision Tree + Feature Selection - Combo 3 at: https://mlops-25-634030133521.us-west2.run.app/#/experiments/1/runs/238aeb9f4e73436597f10933291c75e6\n",
      "🧪 View experiment at: https://mlops-25-634030133521.us-west2.run.app/#/experiments/1\n"
     ]
    },
    {
     "name": "stderr",
     "output_type": "stream",
     "text": [
      "5it [00:22,  4.51s/it]"
     ]
    },
    {
     "name": "stdout",
     "output_type": "stream",
     "text": [
      "🏃 View run Decision Tree + Feature Selection - Combo 4 at: https://mlops-25-634030133521.us-west2.run.app/#/experiments/1/runs/8956d6a2ce7a4bceb69c070b9e075679\n",
      "🧪 View experiment at: https://mlops-25-634030133521.us-west2.run.app/#/experiments/1\n"
     ]
    },
    {
     "name": "stderr",
     "output_type": "stream",
     "text": [
      "6it [00:27,  4.52s/it]"
     ]
    },
    {
     "name": "stdout",
     "output_type": "stream",
     "text": [
      "🏃 View run Decision Tree + Feature Selection - Combo 5 at: https://mlops-25-634030133521.us-west2.run.app/#/experiments/1/runs/5788a4afd05e4f8b94b600693c4e1460\n",
      "🧪 View experiment at: https://mlops-25-634030133521.us-west2.run.app/#/experiments/1\n"
     ]
    },
    {
     "name": "stderr",
     "output_type": "stream",
     "text": [
      "7it [00:32,  4.83s/it]"
     ]
    },
    {
     "name": "stdout",
     "output_type": "stream",
     "text": [
      "🏃 View run Decision Tree + Feature Selection - Combo 6 at: https://mlops-25-634030133521.us-west2.run.app/#/experiments/1/runs/9b03424fde214aaea8d8ed89b96fc3e4\n",
      "🧪 View experiment at: https://mlops-25-634030133521.us-west2.run.app/#/experiments/1\n",
      "🏃 View run Decision Tree + Feature Selection - Combo 7 at: https://mlops-25-634030133521.us-west2.run.app/#/experiments/1/runs/812f1f7ed0334d8e8e31ba4b3846e923\n",
      "🧪 View experiment at: https://mlops-25-634030133521.us-west2.run.app/#/experiments/1\n"
     ]
    },
    {
     "name": "stderr",
     "output_type": "stream",
     "text": [
      "9it [00:42,  4.76s/it]"
     ]
    },
    {
     "name": "stdout",
     "output_type": "stream",
     "text": [
      "🏃 View run Decision Tree + Feature Selection - Combo 8 at: https://mlops-25-634030133521.us-west2.run.app/#/experiments/1/runs/68a596380ba04567bb5b15eec9d2bd1b\n",
      "🧪 View experiment at: https://mlops-25-634030133521.us-west2.run.app/#/experiments/1\n"
     ]
    },
    {
     "name": "stderr",
     "output_type": "stream",
     "text": [
      "10it [00:47,  4.84s/it]"
     ]
    },
    {
     "name": "stdout",
     "output_type": "stream",
     "text": [
      "🏃 View run Decision Tree + Feature Selection - Combo 9 at: https://mlops-25-634030133521.us-west2.run.app/#/experiments/1/runs/972c546bad644488943d26f483c96a4e\n",
      "🧪 View experiment at: https://mlops-25-634030133521.us-west2.run.app/#/experiments/1\n"
     ]
    },
    {
     "name": "stderr",
     "output_type": "stream",
     "text": [
      "11it [00:52,  4.83s/it]"
     ]
    },
    {
     "name": "stdout",
     "output_type": "stream",
     "text": [
      "🏃 View run Decision Tree + Feature Selection - Combo 10 at: https://mlops-25-634030133521.us-west2.run.app/#/experiments/1/runs/13e4aa687f6b4dbd8e2a39dca992fb5f\n",
      "🧪 View experiment at: https://mlops-25-634030133521.us-west2.run.app/#/experiments/1\n"
     ]
    },
    {
     "name": "stderr",
     "output_type": "stream",
     "text": [
      "12it [00:56,  4.74s/it]"
     ]
    },
    {
     "name": "stdout",
     "output_type": "stream",
     "text": [
      "🏃 View run Decision Tree + Feature Selection - Combo 11 at: https://mlops-25-634030133521.us-west2.run.app/#/experiments/1/runs/7781142233344229af1ef08fdc4ca66f\n",
      "🧪 View experiment at: https://mlops-25-634030133521.us-west2.run.app/#/experiments/1\n"
     ]
    },
    {
     "name": "stderr",
     "output_type": "stream",
     "text": [
      "13it [01:01,  4.67s/it]"
     ]
    },
    {
     "name": "stdout",
     "output_type": "stream",
     "text": [
      "🏃 View run Decision Tree + Feature Selection - Combo 12 at: https://mlops-25-634030133521.us-west2.run.app/#/experiments/1/runs/173640c7d9f84913ba9c0f75ab0f7e06\n",
      "🧪 View experiment at: https://mlops-25-634030133521.us-west2.run.app/#/experiments/1\n"
     ]
    },
    {
     "name": "stderr",
     "output_type": "stream",
     "text": [
      "14it [01:05,  4.64s/it]"
     ]
    },
    {
     "name": "stdout",
     "output_type": "stream",
     "text": [
      "🏃 View run Decision Tree + Feature Selection - Combo 13 at: https://mlops-25-634030133521.us-west2.run.app/#/experiments/1/runs/a7c8ee079a5346e18422922386e3de91\n",
      "🧪 View experiment at: https://mlops-25-634030133521.us-west2.run.app/#/experiments/1\n"
     ]
    },
    {
     "name": "stderr",
     "output_type": "stream",
     "text": [
      "15it [01:10,  4.61s/it]"
     ]
    },
    {
     "name": "stdout",
     "output_type": "stream",
     "text": [
      "🏃 View run Decision Tree + Feature Selection - Combo 14 at: https://mlops-25-634030133521.us-west2.run.app/#/experiments/1/runs/e66903c1dd9e4825943d524377fb6782\n",
      "🧪 View experiment at: https://mlops-25-634030133521.us-west2.run.app/#/experiments/1\n"
     ]
    },
    {
     "name": "stderr",
     "output_type": "stream",
     "text": [
      "16it [01:15,  4.78s/it]"
     ]
    },
    {
     "name": "stdout",
     "output_type": "stream",
     "text": [
      "🏃 View run Decision Tree + Feature Selection - Combo 15 at: https://mlops-25-634030133521.us-west2.run.app/#/experiments/1/runs/7292213c591945df8c478b640c57902f\n",
      "🧪 View experiment at: https://mlops-25-634030133521.us-west2.run.app/#/experiments/1\n"
     ]
    },
    {
     "name": "stderr",
     "output_type": "stream",
     "text": [
      "17it [01:20,  4.86s/it]"
     ]
    },
    {
     "name": "stdout",
     "output_type": "stream",
     "text": [
      "🏃 View run Decision Tree + Feature Selection - Combo 16 at: https://mlops-25-634030133521.us-west2.run.app/#/experiments/1/runs/2e9bfc9de5d94eaf8f112cf26aef009b\n",
      "🧪 View experiment at: https://mlops-25-634030133521.us-west2.run.app/#/experiments/1\n"
     ]
    },
    {
     "name": "stderr",
     "output_type": "stream",
     "text": [
      "18it [01:25,  4.84s/it]"
     ]
    },
    {
     "name": "stdout",
     "output_type": "stream",
     "text": [
      "🏃 View run Decision Tree + Feature Selection - Combo 17 at: https://mlops-25-634030133521.us-west2.run.app/#/experiments/1/runs/c58c114fe93046deba832e1f05d7e1e7\n",
      "🧪 View experiment at: https://mlops-25-634030133521.us-west2.run.app/#/experiments/1\n"
     ]
    },
    {
     "name": "stderr",
     "output_type": "stream",
     "text": [
      "19it [01:29,  4.67s/it]"
     ]
    },
    {
     "name": "stdout",
     "output_type": "stream",
     "text": [
      "🏃 View run Decision Tree + Feature Selection - Combo 18 at: https://mlops-25-634030133521.us-west2.run.app/#/experiments/1/runs/7a01a2f0df1c4b9a91c4d388aa865616\n",
      "🧪 View experiment at: https://mlops-25-634030133521.us-west2.run.app/#/experiments/1\n"
     ]
    },
    {
     "name": "stderr",
     "output_type": "stream",
     "text": [
      "20it [01:34,  4.86s/it]"
     ]
    },
    {
     "name": "stdout",
     "output_type": "stream",
     "text": [
      "🏃 View run Decision Tree + Feature Selection - Combo 19 at: https://mlops-25-634030133521.us-west2.run.app/#/experiments/1/runs/c8c2a56106f348ea996895e8d8232ade\n",
      "🧪 View experiment at: https://mlops-25-634030133521.us-west2.run.app/#/experiments/1\n"
     ]
    },
    {
     "name": "stderr",
     "output_type": "stream",
     "text": [
      "21it [01:39,  4.68s/it]"
     ]
    },
    {
     "name": "stdout",
     "output_type": "stream",
     "text": [
      "🏃 View run Decision Tree + Feature Selection - Combo 20 at: https://mlops-25-634030133521.us-west2.run.app/#/experiments/1/runs/e5d53cdcf09449f680bf12b5f398c039\n",
      "🧪 View experiment at: https://mlops-25-634030133521.us-west2.run.app/#/experiments/1\n"
     ]
    },
    {
     "name": "stderr",
     "output_type": "stream",
     "text": [
      "22it [01:44,  4.84s/it]"
     ]
    },
    {
     "name": "stdout",
     "output_type": "stream",
     "text": [
      "🏃 View run Decision Tree + Feature Selection - Combo 21 at: https://mlops-25-634030133521.us-west2.run.app/#/experiments/1/runs/9ba318df05a64fda9ba2a46c60d3b081\n",
      "🧪 View experiment at: https://mlops-25-634030133521.us-west2.run.app/#/experiments/1\n"
     ]
    },
    {
     "name": "stderr",
     "output_type": "stream",
     "text": [
      "23it [01:48,  4.77s/it]"
     ]
    },
    {
     "name": "stdout",
     "output_type": "stream",
     "text": [
      "🏃 View run Decision Tree + Feature Selection - Combo 22 at: https://mlops-25-634030133521.us-west2.run.app/#/experiments/1/runs/4dfd50d23db34457b5d4f1962ac78564\n",
      "🧪 View experiment at: https://mlops-25-634030133521.us-west2.run.app/#/experiments/1\n"
     ]
    },
    {
     "name": "stderr",
     "output_type": "stream",
     "text": [
      "24it [01:53,  4.75s/it]"
     ]
    },
    {
     "name": "stdout",
     "output_type": "stream",
     "text": [
      "🏃 View run Decision Tree + Feature Selection - Combo 23 at: https://mlops-25-634030133521.us-west2.run.app/#/experiments/1/runs/d569af5df6f34846bae177bfa73dda6c\n",
      "🧪 View experiment at: https://mlops-25-634030133521.us-west2.run.app/#/experiments/1\n"
     ]
    },
    {
     "name": "stderr",
     "output_type": "stream",
     "text": [
      "25it [01:58,  4.72s/it]"
     ]
    },
    {
     "name": "stdout",
     "output_type": "stream",
     "text": [
      "🏃 View run Decision Tree + Feature Selection - Combo 24 at: https://mlops-25-634030133521.us-west2.run.app/#/experiments/1/runs/ec51228bbc644b1e93d429bb09ec5081\n",
      "🧪 View experiment at: https://mlops-25-634030133521.us-west2.run.app/#/experiments/1\n"
     ]
    },
    {
     "name": "stderr",
     "output_type": "stream",
     "text": [
      "26it [02:02,  4.61s/it]"
     ]
    },
    {
     "name": "stdout",
     "output_type": "stream",
     "text": [
      "🏃 View run Decision Tree + Feature Selection - Combo 25 at: https://mlops-25-634030133521.us-west2.run.app/#/experiments/1/runs/0983ceb9d79c4408b96dc01ed6d82001\n",
      "🧪 View experiment at: https://mlops-25-634030133521.us-west2.run.app/#/experiments/1\n"
     ]
    },
    {
     "name": "stderr",
     "output_type": "stream",
     "text": [
      "27it [02:07,  4.58s/it]"
     ]
    },
    {
     "name": "stdout",
     "output_type": "stream",
     "text": [
      "🏃 View run Decision Tree + Feature Selection - Combo 26 at: https://mlops-25-634030133521.us-west2.run.app/#/experiments/1/runs/03c94a5b07224f47ae62a62111c2d8c3\n",
      "🧪 View experiment at: https://mlops-25-634030133521.us-west2.run.app/#/experiments/1\n"
     ]
    },
    {
     "name": "stderr",
     "output_type": "stream",
     "text": [
      "28it [02:11,  4.51s/it]"
     ]
    },
    {
     "name": "stdout",
     "output_type": "stream",
     "text": [
      "🏃 View run Decision Tree + Feature Selection - Combo 27 at: https://mlops-25-634030133521.us-west2.run.app/#/experiments/1/runs/234438063774449da4d820efc4d95fe5\n",
      "🧪 View experiment at: https://mlops-25-634030133521.us-west2.run.app/#/experiments/1\n"
     ]
    },
    {
     "name": "stderr",
     "output_type": "stream",
     "text": [
      "29it [02:16,  4.56s/it]"
     ]
    },
    {
     "name": "stdout",
     "output_type": "stream",
     "text": [
      "🏃 View run Decision Tree + Feature Selection - Combo 28 at: https://mlops-25-634030133521.us-west2.run.app/#/experiments/1/runs/245f00fd35044076b92d6519b5bc9058\n",
      "🧪 View experiment at: https://mlops-25-634030133521.us-west2.run.app/#/experiments/1\n"
     ]
    },
    {
     "name": "stderr",
     "output_type": "stream",
     "text": [
      "30it [02:20,  4.59s/it]"
     ]
    },
    {
     "name": "stdout",
     "output_type": "stream",
     "text": [
      "🏃 View run Decision Tree + Feature Selection - Combo 29 at: https://mlops-25-634030133521.us-west2.run.app/#/experiments/1/runs/7dfec2d2ee114842aa890f48b4dc7acc\n",
      "🧪 View experiment at: https://mlops-25-634030133521.us-west2.run.app/#/experiments/1\n"
     ]
    },
    {
     "name": "stderr",
     "output_type": "stream",
     "text": [
      "31it [02:25,  4.51s/it]"
     ]
    },
    {
     "name": "stdout",
     "output_type": "stream",
     "text": [
      "🏃 View run Decision Tree + Feature Selection - Combo 30 at: https://mlops-25-634030133521.us-west2.run.app/#/experiments/1/runs/ec33a3f7b61b45e084ac1d8736b78f24\n",
      "🧪 View experiment at: https://mlops-25-634030133521.us-west2.run.app/#/experiments/1\n"
     ]
    },
    {
     "name": "stderr",
     "output_type": "stream",
     "text": [
      "32it [02:29,  4.42s/it]"
     ]
    },
    {
     "name": "stdout",
     "output_type": "stream",
     "text": [
      "🏃 View run Decision Tree + Feature Selection - Combo 31 at: https://mlops-25-634030133521.us-west2.run.app/#/experiments/1/runs/84d83947844f44e3a72722b70b8765cc\n",
      "🧪 View experiment at: https://mlops-25-634030133521.us-west2.run.app/#/experiments/1\n"
     ]
    },
    {
     "name": "stderr",
     "output_type": "stream",
     "text": [
      "33it [02:33,  4.48s/it]"
     ]
    },
    {
     "name": "stdout",
     "output_type": "stream",
     "text": [
      "🏃 View run Decision Tree + Feature Selection - Combo 32 at: https://mlops-25-634030133521.us-west2.run.app/#/experiments/1/runs/4e64beff51da47d9987bab8dabb1b0be\n",
      "🧪 View experiment at: https://mlops-25-634030133521.us-west2.run.app/#/experiments/1\n"
     ]
    },
    {
     "name": "stderr",
     "output_type": "stream",
     "text": [
      "34it [02:38,  4.41s/it]"
     ]
    },
    {
     "name": "stdout",
     "output_type": "stream",
     "text": [
      "🏃 View run Decision Tree + Feature Selection - Combo 33 at: https://mlops-25-634030133521.us-west2.run.app/#/experiments/1/runs/e1c30af0a95b4501a5d47046d142fb4a\n",
      "🧪 View experiment at: https://mlops-25-634030133521.us-west2.run.app/#/experiments/1\n"
     ]
    },
    {
     "name": "stderr",
     "output_type": "stream",
     "text": [
      "35it [02:43,  4.52s/it]"
     ]
    },
    {
     "name": "stdout",
     "output_type": "stream",
     "text": [
      "🏃 View run Decision Tree + Feature Selection - Combo 34 at: https://mlops-25-634030133521.us-west2.run.app/#/experiments/1/runs/6e9b8227f678485eba96e77b8481de6f\n",
      "🧪 View experiment at: https://mlops-25-634030133521.us-west2.run.app/#/experiments/1\n"
     ]
    },
    {
     "name": "stderr",
     "output_type": "stream",
     "text": [
      "36it [02:47,  4.53s/it]"
     ]
    },
    {
     "name": "stdout",
     "output_type": "stream",
     "text": [
      "🏃 View run Decision Tree + Feature Selection - Combo 35 at: https://mlops-25-634030133521.us-west2.run.app/#/experiments/1/runs/9aab3582cd6447e78c0d39c935276535\n",
      "🧪 View experiment at: https://mlops-25-634030133521.us-west2.run.app/#/experiments/1\n"
     ]
    },
    {
     "name": "stderr",
     "output_type": "stream",
     "text": [
      "37it [02:52,  4.52s/it]"
     ]
    },
    {
     "name": "stdout",
     "output_type": "stream",
     "text": [
      "🏃 View run Decision Tree + Feature Selection - Combo 36 at: https://mlops-25-634030133521.us-west2.run.app/#/experiments/1/runs/0dd6e4f0ee024a15996afa592d1615cb\n",
      "🧪 View experiment at: https://mlops-25-634030133521.us-west2.run.app/#/experiments/1\n"
     ]
    },
    {
     "name": "stderr",
     "output_type": "stream",
     "text": [
      "38it [02:56,  4.63s/it]"
     ]
    },
    {
     "name": "stdout",
     "output_type": "stream",
     "text": [
      "🏃 View run Decision Tree + Feature Selection - Combo 37 at: https://mlops-25-634030133521.us-west2.run.app/#/experiments/1/runs/ccd30224a19a4334aa0029212e28a67e\n",
      "🧪 View experiment at: https://mlops-25-634030133521.us-west2.run.app/#/experiments/1\n"
     ]
    },
    {
     "name": "stderr",
     "output_type": "stream",
     "text": [
      "39it [03:01,  4.54s/it]"
     ]
    },
    {
     "name": "stdout",
     "output_type": "stream",
     "text": [
      "🏃 View run Decision Tree + Feature Selection - Combo 38 at: https://mlops-25-634030133521.us-west2.run.app/#/experiments/1/runs/58c56e63caf54a62b170277e62506bed\n",
      "🧪 View experiment at: https://mlops-25-634030133521.us-west2.run.app/#/experiments/1\n"
     ]
    },
    {
     "name": "stderr",
     "output_type": "stream",
     "text": [
      "40it [03:06,  4.62s/it]"
     ]
    },
    {
     "name": "stdout",
     "output_type": "stream",
     "text": [
      "🏃 View run Decision Tree + Feature Selection - Combo 39 at: https://mlops-25-634030133521.us-west2.run.app/#/experiments/1/runs/5c49111723284b8aa004811cbe6890c3\n",
      "🧪 View experiment at: https://mlops-25-634030133521.us-west2.run.app/#/experiments/1\n"
     ]
    },
    {
     "name": "stderr",
     "output_type": "stream",
     "text": [
      "41it [03:11,  4.78s/it]"
     ]
    },
    {
     "name": "stdout",
     "output_type": "stream",
     "text": [
      "🏃 View run Decision Tree + Feature Selection - Combo 40 at: https://mlops-25-634030133521.us-west2.run.app/#/experiments/1/runs/cb105c788878438e96edbfc88f2ce973\n",
      "🧪 View experiment at: https://mlops-25-634030133521.us-west2.run.app/#/experiments/1\n",
      "🏃 View run Decision Tree + Feature Selection - Combo 41 at: https://mlops-25-634030133521.us-west2.run.app/#/experiments/1/runs/79761ea90b1c42e9b863432cfaeeb017\n",
      "🧪 View experiment at: https://mlops-25-634030133521.us-west2.run.app/#/experiments/1\n"
     ]
    },
    {
     "name": "stderr",
     "output_type": "stream",
     "text": [
      "43it [03:21,  5.00s/it]"
     ]
    },
    {
     "name": "stdout",
     "output_type": "stream",
     "text": [
      "🏃 View run Decision Tree + Feature Selection - Combo 42 at: https://mlops-25-634030133521.us-west2.run.app/#/experiments/1/runs/20faf73e622b4788bc0fa7e6494ecb76\n",
      "🧪 View experiment at: https://mlops-25-634030133521.us-west2.run.app/#/experiments/1\n"
     ]
    },
    {
     "name": "stderr",
     "output_type": "stream",
     "text": [
      "44it [03:26,  5.09s/it]"
     ]
    },
    {
     "name": "stdout",
     "output_type": "stream",
     "text": [
      "🏃 View run Decision Tree + Feature Selection - Combo 43 at: https://mlops-25-634030133521.us-west2.run.app/#/experiments/1/runs/4b19685c409749f78ab8e01f2610e7ae\n",
      "🧪 View experiment at: https://mlops-25-634030133521.us-west2.run.app/#/experiments/1\n"
     ]
    },
    {
     "name": "stderr",
     "output_type": "stream",
     "text": [
      "45it [03:31,  4.98s/it]"
     ]
    },
    {
     "name": "stdout",
     "output_type": "stream",
     "text": [
      "🏃 View run Decision Tree + Feature Selection - Combo 44 at: https://mlops-25-634030133521.us-west2.run.app/#/experiments/1/runs/e190e8842adc49d491f0451723660365\n",
      "🧪 View experiment at: https://mlops-25-634030133521.us-west2.run.app/#/experiments/1\n"
     ]
    },
    {
     "name": "stderr",
     "output_type": "stream",
     "text": [
      "46it [03:36,  4.90s/it]"
     ]
    },
    {
     "name": "stdout",
     "output_type": "stream",
     "text": [
      "🏃 View run Decision Tree + Feature Selection - Combo 45 at: https://mlops-25-634030133521.us-west2.run.app/#/experiments/1/runs/3d86cdaceaa942f195cf65947cf84b7e\n",
      "🧪 View experiment at: https://mlops-25-634030133521.us-west2.run.app/#/experiments/1\n"
     ]
    },
    {
     "name": "stderr",
     "output_type": "stream",
     "text": [
      "47it [03:41,  5.02s/it]"
     ]
    },
    {
     "name": "stdout",
     "output_type": "stream",
     "text": [
      "🏃 View run Decision Tree + Feature Selection - Combo 46 at: https://mlops-25-634030133521.us-west2.run.app/#/experiments/1/runs/3085048e05f544abb60328219eaece53\n",
      "🧪 View experiment at: https://mlops-25-634030133521.us-west2.run.app/#/experiments/1\n"
     ]
    },
    {
     "name": "stderr",
     "output_type": "stream",
     "text": [
      "48it [03:46,  5.08s/it]"
     ]
    },
    {
     "name": "stdout",
     "output_type": "stream",
     "text": [
      "🏃 View run Decision Tree + Feature Selection - Combo 47 at: https://mlops-25-634030133521.us-west2.run.app/#/experiments/1/runs/a5f641b1f78846b98f01dacad7f7a062\n",
      "🧪 View experiment at: https://mlops-25-634030133521.us-west2.run.app/#/experiments/1\n"
     ]
    },
    {
     "name": "stderr",
     "output_type": "stream",
     "text": [
      "49it [03:51,  4.99s/it]"
     ]
    },
    {
     "name": "stdout",
     "output_type": "stream",
     "text": [
      "🏃 View run Decision Tree + Feature Selection - Combo 48 at: https://mlops-25-634030133521.us-west2.run.app/#/experiments/1/runs/acb4cd888dbd47ce9ae7d76f804c5e33\n",
      "🧪 View experiment at: https://mlops-25-634030133521.us-west2.run.app/#/experiments/1\n"
     ]
    },
    {
     "name": "stderr",
     "output_type": "stream",
     "text": [
      "50it [03:56,  5.04s/it]"
     ]
    },
    {
     "name": "stdout",
     "output_type": "stream",
     "text": [
      "🏃 View run Decision Tree + Feature Selection - Combo 49 at: https://mlops-25-634030133521.us-west2.run.app/#/experiments/1/runs/88f5fdaad16f45e0b68a45dc37b6e785\n",
      "🧪 View experiment at: https://mlops-25-634030133521.us-west2.run.app/#/experiments/1\n"
     ]
    },
    {
     "name": "stderr",
     "output_type": "stream",
     "text": [
      "51it [04:01,  4.94s/it]"
     ]
    },
    {
     "name": "stdout",
     "output_type": "stream",
     "text": [
      "🏃 View run Decision Tree + Feature Selection - Combo 50 at: https://mlops-25-634030133521.us-west2.run.app/#/experiments/1/runs/58cc534fc97943aca5f91a1c1aa00d61\n",
      "🧪 View experiment at: https://mlops-25-634030133521.us-west2.run.app/#/experiments/1\n"
     ]
    },
    {
     "name": "stderr",
     "output_type": "stream",
     "text": [
      "52it [04:06,  4.86s/it]"
     ]
    },
    {
     "name": "stdout",
     "output_type": "stream",
     "text": [
      "🏃 View run Decision Tree + Feature Selection - Combo 51 at: https://mlops-25-634030133521.us-west2.run.app/#/experiments/1/runs/2d2d82d04ade4d579f113d378627c5b0\n",
      "🧪 View experiment at: https://mlops-25-634030133521.us-west2.run.app/#/experiments/1\n"
     ]
    },
    {
     "name": "stderr",
     "output_type": "stream",
     "text": [
      "53it [04:10,  4.81s/it]"
     ]
    },
    {
     "name": "stdout",
     "output_type": "stream",
     "text": [
      "🏃 View run Decision Tree + Feature Selection - Combo 52 at: https://mlops-25-634030133521.us-west2.run.app/#/experiments/1/runs/b3b4ad3ed626474fbc62cf7a19551c17\n",
      "🧪 View experiment at: https://mlops-25-634030133521.us-west2.run.app/#/experiments/1\n"
     ]
    },
    {
     "name": "stderr",
     "output_type": "stream",
     "text": [
      "54it [04:15,  4.73s/it]"
     ]
    },
    {
     "name": "stdout",
     "output_type": "stream",
     "text": [
      "🏃 View run Decision Tree + Feature Selection - Combo 53 at: https://mlops-25-634030133521.us-west2.run.app/#/experiments/1/runs/e0aeacf5c97c48a5ba68f429b34373c4\n",
      "🧪 View experiment at: https://mlops-25-634030133521.us-west2.run.app/#/experiments/1\n"
     ]
    },
    {
     "name": "stderr",
     "output_type": "stream",
     "text": [
      "\n"
     ]
    }
   ],
   "source": [
    "feature_selector = SelectFromModel(DecisionTreeClassifier(random_state=42))\n",
    "\n",
    "# Classifier pipeline\n",
    "pipeline = Pipeline(steps=[\n",
    "    (\"preprocessor\", preprocessor),\n",
    "    (\"feature_selection\", feature_selector),\n",
    "    (\"classifier\", DecisionTreeClassifier(random_state=42))\n",
    "])\n",
    "\n",
    "# Hyperparameter grid\n",
    "param_grid = {\n",
    "    \"feature_selection__threshold\": [\"mean\", \"median\", 0.01],\n",
    "    \"classifier__max_depth\": [None, 5, 10],\n",
    "    \"classifier__min_samples_split\": [2, 5, 10],\n",
    "    \"classifier__criterion\": [\"gini\", \"entropy\"]\n",
    "}\n",
    "\n",
    "# Parameter Grid\n",
    "grid = ParameterGrid(param_grid)\n",
    "\n",
    "# Running the different experiments\n",
    "run_experiments_w_feature_selection(pipeline, grid, \"Decision Tree + Feature Selection\")"
   ]
  },
  {
   "cell_type": "markdown",
   "metadata": {},
   "source": [
    "## 3. Random Forest Classifier"
   ]
  },
  {
   "cell_type": "code",
   "execution_count": 29,
   "metadata": {},
   "outputs": [
    {
     "name": "stderr",
     "output_type": "stream",
     "text": [
      "1it [00:04,  4.23s/it]"
     ]
    },
    {
     "name": "stdout",
     "output_type": "stream",
     "text": [
      "🏃 View run Random Forest - Combo 0 at: https://mlops-25-634030133521.us-west2.run.app/#/experiments/1/runs/068ff51c32ff49b29994399caa5a1c4b\n",
      "🧪 View experiment at: https://mlops-25-634030133521.us-west2.run.app/#/experiments/1\n"
     ]
    },
    {
     "name": "stderr",
     "output_type": "stream",
     "text": [
      "2it [00:08,  4.49s/it]"
     ]
    },
    {
     "name": "stdout",
     "output_type": "stream",
     "text": [
      "🏃 View run Random Forest - Combo 1 at: https://mlops-25-634030133521.us-west2.run.app/#/experiments/1/runs/a865093f91164f03aaf8e82bed0d1651\n",
      "🧪 View experiment at: https://mlops-25-634030133521.us-west2.run.app/#/experiments/1\n"
     ]
    },
    {
     "name": "stderr",
     "output_type": "stream",
     "text": [
      "3it [00:13,  4.36s/it]"
     ]
    },
    {
     "name": "stdout",
     "output_type": "stream",
     "text": [
      "🏃 View run Random Forest - Combo 2 at: https://mlops-25-634030133521.us-west2.run.app/#/experiments/1/runs/c25fcd3384de426591f3d0bb1cd7b0ce\n",
      "🧪 View experiment at: https://mlops-25-634030133521.us-west2.run.app/#/experiments/1\n"
     ]
    },
    {
     "name": "stderr",
     "output_type": "stream",
     "text": [
      "4it [00:17,  4.54s/it]"
     ]
    },
    {
     "name": "stdout",
     "output_type": "stream",
     "text": [
      "🏃 View run Random Forest - Combo 3 at: https://mlops-25-634030133521.us-west2.run.app/#/experiments/1/runs/b436ef7686ce43019f61a6cde478ac87\n",
      "🧪 View experiment at: https://mlops-25-634030133521.us-west2.run.app/#/experiments/1\n"
     ]
    },
    {
     "name": "stderr",
     "output_type": "stream",
     "text": [
      "5it [00:22,  4.50s/it]"
     ]
    },
    {
     "name": "stdout",
     "output_type": "stream",
     "text": [
      "🏃 View run Random Forest - Combo 4 at: https://mlops-25-634030133521.us-west2.run.app/#/experiments/1/runs/b77d552cedfe44c2893f7d7b3d2028c8\n",
      "🧪 View experiment at: https://mlops-25-634030133521.us-west2.run.app/#/experiments/1\n"
     ]
    },
    {
     "name": "stderr",
     "output_type": "stream",
     "text": [
      "6it [00:26,  4.48s/it]"
     ]
    },
    {
     "name": "stdout",
     "output_type": "stream",
     "text": [
      "🏃 View run Random Forest - Combo 5 at: https://mlops-25-634030133521.us-west2.run.app/#/experiments/1/runs/213e95e1b0f34ae4bbacdfde7097d8d4\n",
      "🧪 View experiment at: https://mlops-25-634030133521.us-west2.run.app/#/experiments/1\n"
     ]
    },
    {
     "name": "stderr",
     "output_type": "stream",
     "text": [
      "7it [00:30,  4.33s/it]"
     ]
    },
    {
     "name": "stdout",
     "output_type": "stream",
     "text": [
      "🏃 View run Random Forest - Combo 6 at: https://mlops-25-634030133521.us-west2.run.app/#/experiments/1/runs/195e81017f5846c6a9152881a3f2e878\n",
      "🧪 View experiment at: https://mlops-25-634030133521.us-west2.run.app/#/experiments/1\n"
     ]
    },
    {
     "name": "stderr",
     "output_type": "stream",
     "text": [
      "8it [00:35,  4.32s/it]"
     ]
    },
    {
     "name": "stdout",
     "output_type": "stream",
     "text": [
      "🏃 View run Random Forest - Combo 7 at: https://mlops-25-634030133521.us-west2.run.app/#/experiments/1/runs/34eef48f1c144afca1e410e4d2c0668d\n",
      "🧪 View experiment at: https://mlops-25-634030133521.us-west2.run.app/#/experiments/1\n"
     ]
    },
    {
     "name": "stderr",
     "output_type": "stream",
     "text": [
      "9it [00:39,  4.20s/it]"
     ]
    },
    {
     "name": "stdout",
     "output_type": "stream",
     "text": [
      "🏃 View run Random Forest - Combo 8 at: https://mlops-25-634030133521.us-west2.run.app/#/experiments/1/runs/ec98dae4ba3b4e32900353ccbb38ec9a\n",
      "🧪 View experiment at: https://mlops-25-634030133521.us-west2.run.app/#/experiments/1\n"
     ]
    },
    {
     "name": "stderr",
     "output_type": "stream",
     "text": [
      "10it [00:43,  4.23s/it]"
     ]
    },
    {
     "name": "stdout",
     "output_type": "stream",
     "text": [
      "🏃 View run Random Forest - Combo 9 at: https://mlops-25-634030133521.us-west2.run.app/#/experiments/1/runs/8c403646b47b4430880c5c315033a664\n",
      "🧪 View experiment at: https://mlops-25-634030133521.us-west2.run.app/#/experiments/1\n"
     ]
    },
    {
     "name": "stderr",
     "output_type": "stream",
     "text": [
      "11it [00:48,  4.42s/it]"
     ]
    },
    {
     "name": "stdout",
     "output_type": "stream",
     "text": [
      "🏃 View run Random Forest - Combo 10 at: https://mlops-25-634030133521.us-west2.run.app/#/experiments/1/runs/02ed3f6f4039426db262e03827807453\n",
      "🧪 View experiment at: https://mlops-25-634030133521.us-west2.run.app/#/experiments/1\n"
     ]
    },
    {
     "name": "stderr",
     "output_type": "stream",
     "text": [
      "12it [00:52,  4.51s/it]"
     ]
    },
    {
     "name": "stdout",
     "output_type": "stream",
     "text": [
      "🏃 View run Random Forest - Combo 11 at: https://mlops-25-634030133521.us-west2.run.app/#/experiments/1/runs/01876fe3f95f460aa51516cc1119807e\n",
      "🧪 View experiment at: https://mlops-25-634030133521.us-west2.run.app/#/experiments/1\n"
     ]
    },
    {
     "name": "stderr",
     "output_type": "stream",
     "text": [
      "13it [00:57,  4.42s/it]"
     ]
    },
    {
     "name": "stdout",
     "output_type": "stream",
     "text": [
      "🏃 View run Random Forest - Combo 12 at: https://mlops-25-634030133521.us-west2.run.app/#/experiments/1/runs/ac6b674ca4e745ab8ed696e9e6cd1797\n",
      "🧪 View experiment at: https://mlops-25-634030133521.us-west2.run.app/#/experiments/1\n"
     ]
    },
    {
     "name": "stderr",
     "output_type": "stream",
     "text": [
      "14it [01:01,  4.35s/it]"
     ]
    },
    {
     "name": "stdout",
     "output_type": "stream",
     "text": [
      "🏃 View run Random Forest - Combo 13 at: https://mlops-25-634030133521.us-west2.run.app/#/experiments/1/runs/5ac048dd41f0470bbebf48cbe914223e\n",
      "🧪 View experiment at: https://mlops-25-634030133521.us-west2.run.app/#/experiments/1\n"
     ]
    },
    {
     "name": "stderr",
     "output_type": "stream",
     "text": [
      "15it [01:05,  4.33s/it]"
     ]
    },
    {
     "name": "stdout",
     "output_type": "stream",
     "text": [
      "🏃 View run Random Forest - Combo 14 at: https://mlops-25-634030133521.us-west2.run.app/#/experiments/1/runs/f5571f3c7a4144b5ba8b0ee689ad6d19\n",
      "🧪 View experiment at: https://mlops-25-634030133521.us-west2.run.app/#/experiments/1\n"
     ]
    },
    {
     "name": "stderr",
     "output_type": "stream",
     "text": [
      "16it [01:10,  4.37s/it]"
     ]
    },
    {
     "name": "stdout",
     "output_type": "stream",
     "text": [
      "🏃 View run Random Forest - Combo 15 at: https://mlops-25-634030133521.us-west2.run.app/#/experiments/1/runs/d32c4ee37ab14b06ac9fa211c2f13df6\n",
      "🧪 View experiment at: https://mlops-25-634030133521.us-west2.run.app/#/experiments/1\n"
     ]
    },
    {
     "name": "stderr",
     "output_type": "stream",
     "text": [
      "17it [01:14,  4.33s/it]"
     ]
    },
    {
     "name": "stdout",
     "output_type": "stream",
     "text": [
      "🏃 View run Random Forest - Combo 16 at: https://mlops-25-634030133521.us-west2.run.app/#/experiments/1/runs/c524b7d337e5497982932e03baa7991c\n",
      "🧪 View experiment at: https://mlops-25-634030133521.us-west2.run.app/#/experiments/1\n"
     ]
    },
    {
     "name": "stderr",
     "output_type": "stream",
     "text": [
      "18it [01:18,  4.33s/it]"
     ]
    },
    {
     "name": "stdout",
     "output_type": "stream",
     "text": [
      "🏃 View run Random Forest - Combo 17 at: https://mlops-25-634030133521.us-west2.run.app/#/experiments/1/runs/8f90da8de7b445cc954ec30ebed763fc\n",
      "🧪 View experiment at: https://mlops-25-634030133521.us-west2.run.app/#/experiments/1\n"
     ]
    },
    {
     "name": "stderr",
     "output_type": "stream",
     "text": [
      "19it [01:22,  4.30s/it]"
     ]
    },
    {
     "name": "stdout",
     "output_type": "stream",
     "text": [
      "🏃 View run Random Forest - Combo 18 at: https://mlops-25-634030133521.us-west2.run.app/#/experiments/1/runs/0b624674feb84ac8946fdf7caa5ff294\n",
      "🧪 View experiment at: https://mlops-25-634030133521.us-west2.run.app/#/experiments/1\n"
     ]
    },
    {
     "name": "stderr",
     "output_type": "stream",
     "text": [
      "20it [01:27,  4.53s/it]"
     ]
    },
    {
     "name": "stdout",
     "output_type": "stream",
     "text": [
      "🏃 View run Random Forest - Combo 19 at: https://mlops-25-634030133521.us-west2.run.app/#/experiments/1/runs/758a4e9b2199423a8564cecfac210a0c\n",
      "🧪 View experiment at: https://mlops-25-634030133521.us-west2.run.app/#/experiments/1\n"
     ]
    },
    {
     "name": "stderr",
     "output_type": "stream",
     "text": [
      "21it [01:32,  4.48s/it]"
     ]
    },
    {
     "name": "stdout",
     "output_type": "stream",
     "text": [
      "🏃 View run Random Forest - Combo 20 at: https://mlops-25-634030133521.us-west2.run.app/#/experiments/1/runs/3361d525e741447084ce8cd683685244\n",
      "🧪 View experiment at: https://mlops-25-634030133521.us-west2.run.app/#/experiments/1\n"
     ]
    },
    {
     "name": "stderr",
     "output_type": "stream",
     "text": [
      "22it [01:36,  4.50s/it]"
     ]
    },
    {
     "name": "stdout",
     "output_type": "stream",
     "text": [
      "🏃 View run Random Forest - Combo 21 at: https://mlops-25-634030133521.us-west2.run.app/#/experiments/1/runs/6a7820c9aa934fc589b8245f6e673970\n",
      "🧪 View experiment at: https://mlops-25-634030133521.us-west2.run.app/#/experiments/1\n"
     ]
    },
    {
     "name": "stderr",
     "output_type": "stream",
     "text": [
      "23it [01:40,  4.39s/it]"
     ]
    },
    {
     "name": "stdout",
     "output_type": "stream",
     "text": [
      "🏃 View run Random Forest - Combo 22 at: https://mlops-25-634030133521.us-west2.run.app/#/experiments/1/runs/3873b0562c4846b6ba4c95df91cb7e49\n",
      "🧪 View experiment at: https://mlops-25-634030133521.us-west2.run.app/#/experiments/1\n"
     ]
    },
    {
     "name": "stderr",
     "output_type": "stream",
     "text": [
      "24it [01:45,  4.39s/it]"
     ]
    },
    {
     "name": "stdout",
     "output_type": "stream",
     "text": [
      "🏃 View run Random Forest - Combo 23 at: https://mlops-25-634030133521.us-west2.run.app/#/experiments/1/runs/632b9254c3fe4efa81ff708ffc4c0c43\n",
      "🧪 View experiment at: https://mlops-25-634030133521.us-west2.run.app/#/experiments/1\n"
     ]
    },
    {
     "name": "stderr",
     "output_type": "stream",
     "text": [
      "\n"
     ]
    }
   ],
   "source": [
    "# Classifier pipeline\n",
    "pipeline = Pipeline(steps=[\n",
    "    (\"preprocessor\", preprocessor),\n",
    "    (\"classifier\", RandomForestClassifier(random_state=42))\n",
    "])\n",
    "\n",
    "# Hyperparameter grid\n",
    "param_grid = {\n",
    "    \"classifier__n_estimators\": [100, 200],\n",
    "    \"classifier__max_depth\": [None, 5, 10],\n",
    "    \"classifier__min_samples_split\": [2, 5],\n",
    "    \"classifier__criterion\": [\"gini\", \"entropy\"]\n",
    "}\n",
    "\n",
    "# Parameter Grid\n",
    "grid = ParameterGrid(param_grid)\n",
    "\n",
    "# Running the different experiments\n",
    "run_experiments(pipeline, grid, \"Random Forest\")"
   ]
  },
  {
   "cell_type": "markdown",
   "metadata": {},
   "source": [
    "### With Feature selection"
   ]
  },
  {
   "cell_type": "code",
   "execution_count": 30,
   "metadata": {},
   "outputs": [
    {
     "name": "stderr",
     "output_type": "stream",
     "text": [
      "1it [00:00,  2.45it/s]"
     ]
    },
    {
     "name": "stdout",
     "output_type": "stream",
     "text": [
      "🏃 View run Decision Tree + Feature Selection - Combo 0 at: https://mlops-25-634030133521.us-west2.run.app/#/experiments/1/runs/db47d875fc07460cbf4e8789fcfc98de\n",
      "🧪 View experiment at: https://mlops-25-634030133521.us-west2.run.app/#/experiments/1\n"
     ]
    },
    {
     "name": "stderr",
     "output_type": "stream",
     "text": [
      "2it [00:00,  2.37it/s]"
     ]
    },
    {
     "name": "stdout",
     "output_type": "stream",
     "text": [
      "🏃 View run Decision Tree + Feature Selection - Combo 1 at: https://mlops-25-634030133521.us-west2.run.app/#/experiments/1/runs/a21551a7c2cd4c9098133a712c4bac93\n",
      "🧪 View experiment at: https://mlops-25-634030133521.us-west2.run.app/#/experiments/1\n"
     ]
    },
    {
     "name": "stderr",
     "output_type": "stream",
     "text": [
      "3it [00:01,  2.27it/s]"
     ]
    },
    {
     "name": "stdout",
     "output_type": "stream",
     "text": [
      "🏃 View run Decision Tree + Feature Selection - Combo 2 at: https://mlops-25-634030133521.us-west2.run.app/#/experiments/1/runs/dfa914ddec924487a94ef24954670db3\n",
      "🧪 View experiment at: https://mlops-25-634030133521.us-west2.run.app/#/experiments/1\n"
     ]
    },
    {
     "name": "stderr",
     "output_type": "stream",
     "text": [
      "4it [00:01,  2.49it/s]"
     ]
    },
    {
     "name": "stdout",
     "output_type": "stream",
     "text": [
      "🏃 View run Decision Tree + Feature Selection - Combo 3 at: https://mlops-25-634030133521.us-west2.run.app/#/experiments/1/runs/f085f665fd0441beac95d80918d5b072\n",
      "🧪 View experiment at: https://mlops-25-634030133521.us-west2.run.app/#/experiments/1\n"
     ]
    },
    {
     "name": "stderr",
     "output_type": "stream",
     "text": [
      "5it [00:02,  2.41it/s]"
     ]
    },
    {
     "name": "stdout",
     "output_type": "stream",
     "text": [
      "🏃 View run Decision Tree + Feature Selection - Combo 4 at: https://mlops-25-634030133521.us-west2.run.app/#/experiments/1/runs/a577f50d1ada4649a23cc697fbc08a05\n",
      "🧪 View experiment at: https://mlops-25-634030133521.us-west2.run.app/#/experiments/1\n"
     ]
    },
    {
     "name": "stderr",
     "output_type": "stream",
     "text": [
      "6it [00:02,  2.38it/s]"
     ]
    },
    {
     "name": "stdout",
     "output_type": "stream",
     "text": [
      "🏃 View run Decision Tree + Feature Selection - Combo 5 at: https://mlops-25-634030133521.us-west2.run.app/#/experiments/1/runs/96ef031df59d497d8899d4ae170381bb\n",
      "🧪 View experiment at: https://mlops-25-634030133521.us-west2.run.app/#/experiments/1\n"
     ]
    },
    {
     "name": "stderr",
     "output_type": "stream",
     "text": [
      "7it [00:02,  2.30it/s]"
     ]
    },
    {
     "name": "stdout",
     "output_type": "stream",
     "text": [
      "🏃 View run Decision Tree + Feature Selection - Combo 6 at: https://mlops-25-634030133521.us-west2.run.app/#/experiments/1/runs/0b3f3d31c6834fc3975fc157b2f69b43\n",
      "🧪 View experiment at: https://mlops-25-634030133521.us-west2.run.app/#/experiments/1\n"
     ]
    },
    {
     "name": "stderr",
     "output_type": "stream",
     "text": [
      "8it [00:03,  2.49it/s]"
     ]
    },
    {
     "name": "stdout",
     "output_type": "stream",
     "text": [
      "🏃 View run Decision Tree + Feature Selection - Combo 7 at: https://mlops-25-634030133521.us-west2.run.app/#/experiments/1/runs/9280e5acede14ffa90f6e375f0d92db4\n",
      "🧪 View experiment at: https://mlops-25-634030133521.us-west2.run.app/#/experiments/1\n"
     ]
    },
    {
     "name": "stderr",
     "output_type": "stream",
     "text": [
      "9it [00:03,  2.46it/s]"
     ]
    },
    {
     "name": "stdout",
     "output_type": "stream",
     "text": [
      "🏃 View run Decision Tree + Feature Selection - Combo 8 at: https://mlops-25-634030133521.us-west2.run.app/#/experiments/1/runs/67283f709ac441928f635c0e3d4d8454\n",
      "🧪 View experiment at: https://mlops-25-634030133521.us-west2.run.app/#/experiments/1\n"
     ]
    },
    {
     "name": "stderr",
     "output_type": "stream",
     "text": [
      "10it [00:04,  2.37it/s]"
     ]
    },
    {
     "name": "stdout",
     "output_type": "stream",
     "text": [
      "🏃 View run Decision Tree + Feature Selection - Combo 9 at: https://mlops-25-634030133521.us-west2.run.app/#/experiments/1/runs/14b09099c13b497ca84ff395a8fb9483\n",
      "🧪 View experiment at: https://mlops-25-634030133521.us-west2.run.app/#/experiments/1\n"
     ]
    },
    {
     "name": "stderr",
     "output_type": "stream",
     "text": [
      "11it [00:04,  2.36it/s]"
     ]
    },
    {
     "name": "stdout",
     "output_type": "stream",
     "text": [
      "🏃 View run Decision Tree + Feature Selection - Combo 10 at: https://mlops-25-634030133521.us-west2.run.app/#/experiments/1/runs/2bcadb6dad684c858a861380f2cc0e90\n",
      "🧪 View experiment at: https://mlops-25-634030133521.us-west2.run.app/#/experiments/1\n"
     ]
    },
    {
     "name": "stderr",
     "output_type": "stream",
     "text": [
      "12it [00:05,  2.35it/s]"
     ]
    },
    {
     "name": "stdout",
     "output_type": "stream",
     "text": [
      "🏃 View run Decision Tree + Feature Selection - Combo 11 at: https://mlops-25-634030133521.us-west2.run.app/#/experiments/1/runs/4980b7413dff432c93e9b6d3d25d6920\n",
      "🧪 View experiment at: https://mlops-25-634030133521.us-west2.run.app/#/experiments/1\n"
     ]
    },
    {
     "name": "stderr",
     "output_type": "stream",
     "text": [
      "13it [00:05,  2.49it/s]"
     ]
    },
    {
     "name": "stdout",
     "output_type": "stream",
     "text": [
      "🏃 View run Decision Tree + Feature Selection - Combo 12 at: https://mlops-25-634030133521.us-west2.run.app/#/experiments/1/runs/9d26e322e3754704be46adddfd839024\n",
      "🧪 View experiment at: https://mlops-25-634030133521.us-west2.run.app/#/experiments/1\n"
     ]
    },
    {
     "name": "stderr",
     "output_type": "stream",
     "text": [
      "14it [00:05,  2.52it/s]"
     ]
    },
    {
     "name": "stdout",
     "output_type": "stream",
     "text": [
      "🏃 View run Decision Tree + Feature Selection - Combo 13 at: https://mlops-25-634030133521.us-west2.run.app/#/experiments/1/runs/835d4bc23fd94afb88dddb3ea012abfc\n",
      "🧪 View experiment at: https://mlops-25-634030133521.us-west2.run.app/#/experiments/1\n"
     ]
    },
    {
     "name": "stderr",
     "output_type": "stream",
     "text": [
      "15it [00:06,  2.44it/s]"
     ]
    },
    {
     "name": "stdout",
     "output_type": "stream",
     "text": [
      "🏃 View run Decision Tree + Feature Selection - Combo 14 at: https://mlops-25-634030133521.us-west2.run.app/#/experiments/1/runs/206e654974f84ac6b724ad2cd8f0823c\n",
      "🧪 View experiment at: https://mlops-25-634030133521.us-west2.run.app/#/experiments/1\n"
     ]
    },
    {
     "name": "stderr",
     "output_type": "stream",
     "text": [
      "16it [00:06,  2.41it/s]"
     ]
    },
    {
     "name": "stdout",
     "output_type": "stream",
     "text": [
      "🏃 View run Decision Tree + Feature Selection - Combo 15 at: https://mlops-25-634030133521.us-west2.run.app/#/experiments/1/runs/cf962ce29b5d445db7c0bc8d33b2015f\n",
      "🧪 View experiment at: https://mlops-25-634030133521.us-west2.run.app/#/experiments/1\n"
     ]
    },
    {
     "name": "stderr",
     "output_type": "stream",
     "text": [
      "17it [00:07,  2.31it/s]"
     ]
    },
    {
     "name": "stdout",
     "output_type": "stream",
     "text": [
      "🏃 View run Decision Tree + Feature Selection - Combo 16 at: https://mlops-25-634030133521.us-west2.run.app/#/experiments/1/runs/6e896afb36d047d5893337d6bad0e3ce\n",
      "🧪 View experiment at: https://mlops-25-634030133521.us-west2.run.app/#/experiments/1\n"
     ]
    },
    {
     "name": "stderr",
     "output_type": "stream",
     "text": [
      "18it [00:07,  2.45it/s]"
     ]
    },
    {
     "name": "stdout",
     "output_type": "stream",
     "text": [
      "🏃 View run Decision Tree + Feature Selection - Combo 17 at: https://mlops-25-634030133521.us-west2.run.app/#/experiments/1/runs/43314a6ea23448bf982eef2193e0349d\n",
      "🧪 View experiment at: https://mlops-25-634030133521.us-west2.run.app/#/experiments/1\n"
     ]
    },
    {
     "name": "stderr",
     "output_type": "stream",
     "text": [
      "19it [00:07,  2.47it/s]"
     ]
    },
    {
     "name": "stdout",
     "output_type": "stream",
     "text": [
      "🏃 View run Decision Tree + Feature Selection - Combo 18 at: https://mlops-25-634030133521.us-west2.run.app/#/experiments/1/runs/4dfd9f4fba9543fd99da8517ec4f1c04\n",
      "🧪 View experiment at: https://mlops-25-634030133521.us-west2.run.app/#/experiments/1\n"
     ]
    },
    {
     "name": "stderr",
     "output_type": "stream",
     "text": [
      "20it [00:08,  2.38it/s]"
     ]
    },
    {
     "name": "stdout",
     "output_type": "stream",
     "text": [
      "🏃 View run Decision Tree + Feature Selection - Combo 19 at: https://mlops-25-634030133521.us-west2.run.app/#/experiments/1/runs/9831cd4071ce4731a711f1720bdad83c\n",
      "🧪 View experiment at: https://mlops-25-634030133521.us-west2.run.app/#/experiments/1\n"
     ]
    },
    {
     "name": "stderr",
     "output_type": "stream",
     "text": [
      "21it [00:08,  2.47it/s]"
     ]
    },
    {
     "name": "stdout",
     "output_type": "stream",
     "text": [
      "🏃 View run Decision Tree + Feature Selection - Combo 20 at: https://mlops-25-634030133521.us-west2.run.app/#/experiments/1/runs/8667d6aac75a4fdc9b203ca7728c153a\n",
      "🧪 View experiment at: https://mlops-25-634030133521.us-west2.run.app/#/experiments/1\n"
     ]
    },
    {
     "name": "stderr",
     "output_type": "stream",
     "text": [
      "22it [00:09,  2.58it/s]"
     ]
    },
    {
     "name": "stdout",
     "output_type": "stream",
     "text": [
      "🏃 View run Decision Tree + Feature Selection - Combo 21 at: https://mlops-25-634030133521.us-west2.run.app/#/experiments/1/runs/e553b1fb16d944d2bad113db83ff6fdd\n",
      "🧪 View experiment at: https://mlops-25-634030133521.us-west2.run.app/#/experiments/1\n"
     ]
    },
    {
     "name": "stderr",
     "output_type": "stream",
     "text": [
      "23it [00:09,  2.55it/s]"
     ]
    },
    {
     "name": "stdout",
     "output_type": "stream",
     "text": [
      "🏃 View run Decision Tree + Feature Selection - Combo 22 at: https://mlops-25-634030133521.us-west2.run.app/#/experiments/1/runs/d7611493c755450589f7db82aedb4751\n",
      "🧪 View experiment at: https://mlops-25-634030133521.us-west2.run.app/#/experiments/1\n"
     ]
    },
    {
     "name": "stderr",
     "output_type": "stream",
     "text": [
      "24it [00:09,  2.63it/s]"
     ]
    },
    {
     "name": "stdout",
     "output_type": "stream",
     "text": [
      "🏃 View run Decision Tree + Feature Selection - Combo 23 at: https://mlops-25-634030133521.us-west2.run.app/#/experiments/1/runs/39992b5c92f44dc6a5fbc18cfcf0479c\n",
      "🧪 View experiment at: https://mlops-25-634030133521.us-west2.run.app/#/experiments/1\n"
     ]
    },
    {
     "name": "stderr",
     "output_type": "stream",
     "text": [
      "25it [00:10,  2.55it/s]"
     ]
    },
    {
     "name": "stdout",
     "output_type": "stream",
     "text": [
      "🏃 View run Decision Tree + Feature Selection - Combo 24 at: https://mlops-25-634030133521.us-west2.run.app/#/experiments/1/runs/9b5603d799b943038fe8c918f9392a12\n",
      "🧪 View experiment at: https://mlops-25-634030133521.us-west2.run.app/#/experiments/1\n"
     ]
    },
    {
     "name": "stderr",
     "output_type": "stream",
     "text": [
      "26it [00:10,  2.68it/s]"
     ]
    },
    {
     "name": "stdout",
     "output_type": "stream",
     "text": [
      "🏃 View run Decision Tree + Feature Selection - Combo 25 at: https://mlops-25-634030133521.us-west2.run.app/#/experiments/1/runs/450143c9a1fb469a81899ca28d483775\n",
      "🧪 View experiment at: https://mlops-25-634030133521.us-west2.run.app/#/experiments/1\n"
     ]
    },
    {
     "name": "stderr",
     "output_type": "stream",
     "text": [
      "27it [00:10,  2.53it/s]"
     ]
    },
    {
     "name": "stdout",
     "output_type": "stream",
     "text": [
      "🏃 View run Decision Tree + Feature Selection - Combo 26 at: https://mlops-25-634030133521.us-west2.run.app/#/experiments/1/runs/c4b251c4509b4eca8402a8a91b7441ed\n",
      "🧪 View experiment at: https://mlops-25-634030133521.us-west2.run.app/#/experiments/1\n"
     ]
    },
    {
     "name": "stderr",
     "output_type": "stream",
     "text": [
      "28it [00:11,  2.53it/s]"
     ]
    },
    {
     "name": "stdout",
     "output_type": "stream",
     "text": [
      "🏃 View run Decision Tree + Feature Selection - Combo 27 at: https://mlops-25-634030133521.us-west2.run.app/#/experiments/1/runs/44e14e6cabcc441c9ce0486591d43568\n",
      "🧪 View experiment at: https://mlops-25-634030133521.us-west2.run.app/#/experiments/1\n"
     ]
    },
    {
     "name": "stderr",
     "output_type": "stream",
     "text": [
      "29it [00:11,  2.51it/s]"
     ]
    },
    {
     "name": "stdout",
     "output_type": "stream",
     "text": [
      "🏃 View run Decision Tree + Feature Selection - Combo 28 at: https://mlops-25-634030133521.us-west2.run.app/#/experiments/1/runs/b91317f34db04cefaaecf2c45502ae5e\n",
      "🧪 View experiment at: https://mlops-25-634030133521.us-west2.run.app/#/experiments/1\n"
     ]
    },
    {
     "name": "stderr",
     "output_type": "stream",
     "text": [
      "30it [00:12,  2.62it/s]"
     ]
    },
    {
     "name": "stdout",
     "output_type": "stream",
     "text": [
      "🏃 View run Decision Tree + Feature Selection - Combo 29 at: https://mlops-25-634030133521.us-west2.run.app/#/experiments/1/runs/680a2d34b16c41b58f45baf5a6e2e100\n",
      "🧪 View experiment at: https://mlops-25-634030133521.us-west2.run.app/#/experiments/1\n"
     ]
    },
    {
     "name": "stderr",
     "output_type": "stream",
     "text": [
      "31it [00:12,  2.59it/s]"
     ]
    },
    {
     "name": "stdout",
     "output_type": "stream",
     "text": [
      "🏃 View run Decision Tree + Feature Selection - Combo 30 at: https://mlops-25-634030133521.us-west2.run.app/#/experiments/1/runs/800e019aace7449cab231d2d8c0d5c08\n",
      "🧪 View experiment at: https://mlops-25-634030133521.us-west2.run.app/#/experiments/1\n"
     ]
    },
    {
     "name": "stderr",
     "output_type": "stream",
     "text": [
      "32it [00:12,  2.64it/s]"
     ]
    },
    {
     "name": "stdout",
     "output_type": "stream",
     "text": [
      "🏃 View run Decision Tree + Feature Selection - Combo 31 at: https://mlops-25-634030133521.us-west2.run.app/#/experiments/1/runs/9497321c518c49d9b28a83dd2a159b57\n",
      "🧪 View experiment at: https://mlops-25-634030133521.us-west2.run.app/#/experiments/1\n"
     ]
    },
    {
     "name": "stderr",
     "output_type": "stream",
     "text": [
      "33it [00:13,  2.76it/s]"
     ]
    },
    {
     "name": "stdout",
     "output_type": "stream",
     "text": [
      "🏃 View run Decision Tree + Feature Selection - Combo 32 at: https://mlops-25-634030133521.us-west2.run.app/#/experiments/1/runs/055fd8668efc4f5298ac952252217127\n",
      "🧪 View experiment at: https://mlops-25-634030133521.us-west2.run.app/#/experiments/1\n"
     ]
    },
    {
     "name": "stderr",
     "output_type": "stream",
     "text": [
      "34it [00:13,  2.67it/s]"
     ]
    },
    {
     "name": "stdout",
     "output_type": "stream",
     "text": [
      "🏃 View run Decision Tree + Feature Selection - Combo 33 at: https://mlops-25-634030133521.us-west2.run.app/#/experiments/1/runs/1875aae1b8b647a2811ff5808a654840\n",
      "🧪 View experiment at: https://mlops-25-634030133521.us-west2.run.app/#/experiments/1\n"
     ]
    },
    {
     "name": "stderr",
     "output_type": "stream",
     "text": [
      "35it [00:14,  2.62it/s]"
     ]
    },
    {
     "name": "stdout",
     "output_type": "stream",
     "text": [
      "🏃 View run Decision Tree + Feature Selection - Combo 34 at: https://mlops-25-634030133521.us-west2.run.app/#/experiments/1/runs/2db12b1a19cf4435b9be05f2a76f37d4\n",
      "🧪 View experiment at: https://mlops-25-634030133521.us-west2.run.app/#/experiments/1\n"
     ]
    },
    {
     "name": "stderr",
     "output_type": "stream",
     "text": [
      "36it [00:14,  2.58it/s]"
     ]
    },
    {
     "name": "stdout",
     "output_type": "stream",
     "text": [
      "🏃 View run Decision Tree + Feature Selection - Combo 35 at: https://mlops-25-634030133521.us-west2.run.app/#/experiments/1/runs/c071702aaa7b436589a708bd510cd1b6\n",
      "🧪 View experiment at: https://mlops-25-634030133521.us-west2.run.app/#/experiments/1\n"
     ]
    },
    {
     "name": "stderr",
     "output_type": "stream",
     "text": [
      "37it [00:14,  2.69it/s]"
     ]
    },
    {
     "name": "stdout",
     "output_type": "stream",
     "text": [
      "🏃 View run Decision Tree + Feature Selection - Combo 36 at: https://mlops-25-634030133521.us-west2.run.app/#/experiments/1/runs/2066e6ae12824e5aa60ff5e7ebb3984f\n",
      "🧪 View experiment at: https://mlops-25-634030133521.us-west2.run.app/#/experiments/1\n"
     ]
    },
    {
     "name": "stderr",
     "output_type": "stream",
     "text": [
      "38it [00:15,  2.56it/s]"
     ]
    },
    {
     "name": "stdout",
     "output_type": "stream",
     "text": [
      "🏃 View run Decision Tree + Feature Selection - Combo 37 at: https://mlops-25-634030133521.us-west2.run.app/#/experiments/1/runs/20b1b3118732455e951a74fb139e3820\n",
      "🧪 View experiment at: https://mlops-25-634030133521.us-west2.run.app/#/experiments/1\n"
     ]
    },
    {
     "name": "stderr",
     "output_type": "stream",
     "text": [
      "39it [00:15,  2.57it/s]"
     ]
    },
    {
     "name": "stdout",
     "output_type": "stream",
     "text": [
      "🏃 View run Decision Tree + Feature Selection - Combo 38 at: https://mlops-25-634030133521.us-west2.run.app/#/experiments/1/runs/967c60023f024afbb0f8f2ba42382439\n",
      "🧪 View experiment at: https://mlops-25-634030133521.us-west2.run.app/#/experiments/1\n"
     ]
    },
    {
     "name": "stderr",
     "output_type": "stream",
     "text": [
      "40it [00:15,  2.71it/s]"
     ]
    },
    {
     "name": "stdout",
     "output_type": "stream",
     "text": [
      "🏃 View run Decision Tree + Feature Selection - Combo 39 at: https://mlops-25-634030133521.us-west2.run.app/#/experiments/1/runs/5ff4c672ee28425baef60a826abbb689\n",
      "🧪 View experiment at: https://mlops-25-634030133521.us-west2.run.app/#/experiments/1\n"
     ]
    },
    {
     "name": "stderr",
     "output_type": "stream",
     "text": [
      "41it [00:16,  2.41it/s]"
     ]
    },
    {
     "name": "stdout",
     "output_type": "stream",
     "text": [
      "🏃 View run Decision Tree + Feature Selection - Combo 40 at: https://mlops-25-634030133521.us-west2.run.app/#/experiments/1/runs/ae34b3df5e7241e9b21ccf8de6266cae\n",
      "🧪 View experiment at: https://mlops-25-634030133521.us-west2.run.app/#/experiments/1\n"
     ]
    },
    {
     "name": "stderr",
     "output_type": "stream",
     "text": [
      "42it [00:16,  2.41it/s]"
     ]
    },
    {
     "name": "stdout",
     "output_type": "stream",
     "text": [
      "🏃 View run Decision Tree + Feature Selection - Combo 41 at: https://mlops-25-634030133521.us-west2.run.app/#/experiments/1/runs/58ff3970ff4d46ce83d93836987efd62\n",
      "🧪 View experiment at: https://mlops-25-634030133521.us-west2.run.app/#/experiments/1\n"
     ]
    },
    {
     "name": "stderr",
     "output_type": "stream",
     "text": [
      "43it [00:17,  2.39it/s]"
     ]
    },
    {
     "name": "stdout",
     "output_type": "stream",
     "text": [
      "🏃 View run Decision Tree + Feature Selection - Combo 42 at: https://mlops-25-634030133521.us-west2.run.app/#/experiments/1/runs/6cc97d4ee6e24663a6f03682711c5c9b\n",
      "🧪 View experiment at: https://mlops-25-634030133521.us-west2.run.app/#/experiments/1\n"
     ]
    },
    {
     "name": "stderr",
     "output_type": "stream",
     "text": [
      "44it [00:17,  2.36it/s]"
     ]
    },
    {
     "name": "stdout",
     "output_type": "stream",
     "text": [
      "🏃 View run Decision Tree + Feature Selection - Combo 43 at: https://mlops-25-634030133521.us-west2.run.app/#/experiments/1/runs/7cffd96c7dbc4b1c9f1d31ee3ed9576c\n",
      "🧪 View experiment at: https://mlops-25-634030133521.us-west2.run.app/#/experiments/1\n"
     ]
    },
    {
     "name": "stderr",
     "output_type": "stream",
     "text": [
      "45it [00:18,  2.31it/s]"
     ]
    },
    {
     "name": "stdout",
     "output_type": "stream",
     "text": [
      "🏃 View run Decision Tree + Feature Selection - Combo 44 at: https://mlops-25-634030133521.us-west2.run.app/#/experiments/1/runs/98ebd60938964a32be4e7797513ea1b3\n",
      "🧪 View experiment at: https://mlops-25-634030133521.us-west2.run.app/#/experiments/1\n"
     ]
    },
    {
     "name": "stderr",
     "output_type": "stream",
     "text": [
      "46it [00:18,  2.20it/s]"
     ]
    },
    {
     "name": "stdout",
     "output_type": "stream",
     "text": [
      "🏃 View run Decision Tree + Feature Selection - Combo 45 at: https://mlops-25-634030133521.us-west2.run.app/#/experiments/1/runs/811dd6d062cd49bd9f441fa771aa53ca\n",
      "🧪 View experiment at: https://mlops-25-634030133521.us-west2.run.app/#/experiments/1\n"
     ]
    },
    {
     "name": "stderr",
     "output_type": "stream",
     "text": [
      "47it [00:19,  2.10it/s]"
     ]
    },
    {
     "name": "stdout",
     "output_type": "stream",
     "text": [
      "🏃 View run Decision Tree + Feature Selection - Combo 46 at: https://mlops-25-634030133521.us-west2.run.app/#/experiments/1/runs/716447c55d1841798865aced6077db80\n",
      "🧪 View experiment at: https://mlops-25-634030133521.us-west2.run.app/#/experiments/1\n"
     ]
    },
    {
     "name": "stderr",
     "output_type": "stream",
     "text": [
      "48it [00:19,  2.30it/s]"
     ]
    },
    {
     "name": "stdout",
     "output_type": "stream",
     "text": [
      "🏃 View run Decision Tree + Feature Selection - Combo 47 at: https://mlops-25-634030133521.us-west2.run.app/#/experiments/1/runs/cf516b5e4a064a16b75287e215ca9e95\n",
      "🧪 View experiment at: https://mlops-25-634030133521.us-west2.run.app/#/experiments/1\n"
     ]
    },
    {
     "name": "stderr",
     "output_type": "stream",
     "text": [
      "49it [00:19,  2.34it/s]"
     ]
    },
    {
     "name": "stdout",
     "output_type": "stream",
     "text": [
      "🏃 View run Decision Tree + Feature Selection - Combo 48 at: https://mlops-25-634030133521.us-west2.run.app/#/experiments/1/runs/37dac7237fb24eb688bce9d616d7a038\n",
      "🧪 View experiment at: https://mlops-25-634030133521.us-west2.run.app/#/experiments/1\n"
     ]
    },
    {
     "name": "stderr",
     "output_type": "stream",
     "text": [
      "50it [00:20,  2.39it/s]"
     ]
    },
    {
     "name": "stdout",
     "output_type": "stream",
     "text": [
      "🏃 View run Decision Tree + Feature Selection - Combo 49 at: https://mlops-25-634030133521.us-west2.run.app/#/experiments/1/runs/4dd764e6340841feabe8b68521af014d\n",
      "🧪 View experiment at: https://mlops-25-634030133521.us-west2.run.app/#/experiments/1\n"
     ]
    },
    {
     "name": "stderr",
     "output_type": "stream",
     "text": [
      "51it [00:20,  2.45it/s]"
     ]
    },
    {
     "name": "stdout",
     "output_type": "stream",
     "text": [
      "🏃 View run Decision Tree + Feature Selection - Combo 50 at: https://mlops-25-634030133521.us-west2.run.app/#/experiments/1/runs/9a21016f2a9644d79072dc2121da4a9c\n",
      "🧪 View experiment at: https://mlops-25-634030133521.us-west2.run.app/#/experiments/1\n"
     ]
    },
    {
     "name": "stderr",
     "output_type": "stream",
     "text": [
      "52it [00:21,  2.58it/s]"
     ]
    },
    {
     "name": "stdout",
     "output_type": "stream",
     "text": [
      "🏃 View run Decision Tree + Feature Selection - Combo 51 at: https://mlops-25-634030133521.us-west2.run.app/#/experiments/1/runs/5aa890ac42554880b9b70b33ab3a2e1b\n",
      "🧪 View experiment at: https://mlops-25-634030133521.us-west2.run.app/#/experiments/1\n"
     ]
    },
    {
     "name": "stderr",
     "output_type": "stream",
     "text": [
      "53it [00:21,  2.56it/s]"
     ]
    },
    {
     "name": "stdout",
     "output_type": "stream",
     "text": [
      "🏃 View run Decision Tree + Feature Selection - Combo 52 at: https://mlops-25-634030133521.us-west2.run.app/#/experiments/1/runs/e8dac691cde74455a296d2de3fe5b4e7\n",
      "🧪 View experiment at: https://mlops-25-634030133521.us-west2.run.app/#/experiments/1\n"
     ]
    },
    {
     "name": "stderr",
     "output_type": "stream",
     "text": [
      "54it [00:21,  2.48it/s]"
     ]
    },
    {
     "name": "stdout",
     "output_type": "stream",
     "text": [
      "🏃 View run Decision Tree + Feature Selection - Combo 53 at: https://mlops-25-634030133521.us-west2.run.app/#/experiments/1/runs/54240369aaa840469ee9da21b9de72bc\n",
      "🧪 View experiment at: https://mlops-25-634030133521.us-west2.run.app/#/experiments/1\n"
     ]
    },
    {
     "name": "stderr",
     "output_type": "stream",
     "text": [
      "55it [00:22,  2.39it/s]"
     ]
    },
    {
     "name": "stdout",
     "output_type": "stream",
     "text": [
      "🏃 View run Decision Tree + Feature Selection - Combo 54 at: https://mlops-25-634030133521.us-west2.run.app/#/experiments/1/runs/e5b6773c2c824d2e87b44504c1c68fa1\n",
      "🧪 View experiment at: https://mlops-25-634030133521.us-west2.run.app/#/experiments/1\n"
     ]
    },
    {
     "name": "stderr",
     "output_type": "stream",
     "text": [
      "56it [00:22,  2.55it/s]"
     ]
    },
    {
     "name": "stdout",
     "output_type": "stream",
     "text": [
      "🏃 View run Decision Tree + Feature Selection - Combo 55 at: https://mlops-25-634030133521.us-west2.run.app/#/experiments/1/runs/13a6665d512145e28d4798c0cb6ab066\n",
      "🧪 View experiment at: https://mlops-25-634030133521.us-west2.run.app/#/experiments/1\n"
     ]
    },
    {
     "name": "stderr",
     "output_type": "stream",
     "text": [
      "57it [00:23,  2.42it/s]"
     ]
    },
    {
     "name": "stdout",
     "output_type": "stream",
     "text": [
      "🏃 View run Decision Tree + Feature Selection - Combo 56 at: https://mlops-25-634030133521.us-west2.run.app/#/experiments/1/runs/08e586afc7544b5688778a0aa93536ce\n",
      "🧪 View experiment at: https://mlops-25-634030133521.us-west2.run.app/#/experiments/1\n"
     ]
    },
    {
     "name": "stderr",
     "output_type": "stream",
     "text": [
      "58it [00:23,  2.41it/s]"
     ]
    },
    {
     "name": "stdout",
     "output_type": "stream",
     "text": [
      "🏃 View run Decision Tree + Feature Selection - Combo 57 at: https://mlops-25-634030133521.us-west2.run.app/#/experiments/1/runs/00eb42cd809846de9bca36f97aef59c9\n",
      "🧪 View experiment at: https://mlops-25-634030133521.us-west2.run.app/#/experiments/1\n"
     ]
    },
    {
     "name": "stderr",
     "output_type": "stream",
     "text": [
      "59it [00:23,  2.35it/s]"
     ]
    },
    {
     "name": "stdout",
     "output_type": "stream",
     "text": [
      "🏃 View run Decision Tree + Feature Selection - Combo 58 at: https://mlops-25-634030133521.us-west2.run.app/#/experiments/1/runs/913d8007e3f14e2fa4f035011a14e492\n",
      "🧪 View experiment at: https://mlops-25-634030133521.us-west2.run.app/#/experiments/1\n"
     ]
    },
    {
     "name": "stderr",
     "output_type": "stream",
     "text": [
      "60it [00:24,  2.43it/s]"
     ]
    },
    {
     "name": "stdout",
     "output_type": "stream",
     "text": [
      "🏃 View run Decision Tree + Feature Selection - Combo 59 at: https://mlops-25-634030133521.us-west2.run.app/#/experiments/1/runs/ca74c2ad8ca64371a2e8bd56ec257a7b\n",
      "🧪 View experiment at: https://mlops-25-634030133521.us-west2.run.app/#/experiments/1\n"
     ]
    },
    {
     "name": "stderr",
     "output_type": "stream",
     "text": [
      "61it [00:24,  2.59it/s]"
     ]
    },
    {
     "name": "stdout",
     "output_type": "stream",
     "text": [
      "🏃 View run Decision Tree + Feature Selection - Combo 60 at: https://mlops-25-634030133521.us-west2.run.app/#/experiments/1/runs/83f581635c1f45b2bda3db2ed5fe4938\n",
      "🧪 View experiment at: https://mlops-25-634030133521.us-west2.run.app/#/experiments/1\n"
     ]
    },
    {
     "name": "stderr",
     "output_type": "stream",
     "text": [
      "62it [00:25,  2.47it/s]"
     ]
    },
    {
     "name": "stdout",
     "output_type": "stream",
     "text": [
      "🏃 View run Decision Tree + Feature Selection - Combo 61 at: https://mlops-25-634030133521.us-west2.run.app/#/experiments/1/runs/aa4541f63ea245d2bb6449497dab07c6\n",
      "🧪 View experiment at: https://mlops-25-634030133521.us-west2.run.app/#/experiments/1\n"
     ]
    },
    {
     "name": "stderr",
     "output_type": "stream",
     "text": [
      "63it [00:25,  2.43it/s]"
     ]
    },
    {
     "name": "stdout",
     "output_type": "stream",
     "text": [
      "🏃 View run Decision Tree + Feature Selection - Combo 62 at: https://mlops-25-634030133521.us-west2.run.app/#/experiments/1/runs/535766b1f9544ff5b3a6ed2a539f823e\n",
      "🧪 View experiment at: https://mlops-25-634030133521.us-west2.run.app/#/experiments/1\n"
     ]
    },
    {
     "name": "stderr",
     "output_type": "stream",
     "text": [
      "64it [00:25,  2.41it/s]"
     ]
    },
    {
     "name": "stdout",
     "output_type": "stream",
     "text": [
      "🏃 View run Decision Tree + Feature Selection - Combo 63 at: https://mlops-25-634030133521.us-west2.run.app/#/experiments/1/runs/b6a8118b164646ee8bd256798c3eebd4\n",
      "🧪 View experiment at: https://mlops-25-634030133521.us-west2.run.app/#/experiments/1\n"
     ]
    },
    {
     "name": "stderr",
     "output_type": "stream",
     "text": [
      "65it [00:26,  2.56it/s]"
     ]
    },
    {
     "name": "stdout",
     "output_type": "stream",
     "text": [
      "🏃 View run Decision Tree + Feature Selection - Combo 64 at: https://mlops-25-634030133521.us-west2.run.app/#/experiments/1/runs/e2ef85f85239444a92cb4bb735d6966c\n",
      "🧪 View experiment at: https://mlops-25-634030133521.us-west2.run.app/#/experiments/1\n"
     ]
    },
    {
     "name": "stderr",
     "output_type": "stream",
     "text": [
      "66it [00:26,  2.55it/s]"
     ]
    },
    {
     "name": "stdout",
     "output_type": "stream",
     "text": [
      "🏃 View run Decision Tree + Feature Selection - Combo 65 at: https://mlops-25-634030133521.us-west2.run.app/#/experiments/1/runs/ca929658f6c74ddba553a961ba509355\n",
      "🧪 View experiment at: https://mlops-25-634030133521.us-west2.run.app/#/experiments/1\n"
     ]
    },
    {
     "name": "stderr",
     "output_type": "stream",
     "text": [
      "67it [00:27,  2.47it/s]"
     ]
    },
    {
     "name": "stdout",
     "output_type": "stream",
     "text": [
      "🏃 View run Decision Tree + Feature Selection - Combo 66 at: https://mlops-25-634030133521.us-west2.run.app/#/experiments/1/runs/2ee2e98f09654dc3b586d692b2795f44\n",
      "🧪 View experiment at: https://mlops-25-634030133521.us-west2.run.app/#/experiments/1\n"
     ]
    },
    {
     "name": "stderr",
     "output_type": "stream",
     "text": [
      "68it [00:27,  2.44it/s]"
     ]
    },
    {
     "name": "stdout",
     "output_type": "stream",
     "text": [
      "🏃 View run Decision Tree + Feature Selection - Combo 67 at: https://mlops-25-634030133521.us-west2.run.app/#/experiments/1/runs/e6fee828324f48d1b4673a2c956f27e9\n",
      "🧪 View experiment at: https://mlops-25-634030133521.us-west2.run.app/#/experiments/1\n"
     ]
    },
    {
     "name": "stderr",
     "output_type": "stream",
     "text": [
      "69it [00:27,  2.57it/s]"
     ]
    },
    {
     "name": "stdout",
     "output_type": "stream",
     "text": [
      "🏃 View run Decision Tree + Feature Selection - Combo 68 at: https://mlops-25-634030133521.us-west2.run.app/#/experiments/1/runs/6fd291557c9b45ab81da20b00452d62d\n",
      "🧪 View experiment at: https://mlops-25-634030133521.us-west2.run.app/#/experiments/1\n"
     ]
    },
    {
     "name": "stderr",
     "output_type": "stream",
     "text": [
      "70it [00:28,  2.56it/s]"
     ]
    },
    {
     "name": "stdout",
     "output_type": "stream",
     "text": [
      "🏃 View run Decision Tree + Feature Selection - Combo 69 at: https://mlops-25-634030133521.us-west2.run.app/#/experiments/1/runs/0ca7a435aff44382afb57ff00f2dc3e9\n",
      "🧪 View experiment at: https://mlops-25-634030133521.us-west2.run.app/#/experiments/1\n"
     ]
    },
    {
     "name": "stderr",
     "output_type": "stream",
     "text": [
      "71it [00:28,  2.53it/s]"
     ]
    },
    {
     "name": "stdout",
     "output_type": "stream",
     "text": [
      "🏃 View run Decision Tree + Feature Selection - Combo 70 at: https://mlops-25-634030133521.us-west2.run.app/#/experiments/1/runs/8115c5a2c1fc4e3f94aee0b95c2ce7b4\n",
      "🧪 View experiment at: https://mlops-25-634030133521.us-west2.run.app/#/experiments/1\n"
     ]
    },
    {
     "name": "stderr",
     "output_type": "stream",
     "text": [
      "72it [00:29,  2.47it/s]"
     ]
    },
    {
     "name": "stdout",
     "output_type": "stream",
     "text": [
      "🏃 View run Decision Tree + Feature Selection - Combo 71 at: https://mlops-25-634030133521.us-west2.run.app/#/experiments/1/runs/2ffffd8b57bd46e9b0374e6911799863\n",
      "🧪 View experiment at: https://mlops-25-634030133521.us-west2.run.app/#/experiments/1\n"
     ]
    },
    {
     "name": "stderr",
     "output_type": "stream",
     "text": [
      "\n"
     ]
    }
   ],
   "source": [
    "feature_selector = SelectFromModel(RandomForestClassifier(n_estimators=200, random_state=42))\n",
    "\n",
    "# Classifier pipeline\n",
    "pipeline = Pipeline(steps=[\n",
    "    (\"preprocessor\", preprocessor),\n",
    "    (\"feature_selection\", feature_selector),\n",
    "    (\"classifier\", DecisionTreeClassifier(random_state=42))\n",
    "])\n",
    "\n",
    "# Hyperparameter grid\n",
    "param_grid = {\n",
    "    \"feature_selection__threshold\": [\"mean\", \"median\", 0.01],\n",
    "    \"classifier__n_estimators\": [100, 200],\n",
    "    \"classifier__max_depth\": [None, 5, 10],\n",
    "    \"classifier__min_samples_split\": [2, 5],\n",
    "    \"classifier__criterion\": [\"gini\", \"entropy\"]\n",
    "}\n",
    "\n",
    "# Parameter Grid\n",
    "grid = ParameterGrid(param_grid)\n",
    "\n",
    "# Running the different experiments\n",
    "run_experiments_w_feature_selection(pipeline, grid, \"Decision Tree + Feature Selection\")"
   ]
  },
  {
   "cell_type": "markdown",
   "metadata": {},
   "source": [
    "# The best model"
   ]
  },
  {
   "cell_type": "code",
   "execution_count": 32,
   "metadata": {},
   "outputs": [
    {
     "name": "stderr",
     "output_type": "stream",
     "text": [
      "/opt/homebrew/anaconda3/envs/mlops/lib/python3.12/site-packages/tqdm/auto.py:21: TqdmWarning: IProgress not found. Please update jupyter and ipywidgets. See https://ipywidgets.readthedocs.io/en/stable/user_install.html\n",
      "  from .autonotebook import tqdm as notebook_tqdm\n",
      "Downloading artifacts: 100%|██████████| 7/7 [00:00<00:00,  7.41it/s]\n",
      "Successfully registered model 'PCOS_LogReg_Final'.\n",
      "2025/04/17 14:43:45 INFO mlflow.store.model_registry.abstract_store: Waiting up to 300 seconds for model version to finish creation. Model name: PCOS_LogReg_Final, version 1\n",
      "Created version '1' of model 'PCOS_LogReg_Final'.\n"
     ]
    },
    {
     "name": "stdout",
     "output_type": "stream",
     "text": [
      "Loaded model from run ID and logged final test result!\n",
      "Test Accuracy: 0.7857142857142857\n",
      "🏃 View run Final Model Evaluation at: https://mlops-25-634030133521.us-west2.run.app/#/experiments/1/runs/8e4d93eb2b2e423ab53a2f0e5343cced\n",
      "🧪 View experiment at: https://mlops-25-634030133521.us-west2.run.app/#/experiments/1\n"
     ]
    }
   ],
   "source": [
    "# Replace this with your actual run ID\n",
    "run_id = \"267eb1cc02284518b278875ecd9846c8\"\n",
    "logged_model_uri = f\"runs:/{run_id}/model\"\n",
    "\n",
    "# Load the model\n",
    "model = mlflow.sklearn.load_model(logged_model_uri)\n",
    "\n",
    "# Run it on your test set\n",
    "y_pred = model.predict(X_test)\n",
    "test_accuracy = accuracy_score(y_test, y_pred)\n",
    "\n",
    "with mlflow.start_run(run_name=\"Final Model Evaluation\"):\n",
    "    mlflow.set_tag(\"source_run_id\", run_id)\n",
    "    mlflow.log_metric(\"final_test_accuracy\", test_accuracy)\n",
    "\n",
    "    # Optionally re-log the model to staging\n",
    "    mlflow.sklearn.log_model(\n",
    "        sk_model=model,\n",
    "        artifact_path=\"model\",\n",
    "        input_example=X_test.iloc[[0]],\n",
    "        signature=mlflow.models.infer_signature(X_test.iloc[[0]], model.predict(X_test.iloc[[0]])),\n",
    "        registered_model_name=\"PCOS_LogReg_Final\"\n",
    "    )\n",
    "\n",
    "    print(\"Loaded model from run ID and logged final test result!\")\n",
    "    print(\"Test Accuracy:\", test_accuracy)"
   ]
  }
 ],
 "metadata": {
  "kernelspec": {
   "display_name": "mlops",
   "language": "python",
   "name": "python3"
  },
  "language_info": {
   "codemirror_mode": {
    "name": "ipython",
    "version": 3
   },
   "file_extension": ".py",
   "mimetype": "text/x-python",
   "name": "python",
   "nbconvert_exporter": "python",
   "pygments_lexer": "ipython3",
   "version": "3.12.2"
  }
 },
 "nbformat": 4,
 "nbformat_minor": 2
}
